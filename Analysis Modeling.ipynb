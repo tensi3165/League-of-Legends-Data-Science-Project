{
 "cells": [
  {
   "cell_type": "markdown",
   "execution_count": null,
   "metadata": {},
   "source": [
    "# League of legend Winner team predict to Using Riot API\n",
    "\n",
    "2019 데이터분석 개인 프로젝트 리메이크\n",
    "\n",
    "리그 오브 레전드 경기 기록을 수집하고, 가공하여 승률에 영향을 주는 요인 분석과 실시간 스코어 변동에 따른 승률 예측 프로젝트\n",
    "\n",
    "A project to collect league-of-legend game records to analyze the factors that affect victory and to predict winning rates based on real-time score fluctuations."
   ]
  },
  {
   "cell_type": "code",
   "execution_count": 1,
   "metadata": {
    "_cell_guid": "b1076dfc-b9ad-4769-8c92-a6c4dae69d19",
    "_uuid": "8f2839f25d086af736a60e9eeb907d3b93b6e0e5"
   },
   "outputs": [
    {
     "name": "stdout",
     "output_type": "stream",
     "text": [
      "/kaggle/input/lol-classic-rank-game-datakrtop-3-tier/lose_team_stats.csv\n",
      "/kaggle/input/lol-classic-rank-game-datakrtop-3-tier/match_winner_data.pkl\n",
      "/kaggle/input/lol-classic-rank-game-datakrtop-3-tier/match_ver1.pkl\n",
      "/kaggle/input/lol-classic-rank-game-datakrtop-3-tier/matchpre.pkl\n",
      "/kaggle/input/lol-classic-rank-game-datakrtop-3-tier/win_team_stats.csv\n",
      "/kaggle/input/lol-classic-rank-game-datakrtop-3-tier/match_lose_data.pkl\n",
      "/kaggle/input/lol-classic-rank-game-datakrtop-3-tier/stats.csv\n",
      "/kaggle/input/lol-classic-rank-game-datakrtop-3-tier/lol_version_Date.csv\n"
     ]
    }
   ],
   "source": [
    "# This Python 3 environment comes with many helpful analytics libraries installed\n",
    "# It is defined by the kaggle/python Docker image: https://github.com/kaggle/docker-python\n",
    "# For example, here's several helpful packages to load\n",
    "# Input data files are available in the read-only \"../input/\" directory\n",
    "# For example, running this (by clicking run or pressing Shift+Enter) will list all files under the input directory\n",
    "\n",
    "import os\n",
    "for dirname, _, filenames in os.walk('/kaggle/input'):\n",
    "    for filename in filenames:\n",
    "        print(os.path.join(dirname, filename))\n",
    "\n",
    "# You can write up to 5GB to the current directory (/kaggle/working/) that gets preserved as output when you create a version using \"Save & Run All\" \n",
    "# You can also write temporary files to /kaggle/temp/, but they won't be saved outside of the current session"
   ]
  },
  {
   "cell_type": "code",
   "execution_count": 2,
   "metadata": {
    "_cell_guid": "79c7e3d0-c299-4dcb-8224-4455121ee9b0",
    "_uuid": "d629ff2d2480ee46fbb7e2d37f6b5fab8052498a"
   },
   "outputs": [],
   "source": [
    "import numpy as np # linear algebra\n",
    "import pandas as pd # data processing, CSV file I/O (e.g. pd.read_csv)\n",
    "import pickle\n",
    "import matplotlib.pyplot as plt\n",
    "import seaborn as sns\n",
    "import gc\n",
    "from tqdm import tqdm_notebook # 오래 걸리는 작업 진행확인용\n",
    "import warnings\n",
    "warnings.filterwarnings(action='ignore')"
   ]
  },
  {
   "cell_type": "code",
   "execution_count": 3,
   "metadata": {},
   "outputs": [],
   "source": [
    "pd.options.display.max_rows = 100"
   ]
  },
  {
   "cell_type": "code",
   "execution_count": 4,
   "metadata": {},
   "outputs": [],
   "source": [
    "match = pd.read_pickle(\"/kaggle/input/lol-classic-rank-game-datakrtop-3-tier/matchpre.pkl\")\n",
    "\n",
    "win_team_stat = pd.read_csv(\"/kaggle/input/lol-classic-rank-game-datakrtop-3-tier/win_team_stats.csv\")\n",
    "\n",
    "lose_team_stat = pd.read_csv(\"/kaggle/input/lol-classic-rank-game-datakrtop-3-tier/lose_team_stats.csv\")\n",
    "\n",
    "win_team = pd.read_pickle(\"/kaggle/input/lol-classic-rank-game-datakrtop-3-tier/match_winner_data.pkl\")\n",
    "\n",
    "lose_team = pd.read_pickle(\"/kaggle/input/lol-classic-rank-game-datakrtop-3-tier/match_lose_data.pkl\")\n",
    "\n",
    "date = pd.read_csv(\"/kaggle/input/lol-classic-rank-game-datakrtop-3-tier/lol_version_Date.csv\")"
   ]
  },
  {
   "cell_type": "code",
   "execution_count": 5,
   "metadata": {},
   "outputs": [],
   "source": [
    "\"\"\"\n",
    "팀 스탯 row 와 팀 기록 row 일치시키기\n",
    "\"\"\"\n",
    "gameId = win_team_stat[\"gameId\"]\n",
    "match = pd.merge(gameId,match,how=\"inner\",on=\"gameId\")\n",
    "win_team = pd.merge(gameId,win_team,how=\"inner\",on=\"gameId\")\n",
    "lose_team = pd.merge(gameId,lose_team,how=\"inner\",on=\"gameId\")\n",
    "\n",
    "\"\"\"\n",
    "duplicated() 함수는 리스트에 대한 중복검사를 지원하지 않으므로 리스트 칼럼 삭제\n",
    "\"\"\"\n",
    "match.drop(\"participants\",axis=1,inplace=True)\n",
    "\n",
    "win_team.drop(\"bans\",axis=1,inplace=True)\n",
    "\n",
    "lose_team.drop(\"bans\",axis=1,inplace=True)\n",
    "\n",
    "match = match.drop_duplicates()\n",
    "win_team = win_team.drop_duplicates()\n",
    "lose_team = lose_team.drop_duplicates()\n",
    "\n",
    "win_team_stat = win_team_stat.drop_duplicates()\n",
    "lose_team_stat = lose_team_stat.drop_duplicates()\n",
    "\n",
    "\"\"\"\n",
    "win_team, lose_team으로 나누어 모든 테이블 병합\n",
    "\"\"\"\n",
    "win_team = pd.merge(match,win_team,how=\"left\",on=\"gameId\")\n",
    "win_team = pd.merge(win_team,win_team_stat,how=\"left\",on=\"gameId\")\n",
    "\n",
    "lose_team = pd.merge(match,lose_team,how=\"left\",on=\"gameId\")\n",
    "lose_team = pd.merge(lose_team,lose_team_stat,how=\"left\",on=\"gameId\")\n",
    "\n",
    "del match\n",
    "gc.collect()\n",
    "\n",
    "\"\"\"\n",
    "팀 데이터셋을 전체 데이터로 병합하기 전에 칼럼명 일치시키기\n",
    "\"\"\"\n",
    "win_team.columns = win_team.columns.str.replace(\"win_\",\"\")\n",
    "\n",
    "lose_team.columns = lose_team.columns.str.replace(\"lose_\",\"\")\n",
    "\n",
    "\"\"\"\n",
    "전체 게임 정보 gamedata 테이블 생성\n",
    "\"\"\"\n",
    "gamedata = pd.concat([win_team,lose_team])\n",
    "gamedata = gamedata.reset_index()\n",
    "gamedata.drop(\"index\",axis=1,inplace=True)\n",
    "gamedata = gamedata.astype({\"gameVersion\":int})\n",
    "gamedata = pd.merge(gamedata,date,how=\"inner\",on=\"gameVersion\")\n",
    "\n",
    "del win_team\n",
    "del lose_team\n",
    "gc.collect()\n",
    "\n",
    "\"\"\"\n",
    "카테고리형 데이터(True,False) Label encoding / 분석에 용이하도록 가공\n",
    "\"\"\"\n",
    "bool_mapping = {True:1,False:0}\n",
    "bool_col = gamedata.select_dtypes('bool').columns.tolist()\n",
    "\n",
    "for col in bool_col:\n",
    "    gamedata[col] = gamedata[col].map(bool_mapping)\n",
    "    \n",
    "win_mapping = {\"Win\":1,\"Fail\":0}\n",
    "gamedata[\"win\"] = gamedata[\"win\"].map(win_mapping)\n",
    "\n",
    "gamedata[\"date\"] = pd.to_datetime(gamedata[\"date\"])\n",
    "gamedata[\"gameId\"] = gamedata.astype({\"gameId\":object})"
   ]
  },
  {
   "cell_type": "code",
   "execution_count": 6,
   "metadata": {},
   "outputs": [
    {
     "data": {
      "text/html": [
       "<div>\n",
       "<style scoped>\n",
       "    .dataframe tbody tr th:only-of-type {\n",
       "        vertical-align: middle;\n",
       "    }\n",
       "\n",
       "    .dataframe tbody tr th {\n",
       "        vertical-align: top;\n",
       "    }\n",
       "\n",
       "    .dataframe thead th {\n",
       "        text-align: right;\n",
       "    }\n",
       "</style>\n",
       "<table border=\"1\" class=\"dataframe\">\n",
       "  <thead>\n",
       "    <tr style=\"text-align: right;\">\n",
       "      <th></th>\n",
       "      <th>gameId</th>\n",
       "      <th>gameDuration</th>\n",
       "      <th>gameVersion</th>\n",
       "      <th>teamId</th>\n",
       "      <th>win</th>\n",
       "      <th>firstBlood</th>\n",
       "      <th>firstTower</th>\n",
       "      <th>firstInhibitor</th>\n",
       "      <th>firstBaron</th>\n",
       "      <th>firstDragon</th>\n",
       "      <th>...</th>\n",
       "      <th>visionScore2</th>\n",
       "      <th>visionScore3</th>\n",
       "      <th>visionScore4</th>\n",
       "      <th>visionScore5</th>\n",
       "      <th>totalTimeCrowdControlDealt1</th>\n",
       "      <th>totalTimeCrowdControlDealt2</th>\n",
       "      <th>totalTimeCrowdControlDealt3</th>\n",
       "      <th>totalTimeCrowdControlDealt4</th>\n",
       "      <th>totalTimeCrowdControlDealt5</th>\n",
       "      <th>date</th>\n",
       "    </tr>\n",
       "  </thead>\n",
       "  <tbody>\n",
       "    <tr>\n",
       "      <th>0</th>\n",
       "      <td>4.24726e+09</td>\n",
       "      <td>1323.0</td>\n",
       "      <td>1063144405</td>\n",
       "      <td>200</td>\n",
       "      <td>1</td>\n",
       "      <td>0</td>\n",
       "      <td>1</td>\n",
       "      <td>1</td>\n",
       "      <td>0</td>\n",
       "      <td>1</td>\n",
       "      <td>...</td>\n",
       "      <td>16.0</td>\n",
       "      <td>23.0</td>\n",
       "      <td>17.0</td>\n",
       "      <td>36.0</td>\n",
       "      <td>183.0</td>\n",
       "      <td>92.0</td>\n",
       "      <td>231.0</td>\n",
       "      <td>54.0</td>\n",
       "      <td>281.0</td>\n",
       "      <td>2020-03-25</td>\n",
       "    </tr>\n",
       "    <tr>\n",
       "      <th>1</th>\n",
       "      <td>4.24716e+09</td>\n",
       "      <td>1317.0</td>\n",
       "      <td>1063144405</td>\n",
       "      <td>100</td>\n",
       "      <td>1</td>\n",
       "      <td>0</td>\n",
       "      <td>0</td>\n",
       "      <td>0</td>\n",
       "      <td>0</td>\n",
       "      <td>1</td>\n",
       "      <td>...</td>\n",
       "      <td>27.0</td>\n",
       "      <td>46.0</td>\n",
       "      <td>16.0</td>\n",
       "      <td>22.0</td>\n",
       "      <td>33.0</td>\n",
       "      <td>291.0</td>\n",
       "      <td>31.0</td>\n",
       "      <td>235.0</td>\n",
       "      <td>407.0</td>\n",
       "      <td>2020-03-25</td>\n",
       "    </tr>\n",
       "    <tr>\n",
       "      <th>2</th>\n",
       "      <td>4.2558e+09</td>\n",
       "      <td>1244.0</td>\n",
       "      <td>1063144405</td>\n",
       "      <td>200</td>\n",
       "      <td>1</td>\n",
       "      <td>1</td>\n",
       "      <td>1</td>\n",
       "      <td>1</td>\n",
       "      <td>0</td>\n",
       "      <td>1</td>\n",
       "      <td>...</td>\n",
       "      <td>35.0</td>\n",
       "      <td>25.0</td>\n",
       "      <td>15.0</td>\n",
       "      <td>21.0</td>\n",
       "      <td>178.0</td>\n",
       "      <td>82.0</td>\n",
       "      <td>371.0</td>\n",
       "      <td>140.0</td>\n",
       "      <td>122.0</td>\n",
       "      <td>2020-03-25</td>\n",
       "    </tr>\n",
       "    <tr>\n",
       "      <th>3</th>\n",
       "      <td>4.25576e+09</td>\n",
       "      <td>962.0</td>\n",
       "      <td>1063144405</td>\n",
       "      <td>200</td>\n",
       "      <td>1</td>\n",
       "      <td>0</td>\n",
       "      <td>1</td>\n",
       "      <td>0</td>\n",
       "      <td>0</td>\n",
       "      <td>1</td>\n",
       "      <td>...</td>\n",
       "      <td>25.0</td>\n",
       "      <td>17.0</td>\n",
       "      <td>9.0</td>\n",
       "      <td>19.0</td>\n",
       "      <td>134.0</td>\n",
       "      <td>61.0</td>\n",
       "      <td>332.0</td>\n",
       "      <td>274.0</td>\n",
       "      <td>163.0</td>\n",
       "      <td>2020-03-25</td>\n",
       "    </tr>\n",
       "    <tr>\n",
       "      <th>4</th>\n",
       "      <td>4.25566e+09</td>\n",
       "      <td>1632.0</td>\n",
       "      <td>1063144405</td>\n",
       "      <td>200</td>\n",
       "      <td>1</td>\n",
       "      <td>1</td>\n",
       "      <td>1</td>\n",
       "      <td>1</td>\n",
       "      <td>1</td>\n",
       "      <td>0</td>\n",
       "      <td>...</td>\n",
       "      <td>38.0</td>\n",
       "      <td>30.0</td>\n",
       "      <td>18.0</td>\n",
       "      <td>26.0</td>\n",
       "      <td>69.0</td>\n",
       "      <td>503.0</td>\n",
       "      <td>562.0</td>\n",
       "      <td>79.0</td>\n",
       "      <td>69.0</td>\n",
       "      <td>2020-03-25</td>\n",
       "    </tr>\n",
       "    <tr>\n",
       "      <th>...</th>\n",
       "      <td>...</td>\n",
       "      <td>...</td>\n",
       "      <td>...</td>\n",
       "      <td>...</td>\n",
       "      <td>...</td>\n",
       "      <td>...</td>\n",
       "      <td>...</td>\n",
       "      <td>...</td>\n",
       "      <td>...</td>\n",
       "      <td>...</td>\n",
       "      <td>...</td>\n",
       "      <td>...</td>\n",
       "      <td>...</td>\n",
       "      <td>...</td>\n",
       "      <td>...</td>\n",
       "      <td>...</td>\n",
       "      <td>...</td>\n",
       "      <td>...</td>\n",
       "      <td>...</td>\n",
       "      <td>...</td>\n",
       "      <td>...</td>\n",
       "    </tr>\n",
       "    <tr>\n",
       "      <th>180923</th>\n",
       "      <td>3.49913e+09</td>\n",
       "      <td>1179.0</td>\n",
       "      <td>912577563</td>\n",
       "      <td>200</td>\n",
       "      <td>0</td>\n",
       "      <td>0</td>\n",
       "      <td>0</td>\n",
       "      <td>0</td>\n",
       "      <td>0</td>\n",
       "      <td>0</td>\n",
       "      <td>...</td>\n",
       "      <td>21.0</td>\n",
       "      <td>22.0</td>\n",
       "      <td>18.0</td>\n",
       "      <td>10.0</td>\n",
       "      <td>67.0</td>\n",
       "      <td>155.0</td>\n",
       "      <td>56.0</td>\n",
       "      <td>553.0</td>\n",
       "      <td>124.0</td>\n",
       "      <td>2018-12-15</td>\n",
       "    </tr>\n",
       "    <tr>\n",
       "      <th>180924</th>\n",
       "      <td>3.50385e+09</td>\n",
       "      <td>1684.0</td>\n",
       "      <td>912577563</td>\n",
       "      <td>100</td>\n",
       "      <td>0</td>\n",
       "      <td>0</td>\n",
       "      <td>0</td>\n",
       "      <td>0</td>\n",
       "      <td>0</td>\n",
       "      <td>1</td>\n",
       "      <td>...</td>\n",
       "      <td>30.0</td>\n",
       "      <td>14.0</td>\n",
       "      <td>19.0</td>\n",
       "      <td>27.0</td>\n",
       "      <td>127.0</td>\n",
       "      <td>1454.0</td>\n",
       "      <td>540.0</td>\n",
       "      <td>48.0</td>\n",
       "      <td>555.0</td>\n",
       "      <td>2018-12-15</td>\n",
       "    </tr>\n",
       "    <tr>\n",
       "      <th>180925</th>\n",
       "      <td>3.49546e+09</td>\n",
       "      <td>1464.0</td>\n",
       "      <td>912577563</td>\n",
       "      <td>100</td>\n",
       "      <td>0</td>\n",
       "      <td>1</td>\n",
       "      <td>1</td>\n",
       "      <td>0</td>\n",
       "      <td>0</td>\n",
       "      <td>0</td>\n",
       "      <td>...</td>\n",
       "      <td>51.0</td>\n",
       "      <td>17.0</td>\n",
       "      <td>14.0</td>\n",
       "      <td>21.0</td>\n",
       "      <td>622.0</td>\n",
       "      <td>80.0</td>\n",
       "      <td>536.0</td>\n",
       "      <td>0.0</td>\n",
       "      <td>112.0</td>\n",
       "      <td>2018-12-15</td>\n",
       "    </tr>\n",
       "    <tr>\n",
       "      <th>180926</th>\n",
       "      <td>3.49913e+09</td>\n",
       "      <td>1694.0</td>\n",
       "      <td>912577563</td>\n",
       "      <td>200</td>\n",
       "      <td>0</td>\n",
       "      <td>1</td>\n",
       "      <td>1</td>\n",
       "      <td>0</td>\n",
       "      <td>0</td>\n",
       "      <td>1</td>\n",
       "      <td>...</td>\n",
       "      <td>23.0</td>\n",
       "      <td>22.0</td>\n",
       "      <td>72.0</td>\n",
       "      <td>25.0</td>\n",
       "      <td>296.0</td>\n",
       "      <td>285.0</td>\n",
       "      <td>822.0</td>\n",
       "      <td>139.0</td>\n",
       "      <td>657.0</td>\n",
       "      <td>2018-12-15</td>\n",
       "    </tr>\n",
       "    <tr>\n",
       "      <th>180927</th>\n",
       "      <td>3.49651e+09</td>\n",
       "      <td>1591.0</td>\n",
       "      <td>912577563</td>\n",
       "      <td>200</td>\n",
       "      <td>0</td>\n",
       "      <td>0</td>\n",
       "      <td>0</td>\n",
       "      <td>0</td>\n",
       "      <td>0</td>\n",
       "      <td>0</td>\n",
       "      <td>...</td>\n",
       "      <td>18.0</td>\n",
       "      <td>16.0</td>\n",
       "      <td>24.0</td>\n",
       "      <td>54.0</td>\n",
       "      <td>685.0</td>\n",
       "      <td>92.0</td>\n",
       "      <td>84.0</td>\n",
       "      <td>129.0</td>\n",
       "      <td>267.0</td>\n",
       "      <td>2018-12-15</td>\n",
       "    </tr>\n",
       "  </tbody>\n",
       "</table>\n",
       "<p>180928 rows × 49 columns</p>\n",
       "</div>"
      ],
      "text/plain": [
       "             gameId  gameDuration  gameVersion  teamId  win  firstBlood  \\\n",
       "0       4.24726e+09        1323.0   1063144405     200    1           0   \n",
       "1       4.24716e+09        1317.0   1063144405     100    1           0   \n",
       "2        4.2558e+09        1244.0   1063144405     200    1           1   \n",
       "3       4.25576e+09         962.0   1063144405     200    1           0   \n",
       "4       4.25566e+09        1632.0   1063144405     200    1           1   \n",
       "...             ...           ...          ...     ...  ...         ...   \n",
       "180923  3.49913e+09        1179.0    912577563     200    0           0   \n",
       "180924  3.50385e+09        1684.0    912577563     100    0           0   \n",
       "180925  3.49546e+09        1464.0    912577563     100    0           1   \n",
       "180926  3.49913e+09        1694.0    912577563     200    0           1   \n",
       "180927  3.49651e+09        1591.0    912577563     200    0           0   \n",
       "\n",
       "        firstTower  firstInhibitor  firstBaron  firstDragon  ...  \\\n",
       "0                1               1           0            1  ...   \n",
       "1                0               0           0            1  ...   \n",
       "2                1               1           0            1  ...   \n",
       "3                1               0           0            1  ...   \n",
       "4                1               1           1            0  ...   \n",
       "...            ...             ...         ...          ...  ...   \n",
       "180923           0               0           0            0  ...   \n",
       "180924           0               0           0            1  ...   \n",
       "180925           1               0           0            0  ...   \n",
       "180926           1               0           0            1  ...   \n",
       "180927           0               0           0            0  ...   \n",
       "\n",
       "        visionScore2  visionScore3  visionScore4  visionScore5  \\\n",
       "0               16.0          23.0          17.0          36.0   \n",
       "1               27.0          46.0          16.0          22.0   \n",
       "2               35.0          25.0          15.0          21.0   \n",
       "3               25.0          17.0           9.0          19.0   \n",
       "4               38.0          30.0          18.0          26.0   \n",
       "...              ...           ...           ...           ...   \n",
       "180923          21.0          22.0          18.0          10.0   \n",
       "180924          30.0          14.0          19.0          27.0   \n",
       "180925          51.0          17.0          14.0          21.0   \n",
       "180926          23.0          22.0          72.0          25.0   \n",
       "180927          18.0          16.0          24.0          54.0   \n",
       "\n",
       "        totalTimeCrowdControlDealt1  totalTimeCrowdControlDealt2  \\\n",
       "0                             183.0                         92.0   \n",
       "1                              33.0                        291.0   \n",
       "2                             178.0                         82.0   \n",
       "3                             134.0                         61.0   \n",
       "4                              69.0                        503.0   \n",
       "...                             ...                          ...   \n",
       "180923                         67.0                        155.0   \n",
       "180924                        127.0                       1454.0   \n",
       "180925                        622.0                         80.0   \n",
       "180926                        296.0                        285.0   \n",
       "180927                        685.0                         92.0   \n",
       "\n",
       "        totalTimeCrowdControlDealt3  totalTimeCrowdControlDealt4  \\\n",
       "0                             231.0                         54.0   \n",
       "1                              31.0                        235.0   \n",
       "2                             371.0                        140.0   \n",
       "3                             332.0                        274.0   \n",
       "4                             562.0                         79.0   \n",
       "...                             ...                          ...   \n",
       "180923                         56.0                        553.0   \n",
       "180924                        540.0                         48.0   \n",
       "180925                        536.0                          0.0   \n",
       "180926                        822.0                        139.0   \n",
       "180927                         84.0                        129.0   \n",
       "\n",
       "        totalTimeCrowdControlDealt5       date  \n",
       "0                             281.0 2020-03-25  \n",
       "1                             407.0 2020-03-25  \n",
       "2                             122.0 2020-03-25  \n",
       "3                             163.0 2020-03-25  \n",
       "4                              69.0 2020-03-25  \n",
       "...                             ...        ...  \n",
       "180923                        124.0 2018-12-15  \n",
       "180924                        555.0 2018-12-15  \n",
       "180925                        112.0 2018-12-15  \n",
       "180926                        657.0 2018-12-15  \n",
       "180927                        267.0 2018-12-15  \n",
       "\n",
       "[180928 rows x 49 columns]"
      ]
     },
     "execution_count": 6,
     "metadata": {},
     "output_type": "execute_result"
    }
   ],
   "source": [
    "gamedata"
   ]
  },
  {
   "cell_type": "markdown",
   "execution_count": null,
   "metadata": {},
   "source": [
    "# 4. Feature Engineering / 특성 공학"
   ]
  },
  {
   "cell_type": "code",
   "execution_count": 7,
   "metadata": {},
   "outputs": [],
   "source": [
    "#예측에 필요없는 칼럼 드랍(승패예측에 영향을 끼치지 못함)\n",
    "gamedata.drop([\"gameVersion\",\"vilemawKills\",\"dominionVictoryScore\",\"date\"],axis=1,inplace=True)"
   ]
  },
  {
   "cell_type": "code",
   "execution_count": 8,
   "metadata": {},
   "outputs": [],
   "source": [
    "pd.set_option('display.float_format', '{:.5f}'.format) # 항상 float 형식으로"
   ]
  },
  {
   "cell_type": "code",
   "execution_count": 9,
   "metadata": {},
   "outputs": [
    {
     "data": {
      "text/plain": [
       "deaths3                        -0.40363\n",
       "deaths2                        -0.40341\n",
       "deaths4                        -0.40273\n",
       "deaths1                        -0.40120\n",
       "deaths5                        -0.39988\n",
       "gameDuration                    0.00000\n",
       "teamId                          0.01249\n",
       "totalTimeCrowdControlDealt3     0.04594\n",
       "totalTimeCrowdControlDealt2     0.04824\n",
       "totalTimeCrowdControlDealt1     0.04880\n",
       "totalTimeCrowdControlDealt5     0.04882\n",
       "totalTimeCrowdControlDealt4     0.04920\n",
       "visionScore1                    0.08514\n",
       "visionScore5                    0.08830\n",
       "visionScore4                    0.08980\n",
       "visionScore2                    0.09021\n",
       "visionScore3                    0.09344\n",
       "totalDamageDealtToChampions5    0.13442\n",
       "totalDamageDealtToChampions4    0.13801\n",
       "totalDamageDealtToChampions3    0.13868\n",
       "totalDamageDealtToChampions2    0.13910\n",
       "totalDamageDealtToChampions1    0.13965\n",
       "firstBlood                      0.21697\n",
       "goldEarned5                     0.24347\n",
       "goldEarned4                     0.24478\n",
       "goldEarned2                     0.24535\n",
       "goldEarned3                     0.24617\n",
       "goldEarned1                     0.24731\n",
       "firstRiftHerald                 0.28279\n",
       "firstDragon                     0.29160\n",
       "kills5                          0.29510\n",
       "kills4                          0.29633\n",
       "kills2                          0.29848\n",
       "kills1                          0.29864\n",
       "kills3                          0.29911\n",
       "riftHeraldKills                 0.34650\n",
       "baronKills                      0.38716\n",
       "firstBaron                      0.40339\n",
       "firstTower                      0.47595\n",
       "dragonKills                     0.51209\n",
       "inhibitorKills                  0.57765\n",
       "firstInhibitor                  0.65983\n",
       "towerKills                      0.73693\n",
       "win                             1.00000\n",
       "Name: win, dtype: float64"
      ]
     },
     "execution_count": 9,
     "metadata": {},
     "output_type": "execute_result"
    }
   ],
   "source": [
    "#승패에 영향이 가는 상관계수 분석\n",
    "gamedata.corr()[\"win\"].sort_values()"
   ]
  },
  {
   "cell_type": "code",
   "execution_count": 10,
   "metadata": {},
   "outputs": [
    {
     "data": {
      "text/html": [
       "<div>\n",
       "<style scoped>\n",
       "    .dataframe tbody tr th:only-of-type {\n",
       "        vertical-align: middle;\n",
       "    }\n",
       "\n",
       "    .dataframe tbody tr th {\n",
       "        vertical-align: top;\n",
       "    }\n",
       "\n",
       "    .dataframe thead th {\n",
       "        text-align: right;\n",
       "    }\n",
       "</style>\n",
       "<table border=\"1\" class=\"dataframe\">\n",
       "  <thead>\n",
       "    <tr style=\"text-align: right;\">\n",
       "      <th></th>\n",
       "      <th>gameId</th>\n",
       "      <th>gameDuration</th>\n",
       "      <th>teamId</th>\n",
       "      <th>win</th>\n",
       "      <th>firstBlood</th>\n",
       "      <th>firstTower</th>\n",
       "      <th>firstInhibitor</th>\n",
       "      <th>firstBaron</th>\n",
       "      <th>firstDragon</th>\n",
       "      <th>firstRiftHerald</th>\n",
       "      <th>...</th>\n",
       "      <th>visionScore1</th>\n",
       "      <th>visionScore2</th>\n",
       "      <th>visionScore3</th>\n",
       "      <th>visionScore4</th>\n",
       "      <th>visionScore5</th>\n",
       "      <th>totalTimeCrowdControlDealt1</th>\n",
       "      <th>totalTimeCrowdControlDealt2</th>\n",
       "      <th>totalTimeCrowdControlDealt3</th>\n",
       "      <th>totalTimeCrowdControlDealt4</th>\n",
       "      <th>totalTimeCrowdControlDealt5</th>\n",
       "    </tr>\n",
       "  </thead>\n",
       "  <tbody>\n",
       "    <tr>\n",
       "      <th>0</th>\n",
       "      <td>4247263043.00000</td>\n",
       "      <td>1323.00000</td>\n",
       "      <td>200</td>\n",
       "      <td>1</td>\n",
       "      <td>0</td>\n",
       "      <td>1</td>\n",
       "      <td>1</td>\n",
       "      <td>0</td>\n",
       "      <td>1</td>\n",
       "      <td>1</td>\n",
       "      <td>...</td>\n",
       "      <td>28.00000</td>\n",
       "      <td>16.00000</td>\n",
       "      <td>23.00000</td>\n",
       "      <td>17.00000</td>\n",
       "      <td>36.00000</td>\n",
       "      <td>183.00000</td>\n",
       "      <td>92.00000</td>\n",
       "      <td>231.00000</td>\n",
       "      <td>54.00000</td>\n",
       "      <td>281.00000</td>\n",
       "    </tr>\n",
       "    <tr>\n",
       "      <th>1</th>\n",
       "      <td>4247155821.00000</td>\n",
       "      <td>1317.00000</td>\n",
       "      <td>100</td>\n",
       "      <td>1</td>\n",
       "      <td>0</td>\n",
       "      <td>0</td>\n",
       "      <td>0</td>\n",
       "      <td>0</td>\n",
       "      <td>1</td>\n",
       "      <td>1</td>\n",
       "      <td>...</td>\n",
       "      <td>14.00000</td>\n",
       "      <td>27.00000</td>\n",
       "      <td>46.00000</td>\n",
       "      <td>16.00000</td>\n",
       "      <td>22.00000</td>\n",
       "      <td>33.00000</td>\n",
       "      <td>291.00000</td>\n",
       "      <td>31.00000</td>\n",
       "      <td>235.00000</td>\n",
       "      <td>407.00000</td>\n",
       "    </tr>\n",
       "    <tr>\n",
       "      <th>2</th>\n",
       "      <td>4255795289.00000</td>\n",
       "      <td>1244.00000</td>\n",
       "      <td>200</td>\n",
       "      <td>1</td>\n",
       "      <td>1</td>\n",
       "      <td>1</td>\n",
       "      <td>1</td>\n",
       "      <td>0</td>\n",
       "      <td>1</td>\n",
       "      <td>0</td>\n",
       "      <td>...</td>\n",
       "      <td>11.00000</td>\n",
       "      <td>35.00000</td>\n",
       "      <td>25.00000</td>\n",
       "      <td>15.00000</td>\n",
       "      <td>21.00000</td>\n",
       "      <td>178.00000</td>\n",
       "      <td>82.00000</td>\n",
       "      <td>371.00000</td>\n",
       "      <td>140.00000</td>\n",
       "      <td>122.00000</td>\n",
       "    </tr>\n",
       "    <tr>\n",
       "      <th>3</th>\n",
       "      <td>4255761502.00000</td>\n",
       "      <td>962.00000</td>\n",
       "      <td>200</td>\n",
       "      <td>1</td>\n",
       "      <td>0</td>\n",
       "      <td>1</td>\n",
       "      <td>0</td>\n",
       "      <td>0</td>\n",
       "      <td>1</td>\n",
       "      <td>1</td>\n",
       "      <td>...</td>\n",
       "      <td>17.00000</td>\n",
       "      <td>25.00000</td>\n",
       "      <td>17.00000</td>\n",
       "      <td>9.00000</td>\n",
       "      <td>19.00000</td>\n",
       "      <td>134.00000</td>\n",
       "      <td>61.00000</td>\n",
       "      <td>332.00000</td>\n",
       "      <td>274.00000</td>\n",
       "      <td>163.00000</td>\n",
       "    </tr>\n",
       "    <tr>\n",
       "      <th>4</th>\n",
       "      <td>4255663162.00000</td>\n",
       "      <td>1632.00000</td>\n",
       "      <td>200</td>\n",
       "      <td>1</td>\n",
       "      <td>1</td>\n",
       "      <td>1</td>\n",
       "      <td>1</td>\n",
       "      <td>1</td>\n",
       "      <td>0</td>\n",
       "      <td>0</td>\n",
       "      <td>...</td>\n",
       "      <td>42.00000</td>\n",
       "      <td>38.00000</td>\n",
       "      <td>30.00000</td>\n",
       "      <td>18.00000</td>\n",
       "      <td>26.00000</td>\n",
       "      <td>69.00000</td>\n",
       "      <td>503.00000</td>\n",
       "      <td>562.00000</td>\n",
       "      <td>79.00000</td>\n",
       "      <td>69.00000</td>\n",
       "    </tr>\n",
       "  </tbody>\n",
       "</table>\n",
       "<p>5 rows × 45 columns</p>\n",
       "</div>"
      ],
      "text/plain": [
       "            gameId  gameDuration  teamId  win  firstBlood  firstTower  \\\n",
       "0 4247263043.00000    1323.00000     200    1           0           1   \n",
       "1 4247155821.00000    1317.00000     100    1           0           0   \n",
       "2 4255795289.00000    1244.00000     200    1           1           1   \n",
       "3 4255761502.00000     962.00000     200    1           0           1   \n",
       "4 4255663162.00000    1632.00000     200    1           1           1   \n",
       "\n",
       "   firstInhibitor  firstBaron  firstDragon  firstRiftHerald  ...  \\\n",
       "0               1           0            1                1  ...   \n",
       "1               0           0            1                1  ...   \n",
       "2               1           0            1                0  ...   \n",
       "3               0           0            1                1  ...   \n",
       "4               1           1            0                0  ...   \n",
       "\n",
       "   visionScore1  visionScore2  visionScore3  visionScore4  visionScore5  \\\n",
       "0      28.00000      16.00000      23.00000      17.00000      36.00000   \n",
       "1      14.00000      27.00000      46.00000      16.00000      22.00000   \n",
       "2      11.00000      35.00000      25.00000      15.00000      21.00000   \n",
       "3      17.00000      25.00000      17.00000       9.00000      19.00000   \n",
       "4      42.00000      38.00000      30.00000      18.00000      26.00000   \n",
       "\n",
       "   totalTimeCrowdControlDealt1  totalTimeCrowdControlDealt2  \\\n",
       "0                    183.00000                     92.00000   \n",
       "1                     33.00000                    291.00000   \n",
       "2                    178.00000                     82.00000   \n",
       "3                    134.00000                     61.00000   \n",
       "4                     69.00000                    503.00000   \n",
       "\n",
       "   totalTimeCrowdControlDealt3  totalTimeCrowdControlDealt4  \\\n",
       "0                    231.00000                     54.00000   \n",
       "1                     31.00000                    235.00000   \n",
       "2                    371.00000                    140.00000   \n",
       "3                    332.00000                    274.00000   \n",
       "4                    562.00000                     79.00000   \n",
       "\n",
       "   totalTimeCrowdControlDealt5  \n",
       "0                    281.00000  \n",
       "1                    407.00000  \n",
       "2                    122.00000  \n",
       "3                    163.00000  \n",
       "4                     69.00000  \n",
       "\n",
       "[5 rows x 45 columns]"
      ]
     },
     "execution_count": 10,
     "metadata": {},
     "output_type": "execute_result"
    }
   ],
   "source": [
    "gamedata.head()"
   ]
  },
  {
   "cell_type": "markdown",
   "execution_count": null,
   "metadata": {},
   "source": [
    "대체적으로 개인 기록보다 팀 단위 기록들이 승패예측에 더 도움이 된다.\n",
    "\n",
    "gameDuration 는 게임시간으로 각 변수들 간의 상관관계는 가장 컷지만, 각 경기 시간당 승패가 무조건 존재하기 때문에 단순한 시간만으로는 모델이 게임 시간에 대한 정보를 전혀 습득하지 못할 것이다."
   ]
  },
  {
   "cell_type": "markdown",
   "execution_count": null,
   "metadata": {},
   "source": [
    "## 개인 기록 팀 단위 변환 - 교호작용(Interaction)\n",
    "\n",
    "개인 기록은 1-5번의 총 다섯명 유저가 존재한다. 이들의 기록을 합산하여 팀 단위의 기록을 추가해준다."
   ]
  },
  {
   "cell_type": "code",
   "execution_count": 11,
   "metadata": {},
   "outputs": [],
   "source": [
    "#팀의 킬카운트 총합\n",
    "gamedata[\"team_kills\"] = gamedata[\"kills1\"] + gamedata[\"kills2\"] + gamedata[\"kills3\"] + gamedata[\"kills4\"] + gamedata[\"kills5\"]\n",
    "\n",
    "#팀의 데스카운트 총합\n",
    "gamedata[\"team_deaths\"] = gamedata[\"deaths1\"] + gamedata[\"deaths2\"] + gamedata[\"deaths3\"] + gamedata[\"deaths4\"] + gamedata[\"deaths5\"]\n",
    "\n",
    "#팀이 획득한 총 골드 - 제외됨\n",
    "#gamedata[\"team_goldEarned\"] = gamedata[\"goldEarned1\"] + gamedata[\"goldEarned2\"] + gamedata[\"goldEarned3\"] + gamedata[\"goldEarned4\"] + gamedata[\"goldEarned5\"]\n",
    "\n",
    "#팀이 가한 총 피해량\n",
    "gamedata[\"team_totalDamageDealtToChampions\"] = gamedata[\"totalDamageDealtToChampions1\"] + gamedata[\"totalDamageDealtToChampions2\"] + gamedata[\"totalDamageDealtToChampions3\"] + gamedata[\"totalDamageDealtToChampions4\"] + gamedata[\"totalDamageDealtToChampions5\"]\n",
    "\n",
    "#팀이 가한 총 CC기 시간\n",
    "gamedata[\"team_totalTimeCrowdControlDealt\"] = gamedata[\"totalTimeCrowdControlDealt1\"] + gamedata[\"totalTimeCrowdControlDealt2\"] + gamedata[\"totalTimeCrowdControlDealt3\"] + gamedata[\"totalTimeCrowdControlDealt4\"] + gamedata[\"totalTimeCrowdControlDealt5\"]\n",
    "\n",
    "#팀의 총 시야점수\n",
    "gamedata[\"team_visionScore\"] = gamedata[\"visionScore1\"] + gamedata[\"visionScore2\"] + gamedata[\"visionScore3\"] + gamedata[\"visionScore4\"] + gamedata[\"visionScore5\"]\n",
    "\n",
    "#팀이 처치한 총 오브젝트 갯수 - 제외됨\n",
    "#gamedata[\"team_Object\"] = (gamedata[\"riftHeraldKills\"] + gamedata[\"baronKills\"] + gamedata[\"dragonKills\"] + gamedata[\"inhibitorKills\"] + gamedata[\"towerKills\"])"
   ]
  },
  {
   "cell_type": "code",
   "execution_count": 12,
   "metadata": {},
   "outputs": [],
   "source": [
    "#천상계는 전체적으로 하위 티어보다 킬, 데스의 분포 범위가 다름을 고려, 킬/데스의 비율로 킬데스를 반영.\n",
    "def kdc(df):\n",
    "    if df[\"team_deaths\"]==0:\n",
    "        return df[\"team_kills\"]/(df[\"team_deaths\"]+1)*1.2 #만약 팀의 총 데스가 0일경우 퍼펙트 게임을 적용해 가중치 1.2 적용\n",
    "    return df[\"team_kills\"]/df[\"team_deaths\"]"
   ]
  },
  {
   "cell_type": "code",
   "execution_count": 13,
   "metadata": {},
   "outputs": [],
   "source": [
    "#팀의 킬/데스 지표\n",
    "gamedata[\"team_K/D\"] = gamedata.apply(kdc,axis=1)"
   ]
  },
  {
   "cell_type": "code",
   "execution_count": 14,
   "metadata": {},
   "outputs": [
    {
     "data": {
      "text/plain": [
       "team_deaths                        -0.50423\n",
       "deaths3                            -0.40363\n",
       "deaths2                            -0.40341\n",
       "deaths4                            -0.40273\n",
       "deaths1                            -0.40120\n",
       "deaths5                            -0.39988\n",
       "gameDuration                        0.00000\n",
       "teamId                              0.01249\n",
       "totalTimeCrowdControlDealt3         0.04594\n",
       "totalTimeCrowdControlDealt2         0.04824\n",
       "totalTimeCrowdControlDealt1         0.04880\n",
       "totalTimeCrowdControlDealt5         0.04882\n",
       "totalTimeCrowdControlDealt4         0.04920\n",
       "visionScore1                        0.08514\n",
       "visionScore5                        0.08830\n",
       "visionScore4                        0.08980\n",
       "visionScore2                        0.09021\n",
       "team_totalTimeCrowdControlDealt     0.09099\n",
       "visionScore3                        0.09344\n",
       "totalDamageDealtToChampions5        0.13442\n",
       "totalDamageDealtToChampions4        0.13801\n",
       "totalDamageDealtToChampions3        0.13868\n",
       "totalDamageDealtToChampions2        0.13910\n",
       "totalDamageDealtToChampions1        0.13965\n",
       "team_visionScore                    0.14053\n",
       "team_totalDamageDealtToChampions    0.18394\n",
       "firstBlood                          0.21697\n",
       "goldEarned5                         0.24347\n",
       "goldEarned4                         0.24478\n",
       "goldEarned2                         0.24535\n",
       "goldEarned3                         0.24617\n",
       "goldEarned1                         0.24731\n",
       "firstRiftHerald                     0.28279\n",
       "firstDragon                         0.29160\n",
       "kills5                              0.29510\n",
       "kills4                              0.29633\n",
       "kills2                              0.29848\n",
       "kills1                              0.29864\n",
       "kills3                              0.29911\n",
       "riftHeraldKills                     0.34650\n",
       "baronKills                          0.38716\n",
       "firstBaron                          0.40339\n",
       "firstTower                          0.47595\n",
       "team_kills                          0.50560\n",
       "dragonKills                         0.51209\n",
       "team_K/D                            0.53124\n",
       "inhibitorKills                      0.57765\n",
       "firstInhibitor                      0.65983\n",
       "towerKills                          0.73693\n",
       "win                                 1.00000\n",
       "Name: win, dtype: float64"
      ]
     },
     "execution_count": 14,
     "metadata": {},
     "output_type": "execute_result"
    }
   ],
   "source": [
    "#승패에 영향이 가는 상관계수 분석\n",
    "gamedata.corr()[\"win\"].sort_values()"
   ]
  },
  {
   "cell_type": "markdown",
   "execution_count": null,
   "metadata": {},
   "source": [
    "새로 생성한 모든 팀 단위 기록이 개인 기록일때보다 상관계수가 높아졌다."
   ]
  },
  {
   "cell_type": "markdown",
   "execution_count": null,
   "metadata": {},
   "source": [
    "## 팀별 차이 칼럼(반영 안함) - 도메인 지식 활용\n",
    "\n",
    ">다중공선성 문제와 너무 상관계수가 커서 삭제 반영 안하기로 결정.\n",
    "\n",
    "리그 오브 레전드의 프로 리그에서 팀의 우위를 정하는 지표들을 활용, \n",
    "1. 골드 차이\n",
    "\n",
    "2. 딜량 차이"
   ]
  },
  {
   "cell_type": "code",
   "execution_count": 15,
   "metadata": {},
   "outputs": [
    {
     "data": {
      "text/plain": [
       "'\\n차이 칼럼들은 다른 변수들과 다중공선성 문제가 크게 생기고 회귀결과에 미치는 영향이 너무 커서 제외함.\\n'"
      ]
     },
     "execution_count": 15,
     "metadata": {},
     "output_type": "execute_result"
    }
   ],
   "source": [
    "\"\"\"\n",
    "차이 칼럼들은 다른 변수들과 다중공선성 문제가 크게 생기고 회귀결과에 미치는 영향이 너무 커서 제외함.\n",
    "\"\"\"\n",
    "\n",
    "# from sklearn.preprocessing import LabelEncoder\n",
    "# gamedata[\"gameId\"] = LabelEncoder().fit_transform(gamedata[\"gameId\"])\n",
    "\n",
    "# #gameId, win을 기준으로 데이터프레임화\n",
    "# gamedata = gamedata.sort_values(by=[\"gameId\",\"win\"])\n",
    "\n",
    "# gamedata_win = gamedata[1::2]\n",
    "\n",
    "# gamedata_lose = gamedata[::2]\n",
    "\n",
    "# gamedata_win.reset_index(drop=True,inplace=True)\n",
    "\n",
    "# gamedata_lose.reset_index(drop=True,inplace=True)\n",
    "\n",
    "# #승리팀, 진팀의 골드 차이\n",
    "# gamedata_win[\"team_goldDiff\"] = gamedata_win[\"team_goldEarned\"] - gamedata_lose[\"team_goldEarned\"]\n",
    "# gamedata_lose[\"team_goldDiff\"] = gamedata_lose[\"team_goldEarned\"] - gamedata_win[\"team_goldEarned\"]\n",
    "\n",
    "# #승리팀, 진팀의, 딜량 차이\n",
    "# gamedata_win[\"team_dealtDiff\"] = gamedata_win[\"team_totalDamageDealtToChampions\"] - gamedata_lose[\"team_totalDamageDealtToChampions\"]\n",
    "# gamedata_lose[\"team_dealtDiff\"] = gamedata_lose[\"team_totalDamageDealtToChampions\"] - gamedata_win[\"team_totalDamageDealtToChampions\"]\n",
    "\n",
    "# gamedata = pd.concat([gamedata_win,gamedata_lose],axis=0)\n",
    "\n",
    "# gamedata.reset_index(drop=True,inplace=True)\n",
    "\n",
    "# #승패에 영향이 가는 상관계수 분석\n",
    "# gamedata.corr()[\"win\"].sort_values()"
   ]
  },
  {
   "cell_type": "markdown",
   "execution_count": null,
   "metadata": {},
   "source": [
    "도메인 지식을 활용해 얻은 차이 특성들은 굉장히 높은 상관관계를 보인다."
   ]
  },
  {
   "cell_type": "markdown",
   "execution_count": null,
   "metadata": {},
   "source": [
    "## 게임 시간별 구간 분할 - 이산화(bining)\n",
    "\n",
    "게임 시간별로 구간을 나눠 시간대가 실제로 변수에 영향을 미치는가 검사\n",
    "\n",
    "6개의 구간에 해당하는 특성들의 반영도(가중치)가 각각 달라야 하므로 6개의 데이터셋 실험.\n",
    "\n",
    "(단일 모델로는 게임의 구간별 특성 반영을 조절할 수 없음)\n",
    "\n",
    "* 6개 구간 중 (0-15, 15-20) (30-35, 35-inf) 구간이 같은 양상을 띄어 4개 구간으로 변경"
   ]
  },
  {
   "cell_type": "code",
   "execution_count": 16,
   "metadata": {},
   "outputs": [],
   "source": [
    "#게임시간(초) -> 분\n",
    "gamedata[\"gameMinute\"] = gamedata[\"gameDuration\"] / 60\n",
    "\n",
    "#다시하기 경기 제외\n",
    "gamedata = gamedata[gamedata[\"gameMinute\"] > 5]"
   ]
  },
  {
   "cell_type": "code",
   "execution_count": 17,
   "metadata": {},
   "outputs": [],
   "source": [
    "#bins = [0, ,15, 20, 25, 30, 35]\n",
    "bins = [0, 20, 25, 30]"
   ]
  },
  {
   "cell_type": "markdown",
   "execution_count": null,
   "metadata": {},
   "source": [
    "[0-20), [20-25), [25-30), [30-inf)\n",
    "\n",
    "[ , ]는 포함, (, )은 미포함을 나타내는 총 4개 구간을 생성"
   ]
  },
  {
   "cell_type": "code",
   "execution_count": 18,
   "metadata": {},
   "outputs": [
    {
     "data": {
      "text/plain": [
       "2    47588\n",
       "1    44546\n",
       "3    44176\n",
       "4    42228\n",
       "Name: time_bin, dtype: int64"
      ]
     },
     "execution_count": 18,
     "metadata": {},
     "output_type": "execute_result"
    }
   ],
   "source": [
    "gamedata[\"time_bin\"] = np.digitize(gamedata[\"gameMinute\"],bins)\n",
    "gamedata[\"time_bin\"].value_counts()"
   ]
  },
  {
   "cell_type": "markdown",
   "execution_count": null,
   "metadata": {},
   "source": [
    "* 데이터를 4구간으로 변경, 데이터셋의 분포가 일정하게 잘 나뉨."
   ]
  },
  {
   "cell_type": "code",
   "execution_count": 19,
   "metadata": {},
   "outputs": [],
   "source": [
    "game_part1 = gamedata[gamedata[\"time_bin\"] == 1]\n",
    "game_part2 = gamedata[gamedata[\"time_bin\"] == 2]\n",
    "game_part3 = gamedata[gamedata[\"time_bin\"] == 3]\n",
    "game_part4 = gamedata[gamedata[\"time_bin\"] == 4]\n",
    "\n",
    "game_part1.drop([\"gameMinute\",\"gameDuration\"],axis=1,inplace=True)\n",
    "game_part2.drop([\"gameMinute\",\"gameDuration\"],axis=1,inplace=True)\n",
    "game_part3.drop([\"gameMinute\",\"gameDuration\"],axis=1,inplace=True)\n",
    "game_part4.drop([\"gameMinute\",\"gameDuration\"],axis=1,inplace=True)"
   ]
  },
  {
   "cell_type": "code",
   "execution_count": 20,
   "metadata": {},
   "outputs": [
    {
     "data": {
      "text/plain": [
       "team_deaths                        -0.74006\n",
       "deaths2                            -0.58468\n",
       "deaths3                            -0.58167\n",
       "deaths1                            -0.57836\n",
       "deaths5                            -0.57834\n",
       "deaths4                            -0.57666\n",
       "teamId                             -0.01324\n",
       "totalTimeCrowdControlDealt5         0.11674\n",
       "totalTimeCrowdControlDealt2         0.11827\n",
       "totalTimeCrowdControlDealt3         0.11897\n",
       "totalTimeCrowdControlDealt1         0.11961\n",
       "totalTimeCrowdControlDealt4         0.12237\n",
       "visionScore5                        0.22093\n",
       "visionScore4                        0.22301\n",
       "visionScore1                        0.22505\n",
       "visionScore2                        0.22818\n",
       "visionScore3                        0.22977\n",
       "team_totalTimeCrowdControlDealt     0.27550\n",
       "totalDamageDealtToChampions5        0.29955\n",
       "totalDamageDealtToChampions3        0.30256\n",
       "totalDamageDealtToChampions4        0.30599\n",
       "totalDamageDealtToChampions1        0.30757\n",
       "totalDamageDealtToChampions2        0.30802\n",
       "team_visionScore                    0.36673\n",
       "firstBlood                          0.44498\n",
       "kills5                              0.45197\n",
       "kills1                              0.45384\n",
       "kills3                              0.45416\n",
       "kills2                              0.45753\n",
       "kills4                              0.45908\n",
       "team_totalDamageDealtToChampions    0.46352\n",
       "firstDragon                         0.51461\n",
       "inhibitorKills                      0.51564\n",
       "goldEarned5                         0.54112\n",
       "goldEarned4                         0.54449\n",
       "goldEarned3                         0.54486\n",
       "goldEarned1                         0.54562\n",
       "goldEarned2                         0.54686\n",
       "firstInhibitor                      0.55915\n",
       "firstRiftHerald                     0.57523\n",
       "team_K/D                            0.59545\n",
       "riftHeraldKills                     0.59929\n",
       "dragonKills                         0.64777\n",
       "team_kills                          0.74154\n",
       "towerKills                          0.80786\n",
       "firstTower                          0.89077\n",
       "win                                 1.00000\n",
       "firstBaron                              nan\n",
       "baronKills                              nan\n",
       "time_bin                                nan\n",
       "Name: win, dtype: float64"
      ]
     },
     "metadata": {},
     "output_type": "display_data"
    },
    {
     "data": {
      "text/plain": [
       "team_deaths                        -0.74686\n",
       "deaths3                            -0.55646\n",
       "deaths1                            -0.55379\n",
       "deaths2                            -0.55074\n",
       "deaths4                            -0.55062\n",
       "deaths5                            -0.54499\n",
       "teamId                              0.00622\n",
       "totalTimeCrowdControlDealt4         0.06770\n",
       "totalTimeCrowdControlDealt2         0.07027\n",
       "totalTimeCrowdControlDealt1         0.07183\n",
       "totalTimeCrowdControlDealt3         0.07360\n",
       "totalTimeCrowdControlDealt5         0.07477\n",
       "visionScore2                        0.15471\n",
       "visionScore4                        0.15601\n",
       "visionScore1                        0.15651\n",
       "visionScore3                        0.16490\n",
       "visionScore5                        0.16574\n",
       "team_totalTimeCrowdControlDealt     0.17870\n",
       "firstBlood                          0.23233\n",
       "totalDamageDealtToChampions3        0.26551\n",
       "totalDamageDealtToChampions1        0.26615\n",
       "totalDamageDealtToChampions4        0.27158\n",
       "totalDamageDealtToChampions5        0.27163\n",
       "totalDamageDealtToChampions2        0.27453\n",
       "firstRiftHerald                     0.32843\n",
       "firstDragon                         0.34219\n",
       "kills5                              0.39299\n",
       "kills3                              0.39478\n",
       "team_visionScore                    0.39511\n",
       "kills1                              0.39520\n",
       "kills2                              0.40019\n",
       "kills4                              0.40065\n",
       "goldEarned5                         0.46447\n",
       "goldEarned3                         0.46695\n",
       "goldEarned2                         0.47107\n",
       "goldEarned4                         0.47108\n",
       "goldEarned1                         0.47285\n",
       "firstBaron                          0.48349\n",
       "baronKills                          0.48349\n",
       "riftHeraldKills                     0.50085\n",
       "team_totalDamageDealtToChampions    0.50927\n",
       "firstTower                          0.57662\n",
       "inhibitorKills                      0.60664\n",
       "dragonKills                         0.67963\n",
       "firstInhibitor                      0.68638\n",
       "team_kills                          0.74820\n",
       "team_K/D                            0.76928\n",
       "towerKills                          0.82491\n",
       "win                                 1.00000\n",
       "time_bin                                nan\n",
       "Name: win, dtype: float64"
      ]
     },
     "metadata": {},
     "output_type": "display_data"
    },
    {
     "data": {
      "text/plain": [
       "team_deaths                        -0.66404\n",
       "deaths2                            -0.46890\n",
       "deaths4                            -0.46755\n",
       "deaths5                            -0.46692\n",
       "deaths1                            -0.46654\n",
       "deaths3                            -0.46492\n",
       "teamId                              0.01892\n",
       "totalTimeCrowdControlDealt3         0.03079\n",
       "totalTimeCrowdControlDealt5         0.03896\n",
       "totalTimeCrowdControlDealt4         0.04011\n",
       "totalTimeCrowdControlDealt1         0.04145\n",
       "totalTimeCrowdControlDealt2         0.04338\n",
       "team_totalTimeCrowdControlDealt     0.09502\n",
       "visionScore5                        0.10949\n",
       "visionScore1                        0.11011\n",
       "visionScore2                        0.11143\n",
       "visionScore4                        0.11477\n",
       "visionScore3                        0.11578\n",
       "firstBlood                          0.14134\n",
       "firstRiftHerald                     0.18129\n",
       "totalDamageDealtToChampions3        0.19887\n",
       "totalDamageDealtToChampions5        0.20050\n",
       "totalDamageDealtToChampions4        0.20305\n",
       "totalDamageDealtToChampions2        0.20681\n",
       "firstDragon                         0.20930\n",
       "totalDamageDealtToChampions1        0.21308\n",
       "riftHeraldKills                     0.26053\n",
       "kills4                              0.30794\n",
       "kills3                              0.31107\n",
       "kills5                              0.31677\n",
       "kills2                              0.31735\n",
       "kills1                              0.32222\n",
       "firstTower                          0.32995\n",
       "team_visionScore                    0.33129\n",
       "goldEarned4                         0.37660\n",
       "goldEarned3                         0.37931\n",
       "goldEarned2                         0.37951\n",
       "goldEarned5                         0.38289\n",
       "goldEarned1                         0.38778\n",
       "team_totalDamageDealtToChampions    0.43349\n",
       "dragonKills                         0.59915\n",
       "team_kills                          0.66568\n",
       "baronKills                          0.68160\n",
       "firstBaron                          0.69585\n",
       "inhibitorKills                      0.73841\n",
       "team_K/D                            0.79523\n",
       "towerKills                          0.85299\n",
       "firstInhibitor                      0.85401\n",
       "win                                 1.00000\n",
       "time_bin                                nan\n",
       "Name: win, dtype: float64"
      ]
     },
     "metadata": {},
     "output_type": "display_data"
    },
    {
     "data": {
      "text/plain": [
       "team_deaths                        -0.43207\n",
       "deaths4                            -0.29597\n",
       "deaths5                            -0.29347\n",
       "deaths3                            -0.29286\n",
       "deaths2                            -0.29226\n",
       "deaths1                            -0.28730\n",
       "totalTimeCrowdControlDealt3         0.01362\n",
       "totalTimeCrowdControlDealt2         0.01423\n",
       "totalTimeCrowdControlDealt1         0.01537\n",
       "totalTimeCrowdControlDealt5         0.01762\n",
       "totalTimeCrowdControlDealt4         0.01968\n",
       "team_totalTimeCrowdControlDealt     0.03654\n",
       "teamId                              0.03950\n",
       "firstBlood                          0.04518\n",
       "visionScore1                        0.04536\n",
       "firstRiftHerald                     0.04611\n",
       "visionScore5                        0.05298\n",
       "visionScore4                        0.05959\n",
       "visionScore3                        0.06213\n",
       "visionScore2                        0.06239\n",
       "riftHeraldKills                     0.07029\n",
       "totalDamageDealtToChampions5        0.09679\n",
       "totalDamageDealtToChampions4        0.10184\n",
       "firstDragon                         0.10244\n",
       "totalDamageDealtToChampions2        0.10379\n",
       "firstTower                          0.10439\n",
       "totalDamageDealtToChampions1        0.10468\n",
       "totalDamageDealtToChampions3        0.11299\n",
       "team_visionScore                    0.15269\n",
       "kills4                              0.18079\n",
       "kills2                              0.18404\n",
       "kills1                              0.18565\n",
       "kills5                              0.18609\n",
       "kills3                              0.19671\n",
       "team_totalDamageDealtToChampions    0.20553\n",
       "goldEarned4                         0.21130\n",
       "goldEarned2                         0.21291\n",
       "goldEarned5                         0.21684\n",
       "goldEarned1                         0.21906\n",
       "goldEarned3                         0.22391\n",
       "firstBaron                          0.37254\n",
       "team_kills                          0.43370\n",
       "dragonKills                         0.45290\n",
       "baronKills                          0.45546\n",
       "firstInhibitor                      0.60937\n",
       "inhibitorKills                      0.61347\n",
       "team_K/D                            0.68997\n",
       "towerKills                          0.75221\n",
       "win                                 1.00000\n",
       "time_bin                                nan\n",
       "Name: win, dtype: float64"
      ]
     },
     "metadata": {},
     "output_type": "display_data"
    }
   ],
   "source": [
    "display(game_part1.corr()[\"win\"].sort_values(),\n",
    "\n",
    "game_part2.corr()[\"win\"].sort_values(),\n",
    "\n",
    "game_part3.corr()[\"win\"].sort_values(),\n",
    "\n",
    "game_part4.corr()[\"win\"].sort_values())"
   ]
  },
  {
   "cell_type": "markdown",
   "execution_count": null,
   "metadata": {},
   "source": [
    "실제로 각 시간대마다 중요한 변수가 다르다는 것을 확인하였다. 또한 게임이 길어질수록 지표들의 영향도가 하락하고 상관계수 간의 차이가 줄어드는 것이 확인된다."
   ]
  },
  {
   "cell_type": "markdown",
   "execution_count": null,
   "metadata": {},
   "source": [
    "## 게임 시간 조합 - 교호작용(Interaction)\n",
    "\n",
    "총합이 중요한 것이 아니라 시간당 지표의 변화가 중요한 것이기 때문에 \n",
    "\n",
    "게임 시간을 이전에 만든 총합 지표와 조합하여 분당 팀의 성장률을 나타내는 지표를 만든다."
   ]
  },
  {
   "cell_type": "code",
   "execution_count": 21,
   "metadata": {},
   "outputs": [],
   "source": [
    "#분당 팀의 킬,데스 스코어\n",
    "\n",
    "gamedata[\"team_kills_per_minute\"] = gamedata[\"team_kills\"] / gamedata[\"gameMinute\"]\n",
    "\n",
    "gamedata[\"team_deaths_per_minute\"]= gamedata[\"team_deaths\"] / gamedata[\"gameMinute\"]\n",
    "\n",
    "gamedata[\"team_K/D_per_minute\"] = gamedata[\"team_K/D\"] / gamedata[\"gameMinute\"]\n",
    "\n",
    "#분당 팀이 가한 총 데미지\n",
    "gamedata[\"team_totalDamageDealt_per_minute\"] = gamedata[\"team_totalDamageDealtToChampions\"] / gamedata[\"gameMinute\"]\n",
    "\n",
    "#분당 팀이 가한 CC기 시간\n",
    "gamedata[\"team_totalTimeCrowdControlDealt_per_minute\"] =  gamedata[\"team_totalTimeCrowdControlDealt\"] / gamedata[\"gameMinute\"]\n",
    "\n",
    "#분당 팀의 시야 점수\n",
    "gamedata[\"team_visionScore_per_minute\"] = gamedata[\"team_visionScore\"] / gamedata[\"gameMinute\"]\n",
    "\n",
    "#분당 팀의 골드 획득량 - 제외됨\n",
    "#gamedata[\"team_goldEarned_per_minute\"] = gamedata[\"team_goldEarned\"] / gamedata[\"gameMinute\"]\n",
    "\n",
    "#분당 팀의 총 오브젝트 스코어량 - 제외됨\n",
    "#gamedata[\"team_object_per_minute\"] = gamedata[\"team_Object\"] / gamedata[\"gameMinute\"]\n",
    "\n",
    "#분당 팀의 타워 파괴량\n",
    "gamedata[\"towerKills_per_minute\"] = gamedata[\"towerKills\"] / gamedata[\"gameMinute\"]\n",
    "\n",
    "#분당 팀의 억제기 파괴량\n",
    "gamedata[\"inhibitorKills_per_minute\"] = gamedata[\"inhibitorKills\"] /gamedata[\"gameMinute\"]\n",
    "\n",
    "#분당 팀의 바론 처치량\n",
    "gamedata[\"baronKills_per_minute\"] = gamedata[\"baronKills\"] / gamedata[\"gameMinute\"]\n",
    "\n",
    "#분당 팀의 드래곤 처치량\n",
    "gamedata[\"dragonKills_per_minute\"] = gamedata[\"dragonKills\"] / gamedata[\"gameMinute\"]\n",
    "\n",
    "#분당 팀의 전령 처치량\n",
    "gamedata[\"riftHeraldKills_per_minute\"] = gamedata[\"riftHeraldKills\"] / gamedata[\"gameMinute\"]"
   ]
  },
  {
   "cell_type": "code",
   "execution_count": 22,
   "metadata": {},
   "outputs": [
    {
     "data": {
      "text/plain": [
       "0.6666666666666666"
      ]
     },
     "execution_count": 22,
     "metadata": {},
     "output_type": "execute_result"
    }
   ],
   "source": [
    "#ex) 15분에 타워 10개 파괴 ->\n",
    "10/15"
   ]
  },
  {
   "cell_type": "code",
   "execution_count": 23,
   "metadata": {},
   "outputs": [
    {
     "data": {
      "text/plain": [
       "0.3333333333333333"
      ]
     },
     "execution_count": 23,
     "metadata": {},
     "output_type": "execute_result"
    }
   ],
   "source": [
    "#ex) 30분에 타워 10개 파괴 ->\n",
    "10/30"
   ]
  },
  {
   "cell_type": "markdown",
   "execution_count": null,
   "metadata": {},
   "source": [
    "게임 시간에 맞춰 가중치가 반영된다."
   ]
  },
  {
   "cell_type": "code",
   "execution_count": 24,
   "metadata": {},
   "outputs": [
    {
     "data": {
      "text/plain": [
       "(array([], dtype=int64), array([], dtype=int64))"
      ]
     },
     "execution_count": 24,
     "metadata": {},
     "output_type": "execute_result"
    }
   ],
   "source": [
    "#inf 값 검사용\n",
    "np.where(gamedata.values >= np.finfo(np.float64).max)"
   ]
  },
  {
   "cell_type": "code",
   "execution_count": 25,
   "metadata": {},
   "outputs": [
    {
     "data": {
      "text/plain": [
       "team_deaths_per_minute                       -0.65688\n",
       "team_deaths                                  -0.52025\n",
       "deaths3                                      -0.41271\n",
       "deaths2                                      -0.41254\n",
       "deaths4                                      -0.41174\n",
       "deaths1                                      -0.41020\n",
       "deaths5                                      -0.40884\n",
       "time_bin                                     -0.00000\n",
       "gameDuration                                 -0.00000\n",
       "gameMinute                                    0.00000\n",
       "teamId                                        0.01238\n",
       "totalTimeCrowdControlDealt3                   0.04643\n",
       "totalTimeCrowdControlDealt2                   0.04864\n",
       "totalTimeCrowdControlDealt5                   0.04930\n",
       "totalTimeCrowdControlDealt1                   0.04930\n",
       "totalTimeCrowdControlDealt4                   0.04970\n",
       "visionScore1                                  0.08662\n",
       "visionScore5                                  0.08983\n",
       "visionScore4                                  0.09138\n",
       "visionScore2                                  0.09179\n",
       "team_totalTimeCrowdControlDealt               0.09362\n",
       "visionScore3                                  0.09508\n",
       "totalDamageDealtToChampions5                  0.13712\n",
       "totalDamageDealtToChampions4                  0.14078\n",
       "totalDamageDealtToChampions3                  0.14145\n",
       "totalDamageDealtToChampions2                  0.14187\n",
       "totalDamageDealtToChampions1                  0.14247\n",
       "team_visionScore                              0.14541\n",
       "team_totalTimeCrowdControlDealt_per_minute    0.16229\n",
       "team_totalDamageDealtToChampions              0.18963\n",
       "firstBlood                                    0.21861\n",
       "goldEarned5                                   0.25385\n",
       "goldEarned4                                   0.25522\n",
       "goldEarned2                                   0.25574\n",
       "goldEarned3                                   0.25667\n",
       "goldEarned1                                   0.25790\n",
       "team_visionScore_per_minute                   0.28077\n",
       "firstRiftHerald                               0.28633\n",
       "firstDragon                                   0.29541\n",
       "kills5                                        0.29954\n",
       "kills4                                        0.30076\n",
       "kills2                                        0.30290\n",
       "kills1                                        0.30312\n",
       "kills3                                        0.30365\n",
       "riftHeraldKills                               0.35103\n",
       "team_K/D_per_minute                           0.36217\n",
       "team_totalDamageDealt_per_minute              0.36318\n",
       "baronKills                                    0.39070\n",
       "riftHeraldKills_per_minute                    0.39976\n",
       "firstBaron                                    0.40709\n",
       "baronKills_per_minute                         0.42551\n",
       "firstTower                                    0.48227\n",
       "dragonKills                                   0.52098\n",
       "team_kills                                    0.52159\n",
       "team_K/D                                      0.53558\n",
       "inhibitorKills                                0.58328\n",
       "dragonKills_per_minute                        0.60537\n",
       "inhibitorKills_per_minute                     0.61882\n",
       "team_kills_per_minute                         0.65816\n",
       "firstInhibitor                                0.66682\n",
       "towerKills                                    0.75015\n",
       "towerKills_per_minute                         0.78432\n",
       "win                                           1.00000\n",
       "Name: win, dtype: float64"
      ]
     },
     "execution_count": 25,
     "metadata": {},
     "output_type": "execute_result"
    }
   ],
   "source": [
    "#승패에 영향이 가는 상관계수 분석\n",
    "gamedata.corr()[\"win\"].sort_values()"
   ]
  },
  {
   "cell_type": "markdown",
   "execution_count": null,
   "metadata": {},
   "source": [
    "새로 추가한 분당 성장률 지표의 상관계수가 이전의 팀 총합 지표보다 더욱 상승하였다."
   ]
  },
  {
   "cell_type": "markdown",
   "execution_count": null,
   "metadata": {},
   "source": [
    "## One hot Encoding  / 원 핫 인코딩\n",
    "\n",
    "회귀 모델은 범주형 변수를 이해하지 못하므로 원 핫 인코딩을 적용해줌"
   ]
  },
  {
   "cell_type": "code",
   "execution_count": 26,
   "metadata": {},
   "outputs": [],
   "source": [
    "gamedata.drop(\"gameId\",axis=1,inplace=True)\n",
    "\n",
    "gamedata[\"time_bin\"] = gamedata[\"time_bin\"].astype(\"object\")\n",
    "gamedata = pd.get_dummies(gamedata)"
   ]
  },
  {
   "cell_type": "markdown",
   "execution_count": null,
   "metadata": {},
   "source": [
    "## Feature Selection / 특성 선택\n",
    "\n",
    "추가했던 칼럼들과 기존의 변수간의 관계를 살펴보고 다중공선성 제거, 유용한 칼럼들만 남김\n",
    "\n",
    "특성 선택 기법에는 자동과 수동이 있는데, 굳이 수동적인 방법을 택한 이유는 향후 분석을 위해서이다.\n",
    "\n",
    "1. PCA - 제외함\n",
    "\n",
    "주성분 추출로, 자동으로 다중공선성을 제거하고 학습에 유용한 칼럼으로 차원축소되지만 해석이 어렵다.\n",
    "\n",
    "2. RFE - 제외함\n",
    "\n",
    "모든 변수를 우선 다 포함시킨 후 반복해서 학습을 진행하면서 중요도가 낮은 변수를 하나씩 제거하여 선택. 하지만 내부가 블랙박스이다.\n",
    "\n",
    "2. Correlation Analysis\n",
    "\n",
    "상관계수 분석을 통해, 각 변수간의 상관관계를 살피고 높은 칼럼들을 제거한다.\n",
    "\n",
    "3. VIF\n",
    "\n",
    "분산 인플레이션 계수 분석을 통해, 의존적인 칼럼들을 제거한다."
   ]
  },
  {
   "cell_type": "code",
   "execution_count": 27,
   "metadata": {},
   "outputs": [
    {
     "data": {
      "text/plain": [
       "<matplotlib.axes._subplots.AxesSubplot at 0x7f2c6d2f4150>"
      ]
     },
     "execution_count": 27,
     "metadata": {},
     "output_type": "execute_result"
    },
    {
     "data": {
      "image/png": "[encoded data removed]",
      "text/plain": [
       "<Figure size 1440x720 with 2 Axes>"
      ]
     },
     "metadata": {
      "needs_background": "light"
     },
     "output_type": "display_data"
    }
   ],
   "source": [
    "import seaborn as sns    \n",
    "plt.figure(figsize= (20, 10))\n",
    "sns.heatmap(gamedata.corr())"
   ]
  },
  {
   "cell_type": "markdown",
   "execution_count": null,
   "metadata": {},
   "source": [
    "개인 기록 칼럼들끼리 선형관계를 띄고 있다. 명백한 다중공선성 문제가 생길 것이라 예상."
   ]
  },
  {
   "cell_type": "code",
   "execution_count": 28,
   "metadata": {},
   "outputs": [],
   "source": [
    "personal_col = ['kills1', 'kills2', 'kills3', 'kills4', 'kills5','deaths1', 'deaths2', 'deaths3', 'deaths4', 'deaths5','totalDamageDealtToChampions1', 'totalDamageDealtToChampions2',\n",
    "       'totalDamageDealtToChampions3', 'totalDamageDealtToChampions4',\n",
    "       'totalDamageDealtToChampions5','goldEarned1', 'goldEarned2',\n",
    "       'goldEarned3', 'goldEarned4', 'goldEarned5','visionScore1',\n",
    "       'visionScore2', 'visionScore3', 'visionScore4', 'visionScore5',\n",
    "       'totalTimeCrowdControlDealt1', 'totalTimeCrowdControlDealt2',\n",
    "       'totalTimeCrowdControlDealt3', 'totalTimeCrowdControlDealt4',\n",
    "       'totalTimeCrowdControlDealt5']\n",
    "\n",
    "gamedata.drop(personal_col,axis=1,inplace=True)"
   ]
  },
  {
   "cell_type": "code",
   "execution_count": 29,
   "metadata": {},
   "outputs": [
    {
     "data": {
      "text/plain": [
       "<matplotlib.axes._subplots.AxesSubplot at 0x7f2d5175dbd0>"
      ]
     },
     "execution_count": 29,
     "metadata": {},
     "output_type": "execute_result"
    },
    {
     "data": {
      "image/png": "[encoded data removed]",
      "text/plain": [
       "<Figure size 1440x720 with 2 Axes>"
      ]
     },
     "metadata": {
      "needs_background": "light"
     },
     "output_type": "display_data"
    }
   ],
   "source": [
    "import seaborn as sns    \n",
    "plt.figure(figsize= (20, 10))\n",
    "sns.heatmap(gamedata.corr())"
   ]
  },
  {
   "cell_type": "markdown",
   "execution_count": null,
   "metadata": {},
   "source": [
    "팀 종합지표와 분당 팀 성장률이 높은 상관관계를 보이기 때문에 둘 중 하나는 제거해야함."
   ]
  },
  {
   "cell_type": "code",
   "execution_count": 30,
   "metadata": {},
   "outputs": [
    {
     "data": {
      "text/plain": [
       "Index(['gameDuration', 'teamId', 'win', 'firstBlood', 'firstTower',\n",
       "       'firstInhibitor', 'firstBaron', 'firstDragon', 'firstRiftHerald',\n",
       "       'towerKills', 'inhibitorKills', 'baronKills', 'dragonKills',\n",
       "       'riftHeraldKills', 'team_kills', 'team_deaths',\n",
       "       'team_totalDamageDealtToChampions', 'team_totalTimeCrowdControlDealt',\n",
       "       'team_visionScore', 'team_K/D', 'gameMinute', 'team_kills_per_minute',\n",
       "       'team_deaths_per_minute', 'team_K/D_per_minute',\n",
       "       'team_totalDamageDealt_per_minute',\n",
       "       'team_totalTimeCrowdControlDealt_per_minute',\n",
       "       'team_visionScore_per_minute', 'towerKills_per_minute',\n",
       "       'inhibitorKills_per_minute', 'baronKills_per_minute',\n",
       "       'dragonKills_per_minute', 'riftHeraldKills_per_minute', 'time_bin_1',\n",
       "       'time_bin_2', 'time_bin_3', 'time_bin_4'],\n",
       "      dtype='object')"
      ]
     },
     "execution_count": 30,
     "metadata": {},
     "output_type": "execute_result"
    }
   ],
   "source": [
    "gamedata.columns"
   ]
  },
  {
   "cell_type": "code",
   "execution_count": 31,
   "metadata": {},
   "outputs": [],
   "source": [
    "team_col = ['towerKills','inhibitorKills','baronKills','dragonKills','riftHeraldKills','team_kills', 'team_deaths','team_totalDamageDealtToChampions', \n",
    "            'team_totalTimeCrowdControlDealt','team_visionScore','team_K/D']\n",
    "\n",
    "gamedata.drop(team_col,axis=1,inplace=True)\n",
    "\n",
    "#오브젝트 갯수를 모두 합한 이 칼럼은 중복적인 요소가 많아 제거\n",
    "#gamedata.drop(\"team_object_per_minute\",axis=1,inplace=True)\n",
    "\n",
    "#가설에서 직관적인 지표를 피드백해야 하고, 각 지표가 올라갈수록 골드량이 많아지는 것은 당연하기 때문에 해당 칼럼은 가설을 검정하기에 좋지 않음.\n",
    "#gamedata.drop(\"team_goldEarned_per_minute\",axis=1,inplace=True)"
   ]
  },
  {
   "cell_type": "code",
   "execution_count": 32,
   "metadata": {},
   "outputs": [
    {
     "data": {
      "text/plain": [
       "<matplotlib.axes._subplots.AxesSubplot at 0x7f2d51761a50>"
      ]
     },
     "execution_count": 32,
     "metadata": {},
     "output_type": "execute_result"
    },
    {
     "data": {
      "image/png": "[encoded data removed]",
      "text/plain": [
       "<Figure size 1440x720 with 2 Axes>"
      ]
     },
     "metadata": {
      "needs_background": "light"
     },
     "output_type": "display_data"
    }
   ],
   "source": [
    "import seaborn as sns    \n",
    "plt.figure(figsize= (20, 10))\n",
    "sns.heatmap(gamedata.corr())"
   ]
  },
  {
   "cell_type": "markdown",
   "execution_count": null,
   "metadata": {},
   "source": [
    "독립변수간 상관관계가 많이 제거되었다."
   ]
  },
  {
   "cell_type": "code",
   "execution_count": 33,
   "metadata": {},
   "outputs": [],
   "source": [
    "gamedata.drop([\"gameDuration\",\"gameMinute\"],axis=1,inplace=True)"
   ]
  },
  {
   "cell_type": "code",
   "execution_count": 34,
   "metadata": {},
   "outputs": [
    {
     "data": {
      "text/plain": [
       "team_deaths_per_minute                       -0.65688\n",
       "time_bin_3                                   -0.00000\n",
       "time_bin_4                                   -0.00000\n",
       "time_bin_2                                   -0.00000\n",
       "time_bin_1                                    0.00000\n",
       "teamId                                        0.01238\n",
       "team_totalTimeCrowdControlDealt_per_minute    0.16229\n",
       "firstBlood                                    0.21861\n",
       "team_visionScore_per_minute                   0.28077\n",
       "firstRiftHerald                               0.28633\n",
       "firstDragon                                   0.29541\n",
       "team_K/D_per_minute                           0.36217\n",
       "team_totalDamageDealt_per_minute              0.36318\n",
       "riftHeraldKills_per_minute                    0.39976\n",
       "firstBaron                                    0.40709\n",
       "baronKills_per_minute                         0.42551\n",
       "firstTower                                    0.48227\n",
       "dragonKills_per_minute                        0.60537\n",
       "inhibitorKills_per_minute                     0.61882\n",
       "team_kills_per_minute                         0.65816\n",
       "firstInhibitor                                0.66682\n",
       "towerKills_per_minute                         0.78432\n",
       "win                                           1.00000\n",
       "Name: win, dtype: float64"
      ]
     },
     "execution_count": 34,
     "metadata": {},
     "output_type": "execute_result"
    }
   ],
   "source": [
    "#승패에 영향이 가는 상관계수 분석\n",
    "gamedata.corr()[\"win\"].sort_values()"
   ]
  },
  {
   "cell_type": "code",
   "execution_count": 35,
   "metadata": {},
   "outputs": [
    {
     "data": {
      "text/html": [
       "<div>\n",
       "<style scoped>\n",
       "    .dataframe tbody tr th:only-of-type {\n",
       "        vertical-align: middle;\n",
       "    }\n",
       "\n",
       "    .dataframe tbody tr th {\n",
       "        vertical-align: top;\n",
       "    }\n",
       "\n",
       "    .dataframe thead th {\n",
       "        text-align: right;\n",
       "    }\n",
       "</style>\n",
       "<table border=\"1\" class=\"dataframe\">\n",
       "  <thead>\n",
       "    <tr style=\"text-align: right;\">\n",
       "      <th></th>\n",
       "      <th>teamId</th>\n",
       "      <th>win</th>\n",
       "      <th>firstBlood</th>\n",
       "      <th>firstTower</th>\n",
       "      <th>firstInhibitor</th>\n",
       "      <th>firstBaron</th>\n",
       "      <th>firstDragon</th>\n",
       "      <th>firstRiftHerald</th>\n",
       "      <th>team_kills_per_minute</th>\n",
       "      <th>team_deaths_per_minute</th>\n",
       "      <th>...</th>\n",
       "      <th>team_visionScore_per_minute</th>\n",
       "      <th>towerKills_per_minute</th>\n",
       "      <th>inhibitorKills_per_minute</th>\n",
       "      <th>baronKills_per_minute</th>\n",
       "      <th>dragonKills_per_minute</th>\n",
       "      <th>riftHeraldKills_per_minute</th>\n",
       "      <th>time_bin_1</th>\n",
       "      <th>time_bin_2</th>\n",
       "      <th>time_bin_3</th>\n",
       "      <th>time_bin_4</th>\n",
       "    </tr>\n",
       "  </thead>\n",
       "  <tbody>\n",
       "    <tr>\n",
       "      <th>0</th>\n",
       "      <td>200</td>\n",
       "      <td>1</td>\n",
       "      <td>0</td>\n",
       "      <td>1</td>\n",
       "      <td>1</td>\n",
       "      <td>0</td>\n",
       "      <td>1</td>\n",
       "      <td>1</td>\n",
       "      <td>1.40590</td>\n",
       "      <td>0.68027</td>\n",
       "      <td>...</td>\n",
       "      <td>5.44218</td>\n",
       "      <td>0.40816</td>\n",
       "      <td>0.04535</td>\n",
       "      <td>0.00000</td>\n",
       "      <td>0.13605</td>\n",
       "      <td>0.09070</td>\n",
       "      <td>0</td>\n",
       "      <td>1</td>\n",
       "      <td>0</td>\n",
       "      <td>0</td>\n",
       "    </tr>\n",
       "    <tr>\n",
       "      <th>1</th>\n",
       "      <td>100</td>\n",
       "      <td>1</td>\n",
       "      <td>0</td>\n",
       "      <td>0</td>\n",
       "      <td>0</td>\n",
       "      <td>0</td>\n",
       "      <td>1</td>\n",
       "      <td>1</td>\n",
       "      <td>0.86560</td>\n",
       "      <td>0.36446</td>\n",
       "      <td>...</td>\n",
       "      <td>5.69476</td>\n",
       "      <td>0.18223</td>\n",
       "      <td>0.00000</td>\n",
       "      <td>0.00000</td>\n",
       "      <td>0.09112</td>\n",
       "      <td>0.09112</td>\n",
       "      <td>0</td>\n",
       "      <td>1</td>\n",
       "      <td>0</td>\n",
       "      <td>0</td>\n",
       "    </tr>\n",
       "    <tr>\n",
       "      <th>2</th>\n",
       "      <td>200</td>\n",
       "      <td>1</td>\n",
       "      <td>1</td>\n",
       "      <td>1</td>\n",
       "      <td>1</td>\n",
       "      <td>0</td>\n",
       "      <td>1</td>\n",
       "      <td>0</td>\n",
       "      <td>1.35048</td>\n",
       "      <td>0.53055</td>\n",
       "      <td>...</td>\n",
       "      <td>5.16077</td>\n",
       "      <td>0.28939</td>\n",
       "      <td>0.04823</td>\n",
       "      <td>0.00000</td>\n",
       "      <td>0.14469</td>\n",
       "      <td>0.04823</td>\n",
       "      <td>0</td>\n",
       "      <td>1</td>\n",
       "      <td>0</td>\n",
       "      <td>0</td>\n",
       "    </tr>\n",
       "    <tr>\n",
       "      <th>3</th>\n",
       "      <td>200</td>\n",
       "      <td>1</td>\n",
       "      <td>0</td>\n",
       "      <td>1</td>\n",
       "      <td>0</td>\n",
       "      <td>0</td>\n",
       "      <td>1</td>\n",
       "      <td>1</td>\n",
       "      <td>1.68399</td>\n",
       "      <td>0.81081</td>\n",
       "      <td>...</td>\n",
       "      <td>5.42620</td>\n",
       "      <td>0.18711</td>\n",
       "      <td>0.00000</td>\n",
       "      <td>0.00000</td>\n",
       "      <td>0.06237</td>\n",
       "      <td>0.06237</td>\n",
       "      <td>1</td>\n",
       "      <td>0</td>\n",
       "      <td>0</td>\n",
       "      <td>0</td>\n",
       "    </tr>\n",
       "    <tr>\n",
       "      <th>4</th>\n",
       "      <td>200</td>\n",
       "      <td>1</td>\n",
       "      <td>1</td>\n",
       "      <td>1</td>\n",
       "      <td>1</td>\n",
       "      <td>1</td>\n",
       "      <td>0</td>\n",
       "      <td>0</td>\n",
       "      <td>0.91912</td>\n",
       "      <td>0.58824</td>\n",
       "      <td>...</td>\n",
       "      <td>5.66176</td>\n",
       "      <td>0.33088</td>\n",
       "      <td>0.07353</td>\n",
       "      <td>0.03676</td>\n",
       "      <td>0.07353</td>\n",
       "      <td>0.00000</td>\n",
       "      <td>0</td>\n",
       "      <td>0</td>\n",
       "      <td>1</td>\n",
       "      <td>0</td>\n",
       "    </tr>\n",
       "    <tr>\n",
       "      <th>...</th>\n",
       "      <td>...</td>\n",
       "      <td>...</td>\n",
       "      <td>...</td>\n",
       "      <td>...</td>\n",
       "      <td>...</td>\n",
       "      <td>...</td>\n",
       "      <td>...</td>\n",
       "      <td>...</td>\n",
       "      <td>...</td>\n",
       "      <td>...</td>\n",
       "      <td>...</td>\n",
       "      <td>...</td>\n",
       "      <td>...</td>\n",
       "      <td>...</td>\n",
       "      <td>...</td>\n",
       "      <td>...</td>\n",
       "      <td>...</td>\n",
       "      <td>...</td>\n",
       "      <td>...</td>\n",
       "      <td>...</td>\n",
       "      <td>...</td>\n",
       "    </tr>\n",
       "    <tr>\n",
       "      <th>180923</th>\n",
       "      <td>200</td>\n",
       "      <td>0</td>\n",
       "      <td>0</td>\n",
       "      <td>0</td>\n",
       "      <td>0</td>\n",
       "      <td>0</td>\n",
       "      <td>0</td>\n",
       "      <td>0</td>\n",
       "      <td>0.86514</td>\n",
       "      <td>1.32316</td>\n",
       "      <td>...</td>\n",
       "      <td>4.22392</td>\n",
       "      <td>0.05089</td>\n",
       "      <td>0.00000</td>\n",
       "      <td>0.00000</td>\n",
       "      <td>0.00000</td>\n",
       "      <td>0.00000</td>\n",
       "      <td>1</td>\n",
       "      <td>0</td>\n",
       "      <td>0</td>\n",
       "      <td>0</td>\n",
       "    </tr>\n",
       "    <tr>\n",
       "      <th>180924</th>\n",
       "      <td>100</td>\n",
       "      <td>0</td>\n",
       "      <td>0</td>\n",
       "      <td>0</td>\n",
       "      <td>0</td>\n",
       "      <td>0</td>\n",
       "      <td>1</td>\n",
       "      <td>0</td>\n",
       "      <td>0.57007</td>\n",
       "      <td>1.21140</td>\n",
       "      <td>...</td>\n",
       "      <td>5.70071</td>\n",
       "      <td>0.00000</td>\n",
       "      <td>0.00000</td>\n",
       "      <td>0.00000</td>\n",
       "      <td>0.03563</td>\n",
       "      <td>0.00000</td>\n",
       "      <td>0</td>\n",
       "      <td>0</td>\n",
       "      <td>1</td>\n",
       "      <td>0</td>\n",
       "    </tr>\n",
       "    <tr>\n",
       "      <th>180925</th>\n",
       "      <td>100</td>\n",
       "      <td>0</td>\n",
       "      <td>1</td>\n",
       "      <td>1</td>\n",
       "      <td>0</td>\n",
       "      <td>0</td>\n",
       "      <td>0</td>\n",
       "      <td>1</td>\n",
       "      <td>0.61475</td>\n",
       "      <td>0.65574</td>\n",
       "      <td>...</td>\n",
       "      <td>5.28689</td>\n",
       "      <td>0.08197</td>\n",
       "      <td>0.00000</td>\n",
       "      <td>0.00000</td>\n",
       "      <td>0.00000</td>\n",
       "      <td>0.04098</td>\n",
       "      <td>0</td>\n",
       "      <td>1</td>\n",
       "      <td>0</td>\n",
       "      <td>0</td>\n",
       "    </tr>\n",
       "    <tr>\n",
       "      <th>180926</th>\n",
       "      <td>200</td>\n",
       "      <td>0</td>\n",
       "      <td>1</td>\n",
       "      <td>1</td>\n",
       "      <td>0</td>\n",
       "      <td>0</td>\n",
       "      <td>1</td>\n",
       "      <td>1</td>\n",
       "      <td>1.20425</td>\n",
       "      <td>1.31051</td>\n",
       "      <td>...</td>\n",
       "      <td>6.02125</td>\n",
       "      <td>0.14168</td>\n",
       "      <td>0.00000</td>\n",
       "      <td>0.00000</td>\n",
       "      <td>0.07084</td>\n",
       "      <td>0.03542</td>\n",
       "      <td>0</td>\n",
       "      <td>0</td>\n",
       "      <td>1</td>\n",
       "      <td>0</td>\n",
       "    </tr>\n",
       "    <tr>\n",
       "      <th>180927</th>\n",
       "      <td>200</td>\n",
       "      <td>0</td>\n",
       "      <td>0</td>\n",
       "      <td>0</td>\n",
       "      <td>0</td>\n",
       "      <td>0</td>\n",
       "      <td>0</td>\n",
       "      <td>0</td>\n",
       "      <td>0.82967</td>\n",
       "      <td>1.50849</td>\n",
       "      <td>...</td>\n",
       "      <td>4.78944</td>\n",
       "      <td>0.03771</td>\n",
       "      <td>0.00000</td>\n",
       "      <td>0.00000</td>\n",
       "      <td>0.00000</td>\n",
       "      <td>0.00000</td>\n",
       "      <td>0</td>\n",
       "      <td>0</td>\n",
       "      <td>1</td>\n",
       "      <td>0</td>\n",
       "    </tr>\n",
       "  </tbody>\n",
       "</table>\n",
       "<p>178538 rows × 23 columns</p>\n",
       "</div>"
      ],
      "text/plain": [
       "        teamId  win  firstBlood  firstTower  firstInhibitor  firstBaron  \\\n",
       "0          200    1           0           1               1           0   \n",
       "1          100    1           0           0               0           0   \n",
       "2          200    1           1           1               1           0   \n",
       "3          200    1           0           1               0           0   \n",
       "4          200    1           1           1               1           1   \n",
       "...        ...  ...         ...         ...             ...         ...   \n",
       "180923     200    0           0           0               0           0   \n",
       "180924     100    0           0           0               0           0   \n",
       "180925     100    0           1           1               0           0   \n",
       "180926     200    0           1           1               0           0   \n",
       "180927     200    0           0           0               0           0   \n",
       "\n",
       "        firstDragon  firstRiftHerald  team_kills_per_minute  \\\n",
       "0                 1                1                1.40590   \n",
       "1                 1                1                0.86560   \n",
       "2                 1                0                1.35048   \n",
       "3                 1                1                1.68399   \n",
       "4                 0                0                0.91912   \n",
       "...             ...              ...                    ...   \n",
       "180923            0                0                0.86514   \n",
       "180924            1                0                0.57007   \n",
       "180925            0                1                0.61475   \n",
       "180926            1                1                1.20425   \n",
       "180927            0                0                0.82967   \n",
       "\n",
       "        team_deaths_per_minute  ...  team_visionScore_per_minute  \\\n",
       "0                      0.68027  ...                      5.44218   \n",
       "1                      0.36446  ...                      5.69476   \n",
       "2                      0.53055  ...                      5.16077   \n",
       "3                      0.81081  ...                      5.42620   \n",
       "4                      0.58824  ...                      5.66176   \n",
       "...                        ...  ...                          ...   \n",
       "180923                 1.32316  ...                      4.22392   \n",
       "180924                 1.21140  ...                      5.70071   \n",
       "180925                 0.65574  ...                      5.28689   \n",
       "180926                 1.31051  ...                      6.02125   \n",
       "180927                 1.50849  ...                      4.78944   \n",
       "\n",
       "        towerKills_per_minute  inhibitorKills_per_minute  \\\n",
       "0                     0.40816                    0.04535   \n",
       "1                     0.18223                    0.00000   \n",
       "2                     0.28939                    0.04823   \n",
       "3                     0.18711                    0.00000   \n",
       "4                     0.33088                    0.07353   \n",
       "...                       ...                        ...   \n",
       "180923                0.05089                    0.00000   \n",
       "180924                0.00000                    0.00000   \n",
       "180925                0.08197                    0.00000   \n",
       "180926                0.14168                    0.00000   \n",
       "180927                0.03771                    0.00000   \n",
       "\n",
       "        baronKills_per_minute  dragonKills_per_minute  \\\n",
       "0                     0.00000                 0.13605   \n",
       "1                     0.00000                 0.09112   \n",
       "2                     0.00000                 0.14469   \n",
       "3                     0.00000                 0.06237   \n",
       "4                     0.03676                 0.07353   \n",
       "...                       ...                     ...   \n",
       "180923                0.00000                 0.00000   \n",
       "180924                0.00000                 0.03563   \n",
       "180925                0.00000                 0.00000   \n",
       "180926                0.00000                 0.07084   \n",
       "180927                0.00000                 0.00000   \n",
       "\n",
       "        riftHeraldKills_per_minute  time_bin_1  time_bin_2  time_bin_3  \\\n",
       "0                          0.09070           0           1           0   \n",
       "1                          0.09112           0           1           0   \n",
       "2                          0.04823           0           1           0   \n",
       "3                          0.06237           1           0           0   \n",
       "4                          0.00000           0           0           1   \n",
       "...                            ...         ...         ...         ...   \n",
       "180923                     0.00000           1           0           0   \n",
       "180924                     0.00000           0           0           1   \n",
       "180925                     0.04098           0           1           0   \n",
       "180926                     0.03542           0           0           1   \n",
       "180927                     0.00000           0           0           1   \n",
       "\n",
       "        time_bin_4  \n",
       "0                0  \n",
       "1                0  \n",
       "2                0  \n",
       "3                0  \n",
       "4                0  \n",
       "...            ...  \n",
       "180923           0  \n",
       "180924           0  \n",
       "180925           0  \n",
       "180926           0  \n",
       "180927           0  \n",
       "\n",
       "[178538 rows x 23 columns]"
      ]
     },
     "execution_count": 35,
     "metadata": {},
     "output_type": "execute_result"
    }
   ],
   "source": [
    "gamedata"
   ]
  },
  {
   "cell_type": "code",
   "execution_count": 36,
   "metadata": {},
   "outputs": [
    {
     "data": {
      "text/html": [
       "<div>\n",
       "<style scoped>\n",
       "    .dataframe tbody tr th:only-of-type {\n",
       "        vertical-align: middle;\n",
       "    }\n",
       "\n",
       "    .dataframe tbody tr th {\n",
       "        vertical-align: top;\n",
       "    }\n",
       "\n",
       "    .dataframe thead th {\n",
       "        text-align: right;\n",
       "    }\n",
       "</style>\n",
       "<table border=\"1\" class=\"dataframe\">\n",
       "  <thead>\n",
       "    <tr style=\"text-align: right;\">\n",
       "      <th></th>\n",
       "      <th>VIF Factor</th>\n",
       "      <th>features</th>\n",
       "    </tr>\n",
       "  </thead>\n",
       "  <tbody>\n",
       "    <tr>\n",
       "      <th>0</th>\n",
       "      <td>1.03604</td>\n",
       "      <td>teamId</td>\n",
       "    </tr>\n",
       "    <tr>\n",
       "      <th>1</th>\n",
       "      <td>4.68537</td>\n",
       "      <td>win</td>\n",
       "    </tr>\n",
       "    <tr>\n",
       "      <th>2</th>\n",
       "      <td>1.11186</td>\n",
       "      <td>firstBlood</td>\n",
       "    </tr>\n",
       "    <tr>\n",
       "      <th>3</th>\n",
       "      <td>1.80243</td>\n",
       "      <td>firstTower</td>\n",
       "    </tr>\n",
       "    <tr>\n",
       "      <th>4</th>\n",
       "      <td>4.22409</td>\n",
       "      <td>firstInhibitor</td>\n",
       "    </tr>\n",
       "    <tr>\n",
       "      <th>5</th>\n",
       "      <td>6.79453</td>\n",
       "      <td>firstBaron</td>\n",
       "    </tr>\n",
       "    <tr>\n",
       "      <th>6</th>\n",
       "      <td>1.80734</td>\n",
       "      <td>firstDragon</td>\n",
       "    </tr>\n",
       "    <tr>\n",
       "      <th>7</th>\n",
       "      <td>3.26748</td>\n",
       "      <td>firstRiftHerald</td>\n",
       "    </tr>\n",
       "    <tr>\n",
       "      <th>8</th>\n",
       "      <td>4.52155</td>\n",
       "      <td>team_kills_per_minute</td>\n",
       "    </tr>\n",
       "    <tr>\n",
       "      <th>9</th>\n",
       "      <td>2.77898</td>\n",
       "      <td>team_deaths_per_minute</td>\n",
       "    </tr>\n",
       "    <tr>\n",
       "      <th>10</th>\n",
       "      <td>1.85044</td>\n",
       "      <td>team_K/D_per_minute</td>\n",
       "    </tr>\n",
       "    <tr>\n",
       "      <th>11</th>\n",
       "      <td>4.74186</td>\n",
       "      <td>team_totalDamageDealt_per_minute</td>\n",
       "    </tr>\n",
       "    <tr>\n",
       "      <th>12</th>\n",
       "      <td>1.08316</td>\n",
       "      <td>team_totalTimeCrowdControlDealt_per_minute</td>\n",
       "    </tr>\n",
       "    <tr>\n",
       "      <th>13</th>\n",
       "      <td>2.31340</td>\n",
       "      <td>team_visionScore_per_minute</td>\n",
       "    </tr>\n",
       "    <tr>\n",
       "      <th>14</th>\n",
       "      <td>7.03044</td>\n",
       "      <td>towerKills_per_minute</td>\n",
       "    </tr>\n",
       "    <tr>\n",
       "      <th>15</th>\n",
       "      <td>4.66557</td>\n",
       "      <td>inhibitorKills_per_minute</td>\n",
       "    </tr>\n",
       "    <tr>\n",
       "      <th>16</th>\n",
       "      <td>7.17799</td>\n",
       "      <td>baronKills_per_minute</td>\n",
       "    </tr>\n",
       "    <tr>\n",
       "      <th>17</th>\n",
       "      <td>2.86789</td>\n",
       "      <td>dragonKills_per_minute</td>\n",
       "    </tr>\n",
       "    <tr>\n",
       "      <th>18</th>\n",
       "      <td>3.82837</td>\n",
       "      <td>riftHeraldKills_per_minute</td>\n",
       "    </tr>\n",
       "    <tr>\n",
       "      <th>19</th>\n",
       "      <td>15.78513</td>\n",
       "      <td>time_bin_1</td>\n",
       "    </tr>\n",
       "    <tr>\n",
       "      <th>20</th>\n",
       "      <td>20.96444</td>\n",
       "      <td>time_bin_2</td>\n",
       "    </tr>\n",
       "    <tr>\n",
       "      <th>21</th>\n",
       "      <td>22.47019</td>\n",
       "      <td>time_bin_3</td>\n",
       "    </tr>\n",
       "    <tr>\n",
       "      <th>22</th>\n",
       "      <td>24.37703</td>\n",
       "      <td>time_bin_4</td>\n",
       "    </tr>\n",
       "  </tbody>\n",
       "</table>\n",
       "</div>"
      ],
      "text/plain": [
       "    VIF Factor                                    features\n",
       "0      1.03604                                      teamId\n",
       "1      4.68537                                         win\n",
       "2      1.11186                                  firstBlood\n",
       "3      1.80243                                  firstTower\n",
       "4      4.22409                              firstInhibitor\n",
       "5      6.79453                                  firstBaron\n",
       "6      1.80734                                 firstDragon\n",
       "7      3.26748                             firstRiftHerald\n",
       "8      4.52155                       team_kills_per_minute\n",
       "9      2.77898                      team_deaths_per_minute\n",
       "10     1.85044                         team_K/D_per_minute\n",
       "11     4.74186            team_totalDamageDealt_per_minute\n",
       "12     1.08316  team_totalTimeCrowdControlDealt_per_minute\n",
       "13     2.31340                 team_visionScore_per_minute\n",
       "14     7.03044                       towerKills_per_minute\n",
       "15     4.66557                   inhibitorKills_per_minute\n",
       "16     7.17799                       baronKills_per_minute\n",
       "17     2.86789                      dragonKills_per_minute\n",
       "18     3.82837                  riftHeraldKills_per_minute\n",
       "19    15.78513                                  time_bin_1\n",
       "20    20.96444                                  time_bin_2\n",
       "21    22.47019                                  time_bin_3\n",
       "22    24.37703                                  time_bin_4"
      ]
     },
     "execution_count": 36,
     "metadata": {},
     "output_type": "execute_result"
    }
   ],
   "source": [
    "#VIF 분석으로 최종 검사 , 10 이상일 경우 다중공선성 문제가 생길 수 있음.\n",
    "from statsmodels.stats.outliers_influence import variance_inflation_factor\n",
    "\n",
    "vif = pd.DataFrame()\n",
    "vif[\"VIF Factor\"] = [variance_inflation_factor(\n",
    "    gamedata.values, i) for i in range(gamedata.shape[1])]\n",
    "vif[\"features\"] = gamedata.columns\n",
    "vif"
   ]
  },
  {
   "cell_type": "markdown",
   "execution_count": null,
   "metadata": {},
   "source": [
    "time_bin은 one hot encoding 된 항목으로 서로 상관관계가 있는것이 당연하다. 하지만 전부 나타내는 뜻이 다르므로 그대로 둔다."
   ]
  },
  {
   "cell_type": "markdown",
   "execution_count": null,
   "metadata": {},
   "source": [
    "# Modeling / 머신러닝 모델 구축"
   ]
  },
  {
   "cell_type": "markdown",
   "execution_count": null,
   "metadata": {},
   "source": [
    "### Logistic Regression 로지스틱 회귀\n",
    "\n",
    "모델을 구축하기 전, 마지막으로 로지스틱 회귀분석을 시행하여 Input 데이터셋을 분석한다."
   ]
  },
  {
   "cell_type": "code",
   "execution_count": 37,
   "metadata": {},
   "outputs": [
    {
     "data": {
      "text/plain": [
       "(178538, 23)"
      ]
     },
     "execution_count": 37,
     "metadata": {},
     "output_type": "execute_result"
    }
   ],
   "source": [
    "gamedata.shape"
   ]
  },
  {
   "cell_type": "code",
   "execution_count": 38,
   "metadata": {},
   "outputs": [],
   "source": [
    "x_data = gamedata.drop(\"win\",axis=1)\n",
    "y_data = gamedata[\"win\"]"
   ]
  },
  {
   "cell_type": "code",
   "execution_count": 39,
   "metadata": {},
   "outputs": [
    {
     "name": "stdout",
     "output_type": "stream",
     "text": [
      "<class 'pandas.core.frame.DataFrame'>\n",
      "Int64Index: 178538 entries, 0 to 180927\n",
      "Data columns (total 22 columns):\n",
      " #   Column                                      Non-Null Count   Dtype  \n",
      "---  ------                                      --------------   -----  \n",
      " 0   teamId                                      178538 non-null  int64  \n",
      " 1   firstBlood                                  178538 non-null  int64  \n",
      " 2   firstTower                                  178538 non-null  int64  \n",
      " 3   firstInhibitor                              178538 non-null  int64  \n",
      " 4   firstBaron                                  178538 non-null  int64  \n",
      " 5   firstDragon                                 178538 non-null  int64  \n",
      " 6   firstRiftHerald                             178538 non-null  int64  \n",
      " 7   team_kills_per_minute                       178538 non-null  float64\n",
      " 8   team_deaths_per_minute                      178538 non-null  float64\n",
      " 9   team_K/D_per_minute                         178538 non-null  float64\n",
      " 10  team_totalDamageDealt_per_minute            178538 non-null  float64\n",
      " 11  team_totalTimeCrowdControlDealt_per_minute  178538 non-null  float64\n",
      " 12  team_visionScore_per_minute                 178538 non-null  float64\n",
      " 13  towerKills_per_minute                       178538 non-null  float64\n",
      " 14  inhibitorKills_per_minute                   178538 non-null  float64\n",
      " 15  baronKills_per_minute                       178538 non-null  float64\n",
      " 16  dragonKills_per_minute                      178538 non-null  float64\n",
      " 17  riftHeraldKills_per_minute                  178538 non-null  float64\n",
      " 18  time_bin_1                                  178538 non-null  uint8  \n",
      " 19  time_bin_2                                  178538 non-null  uint8  \n",
      " 20  time_bin_3                                  178538 non-null  uint8  \n",
      " 21  time_bin_4                                  178538 non-null  uint8  \n",
      "dtypes: float64(11), int64(7), uint8(4)\n",
      "memory usage: 26.6 MB\n"
     ]
    }
   ],
   "source": [
    "x_data.info()"
   ]
  },
  {
   "cell_type": "code",
   "execution_count": 40,
   "metadata": {},
   "outputs": [
    {
     "data": {
      "text/plain": [
       "['teamId',\n",
       " 'firstBlood',\n",
       " 'firstTower',\n",
       " 'firstInhibitor',\n",
       " 'firstBaron',\n",
       " 'firstDragon',\n",
       " 'firstRiftHerald',\n",
       " 'team_kills_per_minute',\n",
       " 'team_deaths_per_minute',\n",
       " 'team_K/D_per_minute',\n",
       " 'team_totalDamageDealt_per_minute',\n",
       " 'team_totalTimeCrowdControlDealt_per_minute',\n",
       " 'team_visionScore_per_minute',\n",
       " 'towerKills_per_minute',\n",
       " 'inhibitorKills_per_minute',\n",
       " 'baronKills_per_minute',\n",
       " 'dragonKills_per_minute',\n",
       " 'riftHeraldKills_per_minute',\n",
       " 'time_bin_1',\n",
       " 'time_bin_2',\n",
       " 'time_bin_3',\n",
       " 'time_bin_4']"
      ]
     },
     "execution_count": 40,
     "metadata": {},
     "output_type": "execute_result"
    }
   ],
   "source": [
    "#사용하는 Input column\n",
    "use_col = list(x_data.columns)\n",
    "use_col"
   ]
  },
  {
   "cell_type": "code",
   "execution_count": 41,
   "metadata": {},
   "outputs": [
    {
     "name": "stdout",
     "output_type": "stream",
     "text": [
      "Optimization terminated successfully.\n",
      "         Current function value: 0.062058\n",
      "         Iterations 13\n"
     ]
    },
    {
     "data": {
      "text/html": [
       "<table class=\"simpletable\">\n",
       "<tr>\n",
       "        <td>Model:</td>              <td>Logit</td>      <td>Pseudo R-squared:</td>    <td>0.910</td>   \n",
       "</tr>\n",
       "<tr>\n",
       "  <td>Dependent Variable:</td>        <td>win</td>             <td>AIC:</td>        <td>22203.5226</td> \n",
       "</tr>\n",
       "<tr>\n",
       "         <td>Date:</td>        <td>2020-05-17 12:25</td>       <td>BIC:</td>        <td>22425.5589</td> \n",
       "</tr>\n",
       "<tr>\n",
       "   <td>No. Observations:</td>       <td>178538</td>       <td>Log-Likelihood:</td>    <td>-11080.</td>  \n",
       "</tr>\n",
       "<tr>\n",
       "       <td>Df Model:</td>             <td>21</td>            <td>LL-Null:</td>      <td>-1.2375e+05</td>\n",
       "</tr>\n",
       "<tr>\n",
       "     <td>Df Residuals:</td>         <td>178516</td>        <td>LLR p-value:</td>      <td>0.0000</td>   \n",
       "</tr>\n",
       "<tr>\n",
       "      <td>Converged:</td>           <td>1.0000</td>           <td>Scale:</td>         <td>1.0000</td>   \n",
       "</tr>\n",
       "<tr>\n",
       "    <td>No. Iterations:</td>        <td>13.0000</td>             <td></td>               <td></td>      \n",
       "</tr>\n",
       "</table>\n",
       "<table class=\"simpletable\">\n",
       "<tr>\n",
       "                       <td></td>                        <th>Coef.</th>  <th>Std.Err.</th>     <th>z</th>     <th>P>|z|</th>  <th>[0.025</th>   <th>0.975]</th> \n",
       "</tr>\n",
       "<tr>\n",
       "  <th>teamId</th>                                      <td>0.0011</td>   <td>0.0004</td>   <td>3.1409</td>  <td>0.0017</td>  <td>0.0004</td>   <td>0.0019</td> \n",
       "</tr>\n",
       "<tr>\n",
       "  <th>firstBlood</th>                                  <td>-0.4533</td>  <td>0.0363</td>  <td>-12.5046</td> <td>0.0000</td>  <td>-0.5244</td>  <td>-0.3823</td>\n",
       "</tr>\n",
       "<tr>\n",
       "  <th>firstTower</th>                                  <td>-0.5895</td>  <td>0.0408</td>  <td>-14.4648</td> <td>0.0000</td>  <td>-0.6694</td>  <td>-0.5097</td>\n",
       "</tr>\n",
       "<tr>\n",
       "  <th>firstInhibitor</th>                              <td>0.0500</td>   <td>0.0506</td>   <td>0.9884</td>  <td>0.3229</td>  <td>-0.0491</td>  <td>0.1491</td> \n",
       "</tr>\n",
       "<tr>\n",
       "  <th>firstBaron</th>                                  <td>-0.4725</td>  <td>0.0603</td>   <td>-7.8350</td> <td>0.0000</td>  <td>-0.5907</td>  <td>-0.3543</td>\n",
       "</tr>\n",
       "<tr>\n",
       "  <th>firstDragon</th>                                 <td>-0.1393</td>  <td>0.0410</td>   <td>-3.3963</td> <td>0.0007</td>  <td>-0.2196</td>  <td>-0.0589</td>\n",
       "</tr>\n",
       "<tr>\n",
       "  <th>firstRiftHerald</th>                             <td>0.3430</td>   <td>0.0588</td>   <td>5.8282</td>  <td>0.0000</td>  <td>0.2276</td>   <td>0.4583</td> \n",
       "</tr>\n",
       "<tr>\n",
       "  <th>team_kills_per_minute</th>                       <td>5.3903</td>   <td>0.1908</td>   <td>28.2483</td> <td>0.0000</td>  <td>5.0163</td>   <td>5.7643</td> \n",
       "</tr>\n",
       "<tr>\n",
       "  <th>team_deaths_per_minute</th>                      <td>-7.9236</td>  <td>0.1858</td>  <td>-42.6492</td> <td>0.0000</td>  <td>-8.2878</td>  <td>-7.5595</td>\n",
       "</tr>\n",
       "<tr>\n",
       "  <th>team_K/D_per_minute</th>                         <td>48.1389</td>  <td>3.4781</td>   <td>13.8405</td> <td>0.0000</td>  <td>41.3219</td>  <td>54.9559</td>\n",
       "</tr>\n",
       "<tr>\n",
       "  <th>team_totalDamageDealt_per_minute</th>            <td>0.0008</td>   <td>0.0000</td>   <td>17.6971</td> <td>0.0000</td>  <td>0.0007</td>   <td>0.0009</td> \n",
       "</tr>\n",
       "<tr>\n",
       "  <th>team_totalTimeCrowdControlDealt_per_minute</th>  <td>0.0061</td>   <td>0.0016</td>   <td>3.8136</td>  <td>0.0001</td>  <td>0.0030</td>   <td>0.0092</td> \n",
       "</tr>\n",
       "<tr>\n",
       "  <th>team_visionScore_per_minute</th>                 <td>-0.1207</td>  <td>0.0186</td>   <td>-6.4787</td> <td>0.0000</td>  <td>-0.1572</td>  <td>-0.0842</td>\n",
       "</tr>\n",
       "<tr>\n",
       "  <th>towerKills_per_minute</th>                       <td>27.1699</td>  <td>0.4417</td>   <td>61.5184</td> <td>0.0000</td>  <td>26.3042</td>  <td>28.0355</td>\n",
       "</tr>\n",
       "<tr>\n",
       "  <th>inhibitorKills_per_minute</th>                   <td>8.1186</td>   <td>1.1737</td>   <td>6.9170</td>  <td>0.0000</td>  <td>5.8181</td>   <td>10.4190</td>\n",
       "</tr>\n",
       "<tr>\n",
       "  <th>baronKills_per_minute</th>                       <td>37.4943</td>  <td>1.5653</td>   <td>23.9531</td> <td>0.0000</td>  <td>34.4263</td>  <td>40.5622</td>\n",
       "</tr>\n",
       "<tr>\n",
       "  <th>dragonKills_per_minute</th>                      <td>12.1160</td>  <td>0.6122</td>   <td>19.7908</td> <td>0.0000</td>  <td>10.9161</td>  <td>13.3159</td>\n",
       "</tr>\n",
       "<tr>\n",
       "  <th>riftHeraldKills_per_minute</th>                 <td>-15.3500</td>  <td>1.2187</td>  <td>-12.5952</td> <td>0.0000</td> <td>-17.7386</td> <td>-12.9614</td>\n",
       "</tr>\n",
       "<tr>\n",
       "  <th>time_bin_1</th>                                  <td>-5.2779</td>  <td>0.3022</td>  <td>-17.4671</td> <td>0.0000</td>  <td>-5.8701</td>  <td>-4.6856</td>\n",
       "</tr>\n",
       "<tr>\n",
       "  <th>time_bin_2</th>                                  <td>-5.6815</td>  <td>0.2552</td>  <td>-22.2588</td> <td>0.0000</td>  <td>-6.1817</td>  <td>-5.1812</td>\n",
       "</tr>\n",
       "<tr>\n",
       "  <th>time_bin_3</th>                                  <td>-6.9378</td>  <td>0.2460</td>  <td>-28.2014</td> <td>0.0000</td>  <td>-7.4199</td>  <td>-6.4556</td>\n",
       "</tr>\n",
       "<tr>\n",
       "  <th>time_bin_4</th>                                  <td>-7.3661</td>  <td>0.2380</td>  <td>-30.9504</td> <td>0.0000</td>  <td>-7.8326</td>  <td>-6.8996</td>\n",
       "</tr>\n",
       "</table>"
      ],
      "text/plain": [
       "<class 'statsmodels.iolib.summary2.Summary'>\n",
       "\"\"\"\n",
       "                                        Results: Logit\n",
       "==============================================================================================\n",
       "Model:                        Logit                     Pseudo R-squared:          0.910      \n",
       "Dependent Variable:           win                       AIC:                       22203.5226 \n",
       "Date:                         2020-05-17 12:25          BIC:                       22425.5589 \n",
       "No. Observations:             178538                    Log-Likelihood:            -11080.    \n",
       "Df Model:                     21                        LL-Null:                   -1.2375e+05\n",
       "Df Residuals:                 178516                    LLR p-value:               0.0000     \n",
       "Converged:                    1.0000                    Scale:                     1.0000     \n",
       "No. Iterations:               13.0000                                                         \n",
       "----------------------------------------------------------------------------------------------\n",
       "                                            Coef.   Std.Err.    z     P>|z|   [0.025   0.975] \n",
       "----------------------------------------------------------------------------------------------\n",
       "teamId                                       0.0011   0.0004   3.1409 0.0017   0.0004   0.0019\n",
       "firstBlood                                  -0.4533   0.0363 -12.5046 0.0000  -0.5244  -0.3823\n",
       "firstTower                                  -0.5895   0.0408 -14.4648 0.0000  -0.6694  -0.5097\n",
       "firstInhibitor                               0.0500   0.0506   0.9884 0.3229  -0.0491   0.1491\n",
       "firstBaron                                  -0.4725   0.0603  -7.8350 0.0000  -0.5907  -0.3543\n",
       "firstDragon                                 -0.1393   0.0410  -3.3963 0.0007  -0.2196  -0.0589\n",
       "firstRiftHerald                              0.3430   0.0588   5.8282 0.0000   0.2276   0.4583\n",
       "team_kills_per_minute                        5.3903   0.1908  28.2483 0.0000   5.0163   5.7643\n",
       "team_deaths_per_minute                      -7.9236   0.1858 -42.6492 0.0000  -8.2878  -7.5595\n",
       "team_K/D_per_minute                         48.1389   3.4781  13.8405 0.0000  41.3219  54.9559\n",
       "team_totalDamageDealt_per_minute             0.0008   0.0000  17.6971 0.0000   0.0007   0.0009\n",
       "team_totalTimeCrowdControlDealt_per_minute   0.0061   0.0016   3.8136 0.0001   0.0030   0.0092\n",
       "team_visionScore_per_minute                 -0.1207   0.0186  -6.4787 0.0000  -0.1572  -0.0842\n",
       "towerKills_per_minute                       27.1699   0.4417  61.5184 0.0000  26.3042  28.0355\n",
       "inhibitorKills_per_minute                    8.1186   1.1737   6.9170 0.0000   5.8181  10.4190\n",
       "baronKills_per_minute                       37.4943   1.5653  23.9531 0.0000  34.4263  40.5622\n",
       "dragonKills_per_minute                      12.1160   0.6122  19.7908 0.0000  10.9161  13.3159\n",
       "riftHeraldKills_per_minute                 -15.3500   1.2187 -12.5952 0.0000 -17.7386 -12.9614\n",
       "time_bin_1                                  -5.2779   0.3022 -17.4671 0.0000  -5.8701  -4.6856\n",
       "time_bin_2                                  -5.6815   0.2552 -22.2588 0.0000  -6.1817  -5.1812\n",
       "time_bin_3                                  -6.9378   0.2460 -28.2014 0.0000  -7.4199  -6.4556\n",
       "time_bin_4                                  -7.3661   0.2380 -30.9504 0.0000  -7.8326  -6.8996\n",
       "==============================================================================================\n",
       "\n",
       "\"\"\""
      ]
     },
     "execution_count": 41,
     "metadata": {},
     "output_type": "execute_result"
    }
   ],
   "source": [
    "import statsmodels.api as sm\n",
    "\n",
    "logit = sm.Logit(y_data,x_data) #로지스틱 회귀분석 시행\n",
    "result = logit.fit()\n",
    "result.summary2()"
   ]
  },
  {
   "cell_type": "markdown",
   "execution_count": null,
   "metadata": {},
   "source": [
    "모든 변수의 P - Value가 0에 가까우므로 통계적으로 유의미한 변수들이 적합되었고, 아무런 튜닝 없이 단순 로지스틱 회귀로 R-squared(결정계수) 가 0.91에 달함. "
   ]
  },
  {
   "cell_type": "markdown",
   "execution_count": null,
   "metadata": {},
   "source": [
    "### Logistic Regression Analytics / 로지스틱 회귀 분석\n",
    "\n",
    "선형회귀는 그대로 회귀계수가 타켓변수에 영향을 미치지만, 로지스틱 회귀는 약간 다르다.\n",
    "\n",
    "로지스틱 회귀의 오즈는 0일 확률 대비 1일 확률을 나타내므로 회귀계수에 Expotential ^ x 를 적용하면 1이 될 확률에 미치는 영향이 계산된다."
   ]
  },
  {
   "cell_type": "code",
   "execution_count": 42,
   "metadata": {},
   "outputs": [
    {
     "name": "stdout",
     "output_type": "stream",
     "text": [
      "다른 변수가 변하지 않을 때, teamId 이 한단위 상승하면 승리할 확률이 1.00114 배 증가한다.\n",
      "\n",
      "다른 변수가 변하지 않을 때, firstBlood 이 한단위 상승하면 승리할 확률이 0.63550 배 증가한다.\n",
      "\n",
      "다른 변수가 변하지 않을 때, firstTower 이 한단위 상승하면 승리할 확률이 0.55458 배 증가한다.\n",
      "\n",
      "다른 변수가 변하지 않을 때, firstInhibitor 이 한단위 상승하면 승리할 확률이 1.05124 배 증가한다.\n",
      "\n",
      "다른 변수가 변하지 않을 때, firstBaron 이 한단위 상승하면 승리할 확률이 0.62342 배 증가한다.\n",
      "\n",
      "다른 변수가 변하지 않을 때, firstDragon 이 한단위 상승하면 승리할 확률이 0.87000 배 증가한다.\n",
      "\n",
      "다른 변수가 변하지 않을 때, firstRiftHerald 이 한단위 상승하면 승리할 확률이 1.40912 배 증가한다.\n",
      "\n",
      "다른 변수가 변하지 않을 때, team_kills_per_minute 이 한단위 상승하면 승리할 확률이 219.26734 배 증가한다.\n",
      "\n",
      "다른 변수가 변하지 않을 때, team_deaths_per_minute 이 한단위 상승하면 승리할 확률이 0.00036 배 증가한다.\n",
      "\n",
      "다른 변수가 변하지 않을 때, team_K/D_per_minute 이 한단위 상승하면 승리할 확률이 806214890534580387840.00000 배 증가한다.\n",
      "\n",
      "다른 변수가 변하지 않을 때, team_totalDamageDealt_per_minute 이 한단위 상승하면 승리할 확률이 1.00082 배 증가한다.\n",
      "\n",
      "다른 변수가 변하지 않을 때, team_totalTimeCrowdControlDealt_per_minute 이 한단위 상승하면 승리할 확률이 1.00612 배 증가한다.\n",
      "\n",
      "다른 변수가 변하지 않을 때, team_visionScore_per_minute 이 한단위 상승하면 승리할 확률이 0.88633 배 증가한다.\n",
      "\n",
      "다른 변수가 변하지 않을 때, towerKills_per_minute 이 한단위 상승하면 승리할 확률이 630557096414.73035 배 증가한다.\n",
      "\n",
      "다른 변수가 변하지 않을 때, inhibitorKills_per_minute 이 한단위 상승하면 승리할 확률이 3356.25649 배 증가한다.\n",
      "\n",
      "다른 변수가 변하지 않을 때, baronKills_per_minute 이 한단위 상승하면 승리할 확률이 19211188782127624.00000 배 증가한다.\n",
      "\n",
      "다른 변수가 변하지 않을 때, dragonKills_per_minute 이 한단위 상승하면 승리할 확률이 182772.88995 배 증가한다.\n",
      "\n",
      "다른 변수가 변하지 않을 때, riftHeraldKills_per_minute 이 한단위 상승하면 승리할 확률이 0.00000 배 증가한다.\n",
      "\n",
      "다른 변수가 변하지 않을 때, time_bin_1 이 한단위 상승하면 승리할 확률이 0.00510 배 증가한다.\n",
      "\n",
      "다른 변수가 변하지 않을 때, time_bin_2 이 한단위 상승하면 승리할 확률이 0.00341 배 증가한다.\n",
      "\n",
      "다른 변수가 변하지 않을 때, time_bin_3 이 한단위 상승하면 승리할 확률이 0.00097 배 증가한다.\n",
      "\n",
      "다른 변수가 변하지 않을 때, time_bin_4 이 한단위 상승하면 승리할 확률이 0.00063 배 증가한다.\n",
      "\n"
     ]
    }
   ],
   "source": [
    "#모든 변수를 하나의 모델에서 해석\n",
    "for i in range(len(result.params)):\n",
    "    print('다른 변수가 변하지 않을 때, {} 이 한단위 상승하면 승리할 확률이 {:.5f} 배 증가한다.\\n'.format(result.params.keys()[i],np.exp(result.params.values[i])))"
   ]
  },
  {
   "cell_type": "markdown",
   "execution_count": null,
   "metadata": {},
   "source": [
    "하지만 데이터들의 스케일이 달라 가중치가 지나치게 크고, 작고 문제가 발생했다."
   ]
  },
  {
   "cell_type": "code",
   "execution_count": 43,
   "metadata": {},
   "outputs": [],
   "source": [
    "from sklearn.model_selection import train_test_split\n",
    "\n",
    "#훈련셋, 테스트셋 계층 샘플링 - 편향 방지\n",
    "x_train, x_test, y_train, y_test = train_test_split(x_data, y_data, test_size=0.2, random_state=7, stratify=y_data) "
   ]
  },
  {
   "cell_type": "markdown",
   "execution_count": null,
   "metadata": {},
   "source": [
    "## Data Scaling / 데이터 스케일링\n",
    "\n",
    "데이터의 학습 속도, 모델의 안정성을 증가시킨다."
   ]
  },
  {
   "cell_type": "markdown",
   "execution_count": null,
   "metadata": {},
   "source": [
    "Scikit-learn이 제공하는 데이터 스케일링 클래스\n",
    "\n",
    "1. StandardScaler - 채택\n",
    "\n",
    "평균이 0과 표준편차가 1이 되도록 변환\n",
    "\n",
    "2. RobustScaler\n",
    "\n",
    "중앙값(median)이 0, IQR(interquartile range)이 1이 되도록 변환.\n",
    "\n",
    "3. MinMaxScaler\n",
    "\n",
    "최대값이 각각 1, 최소값이 0이 되도록 변환\n",
    "\n",
    "4. MaxAbsScaler\n",
    "\n",
    " 0을 기준으로 절대값이 가장 큰 수가 1또는 -1이 되도록 변환"
   ]
  },
  {
   "cell_type": "code",
   "execution_count": 44,
   "metadata": {},
   "outputs": [],
   "source": [
    "#각 feature의 평균을 0, 분산을 1로 변경 - 특성들을 모두 동일한 스케일로 반영\n",
    "\n",
    "from sklearn.preprocessing import StandardScaler\n",
    "ss = StandardScaler()\n",
    "ss.fit(x_train)\n",
    "x_train = ss.transform(x_train)\n",
    "x_test = ss.transform(x_test)"
   ]
  },
  {
   "cell_type": "code",
   "execution_count": 45,
   "metadata": {},
   "outputs": [
    {
     "name": "stdout",
     "output_type": "stream",
     "text": [
      "Optimization terminated successfully.\n",
      "         Current function value: 0.064671\n",
      "         Iterations 11\n"
     ]
    },
    {
     "data": {
      "text/html": [
       "<table class=\"simpletable\">\n",
       "<tr>\n",
       "        <td>Model:</td>              <td>Logit</td>      <td>Pseudo R-squared:</td>    <td>0.907</td>  \n",
       "</tr>\n",
       "<tr>\n",
       "  <td>Dependent Variable:</td>        <td>win</td>             <td>AIC:</td>        <td>18516.0055</td>\n",
       "</tr>\n",
       "<tr>\n",
       "         <td>Date:</td>        <td>2020-05-17 12:25</td>       <td>BIC:</td>        <td>18723.2631</td>\n",
       "</tr>\n",
       "<tr>\n",
       "   <td>No. Observations:</td>       <td>142830</td>       <td>Log-Likelihood:</td>    <td>-9237.0</td> \n",
       "</tr>\n",
       "<tr>\n",
       "       <td>Df Model:</td>             <td>20</td>            <td>LL-Null:</td>        <td>-99002.</td> \n",
       "</tr>\n",
       "<tr>\n",
       "     <td>Df Residuals:</td>         <td>142809</td>        <td>LLR p-value:</td>      <td>0.0000</td>  \n",
       "</tr>\n",
       "<tr>\n",
       "      <td>Converged:</td>           <td>1.0000</td>           <td>Scale:</td>         <td>1.0000</td>  \n",
       "</tr>\n",
       "<tr>\n",
       "    <td>No. Iterations:</td>        <td>11.0000</td>             <td></td>               <td></td>     \n",
       "</tr>\n",
       "</table>\n",
       "<table class=\"simpletable\">\n",
       "<tr>\n",
       "   <td></td>    <th>Coef.</th>  <th>Std.Err.</th>     <th>z</th>     <th>P>|z|</th> <th>[0.025</th>  <th>0.975]</th> \n",
       "</tr>\n",
       "<tr>\n",
       "  <th>x1</th>  <td>0.0515</td>   <td>0.0199</td>   <td>2.5798</td>  <td>0.0099</td> <td>0.0124</td>  <td>0.0905</td> \n",
       "</tr>\n",
       "<tr>\n",
       "  <th>x2</th>  <td>-0.2328</td>  <td>0.0199</td>  <td>-11.6992</td> <td>0.0000</td> <td>-0.2718</td> <td>-0.1938</td>\n",
       "</tr>\n",
       "<tr>\n",
       "  <th>x3</th>  <td>-0.2519</td>  <td>0.0223</td>  <td>-11.3155</td> <td>0.0000</td> <td>-0.2955</td> <td>-0.2083</td>\n",
       "</tr>\n",
       "<tr>\n",
       "  <th>x4</th>  <td>0.0273</td>   <td>0.0272</td>   <td>1.0033</td>  <td>0.3157</td> <td>-0.0260</td> <td>0.0807</td> \n",
       "</tr>\n",
       "<tr>\n",
       "  <th>x5</th>  <td>-0.1639</td>  <td>0.0302</td>   <td>-5.4237</td> <td>0.0000</td> <td>-0.2232</td> <td>-0.1047</td>\n",
       "</tr>\n",
       "<tr>\n",
       "  <th>x6</th>  <td>-0.0584</td>  <td>0.0226</td>   <td>-2.5847</td> <td>0.0097</td> <td>-0.1026</td> <td>-0.0141</td>\n",
       "</tr>\n",
       "<tr>\n",
       "  <th>x7</th>  <td>0.1510</td>   <td>0.0320</td>   <td>4.7241</td>  <td>0.0000</td> <td>0.0883</td>  <td>0.2136</td> \n",
       "</tr>\n",
       "<tr>\n",
       "  <th>x8</th>  <td>3.2122</td>   <td>0.0523</td>   <td>61.4680</td> <td>0.0000</td> <td>3.1098</td>  <td>3.3146</td> \n",
       "</tr>\n",
       "<tr>\n",
       "  <th>x9</th>  <td>-4.3315</td>  <td>0.0530</td>  <td>-81.7102</td> <td>0.0000</td> <td>-4.4354</td> <td>-4.2276</td>\n",
       "</tr>\n",
       "<tr>\n",
       "  <th>x10</th> <td>-0.6462</td>  <td>0.0816</td>   <td>-7.9157</td> <td>0.0000</td> <td>-0.8063</td> <td>-0.4862</td>\n",
       "</tr>\n",
       "<tr>\n",
       "  <th>x11</th> <td>0.5839</td>   <td>0.0376</td>   <td>15.5470</td> <td>0.0000</td> <td>0.5102</td>  <td>0.6575</td> \n",
       "</tr>\n",
       "<tr>\n",
       "  <th>x12</th> <td>0.0499</td>   <td>0.0199</td>   <td>2.5084</td>  <td>0.0121</td> <td>0.0109</td>  <td>0.0888</td> \n",
       "</tr>\n",
       "<tr>\n",
       "  <th>x13</th> <td>-0.2382</td>  <td>0.0289</td>   <td>-8.2385</td> <td>0.0000</td> <td>-0.2948</td> <td>-0.1815</td>\n",
       "</tr>\n",
       "<tr>\n",
       "  <th>x14</th> <td>3.7375</td>   <td>0.0677</td>   <td>55.2193</td> <td>0.0000</td> <td>3.6048</td>  <td>3.8701</td> \n",
       "</tr>\n",
       "<tr>\n",
       "  <th>x15</th> <td>0.1510</td>   <td>0.0428</td>   <td>3.5300</td>  <td>0.0004</td> <td>0.0672</td>  <td>0.2349</td> \n",
       "</tr>\n",
       "<tr>\n",
       "  <th>x16</th> <td>0.6571</td>   <td>0.0326</td>   <td>20.1803</td> <td>0.0000</td> <td>0.5933</td>  <td>0.7210</td> \n",
       "</tr>\n",
       "<tr>\n",
       "  <th>x17</th> <td>0.5533</td>   <td>0.0307</td>   <td>17.9992</td> <td>0.0000</td> <td>0.4930</td>  <td>0.6135</td> \n",
       "</tr>\n",
       "<tr>\n",
       "  <th>x18</th> <td>-0.4267</td>  <td>0.0400</td>  <td>-10.6567</td> <td>0.0000</td> <td>-0.5052</td> <td>-0.3482</td>\n",
       "</tr>\n",
       "<tr>\n",
       "  <th>x19</th> <td>0.6315</td>     <td>nan</td>      <td>nan</td>     <td>nan</td>    <td>nan</td>     <td>nan</td>  \n",
       "</tr>\n",
       "<tr>\n",
       "  <th>x20</th> <td>0.2507</td>     <td>nan</td>      <td>nan</td>     <td>nan</td>    <td>nan</td>     <td>nan</td>  \n",
       "</tr>\n",
       "<tr>\n",
       "  <th>x21</th> <td>-0.3315</td>    <td>nan</td>      <td>nan</td>     <td>nan</td>    <td>nan</td>     <td>nan</td>  \n",
       "</tr>\n",
       "<tr>\n",
       "  <th>x22</th> <td>-0.5688</td>    <td>nan</td>      <td>nan</td>     <td>nan</td>    <td>nan</td>     <td>nan</td>  \n",
       "</tr>\n",
       "</table>"
      ],
      "text/plain": [
       "<class 'statsmodels.iolib.summary2.Summary'>\n",
       "\"\"\"\n",
       "                         Results: Logit\n",
       "=================================================================\n",
       "Model:              Logit            Pseudo R-squared: 0.907     \n",
       "Dependent Variable: win              AIC:              18516.0055\n",
       "Date:               2020-05-17 12:25 BIC:              18723.2631\n",
       "No. Observations:   142830           Log-Likelihood:   -9237.0   \n",
       "Df Model:           20               LL-Null:          -99002.   \n",
       "Df Residuals:       142809           LLR p-value:      0.0000    \n",
       "Converged:          1.0000           Scale:            1.0000    \n",
       "No. Iterations:     11.0000                                      \n",
       "-------------------------------------------------------------------\n",
       "          Coef.    Std.Err.      z       P>|z|     [0.025    0.975]\n",
       "-------------------------------------------------------------------\n",
       "x1        0.0515     0.0199     2.5798   0.0099    0.0124    0.0905\n",
       "x2       -0.2328     0.0199   -11.6992   0.0000   -0.2718   -0.1938\n",
       "x3       -0.2519     0.0223   -11.3155   0.0000   -0.2955   -0.2083\n",
       "x4        0.0273     0.0272     1.0033   0.3157   -0.0260    0.0807\n",
       "x5       -0.1639     0.0302    -5.4237   0.0000   -0.2232   -0.1047\n",
       "x6       -0.0584     0.0226    -2.5847   0.0097   -0.1026   -0.0141\n",
       "x7        0.1510     0.0320     4.7241   0.0000    0.0883    0.2136\n",
       "x8        3.2122     0.0523    61.4680   0.0000    3.1098    3.3146\n",
       "x9       -4.3315     0.0530   -81.7102   0.0000   -4.4354   -4.2276\n",
       "x10      -0.6462     0.0816    -7.9157   0.0000   -0.8063   -0.4862\n",
       "x11       0.5839     0.0376    15.5470   0.0000    0.5102    0.6575\n",
       "x12       0.0499     0.0199     2.5084   0.0121    0.0109    0.0888\n",
       "x13      -0.2382     0.0289    -8.2385   0.0000   -0.2948   -0.1815\n",
       "x14       3.7375     0.0677    55.2193   0.0000    3.6048    3.8701\n",
       "x15       0.1510     0.0428     3.5300   0.0004    0.0672    0.2349\n",
       "x16       0.6571     0.0326    20.1803   0.0000    0.5933    0.7210\n",
       "x17       0.5533     0.0307    17.9992   0.0000    0.4930    0.6135\n",
       "x18      -0.4267     0.0400   -10.6567   0.0000   -0.5052   -0.3482\n",
       "x19       0.6315        nan        nan      nan       nan       nan\n",
       "x20       0.2507        nan        nan      nan       nan       nan\n",
       "x21      -0.3315        nan        nan      nan       nan       nan\n",
       "x22      -0.5688        nan        nan      nan       nan       nan\n",
       "=================================================================\n",
       "\n",
       "\"\"\""
      ]
     },
     "execution_count": 45,
     "metadata": {},
     "output_type": "execute_result"
    }
   ],
   "source": [
    "import statsmodels.api as sm\n",
    "\n",
    "logit = sm.Logit(y_train,x_train) #로지스틱 회귀분석 시행\n",
    "result = logit.fit()\n",
    "result.summary2()"
   ]
  },
  {
   "cell_type": "code",
   "execution_count": 46,
   "metadata": {},
   "outputs": [
    {
     "name": "stdout",
     "output_type": "stream",
     "text": [
      "다른 변수가 변하지 않을 때, teamId 이 1 상승하면 승리할 확률이 1.05280 배 증가한다.\n",
      "\n",
      "다른 변수가 변하지 않을 때, firstBlood 이 1 상승하면 승리할 확률이 0.79228 배 증가한다.\n",
      "\n",
      "다른 변수가 변하지 않을 때, firstTower 이 1 상승하면 승리할 확률이 0.77733 배 증가한다.\n",
      "\n",
      "다른 변수가 변하지 않을 때, firstInhibitor 이 1 상승하면 승리할 확률이 1.02769 배 증가한다.\n",
      "\n",
      "다른 변수가 변하지 않을 때, firstBaron 이 1 상승하면 승리할 확률이 0.84879 배 증가한다.\n",
      "\n",
      "다른 변수가 변하지 않을 때, firstDragon 이 1 상승하면 승리할 확률이 0.94329 배 증가한다.\n",
      "\n",
      "다른 변수가 변하지 않을 때, firstRiftHerald 이 1 상승하면 승리할 확률이 1.16297 배 증가한다.\n",
      "\n",
      "다른 변수가 변하지 않을 때, team_kills_per_minute 이 1 상승하면 승리할 확률이 24.83331 배 증가한다.\n",
      "\n",
      "다른 변수가 변하지 않을 때, team_deaths_per_minute 이 1 상승하면 승리할 확률이 0.01315 배 증가한다.\n",
      "\n",
      "다른 변수가 변하지 않을 때, team_K/D_per_minute 이 1 상승하면 승리할 확률이 0.52401 배 증가한다.\n",
      "\n",
      "다른 변수가 변하지 않을 때, team_totalDamageDealt_per_minute 이 1 상승하면 승리할 확률이 1.79293 배 증가한다.\n",
      "\n",
      "다른 변수가 변하지 않을 때, team_totalTimeCrowdControlDealt_per_minute 이 1 상승하면 승리할 확률이 1.05113 배 증가한다.\n",
      "\n",
      "다른 변수가 변하지 않을 때, team_visionScore_per_minute 이 1 상승하면 승리할 확률이 0.78806 배 증가한다.\n",
      "\n",
      "다른 변수가 변하지 않을 때, towerKills_per_minute 이 1 상승하면 승리할 확률이 41.99089 배 증가한다.\n",
      "\n",
      "다른 변수가 변하지 않을 때, inhibitorKills_per_minute 이 1 상승하면 승리할 확률이 1.16301 배 증가한다.\n",
      "\n",
      "다른 변수가 변하지 않을 때, baronKills_per_minute 이 1 상승하면 승리할 확률이 1.92926 배 증가한다.\n",
      "\n",
      "다른 변수가 변하지 않을 때, dragonKills_per_minute 이 1 상승하면 승리할 확률이 1.73896 배 증가한다.\n",
      "\n",
      "다른 변수가 변하지 않을 때, riftHeraldKills_per_minute 이 1 상승하면 승리할 확률이 0.65267 배 증가한다.\n",
      "\n",
      "다른 변수가 변하지 않을 때, time_bin_1 이 1 상승하면 승리할 확률이 1.88048 배 증가한다.\n",
      "\n",
      "다른 변수가 변하지 않을 때, time_bin_2 이 1 상승하면 승리할 확률이 1.28488 배 증가한다.\n",
      "\n",
      "다른 변수가 변하지 않을 때, time_bin_3 이 1 상승하면 승리할 확률이 0.71785 배 증가한다.\n",
      "\n",
      "다른 변수가 변하지 않을 때, time_bin_4 이 1 상승하면 승리할 확률이 0.56620 배 증가한다.\n",
      "\n"
     ]
    }
   ],
   "source": [
    "#모든 변수를 하나의 모델에서 해석\n",
    "for i in range(len(result.params)):\n",
    "    print('다른 변수가 변하지 않을 때, {} 이 1 상승하면 승리할 확률이 {:.5f} 배 증가한다.\\n'.format(use_col[i],np.exp(result.params.values[i])))"
   ]
  },
  {
   "cell_type": "markdown",
   "execution_count": null,
   "metadata": {},
   "source": [
    "특성이 조절되고 이전보다 더 적절한 값이 출력된다. 하지만 아직 특정 칼럼의 가중치가 조금 높으므로 규제를 추가한다."
   ]
  },
  {
   "cell_type": "code",
   "execution_count": 47,
   "metadata": {},
   "outputs": [],
   "source": [
    "from sklearn.linear_model import LogisticRegression\n",
    "from sklearn.model_selection import GridSearchCV"
   ]
  },
  {
   "cell_type": "code",
   "execution_count": 48,
   "metadata": {},
   "outputs": [
    {
     "name": "stdout",
     "output_type": "stream",
     "text": [
      "CPU times: user 2.3 s, sys: 343 ms, total: 2.64 s\n",
      "Wall time: 38.1 s\n"
     ]
    },
    {
     "data": {
      "text/plain": [
       "GridSearchCV(cv=10, error_score=nan,\n",
       "             estimator=LogisticRegression(C=1.0, class_weight=None, dual=False,\n",
       "                                          fit_intercept=True,\n",
       "                                          intercept_scaling=1, l1_ratio=None,\n",
       "                                          max_iter=100, multi_class='auto',\n",
       "                                          n_jobs=None, penalty='l2',\n",
       "                                          random_state=None, solver='lbfgs',\n",
       "                                          tol=0.0001, verbose=0,\n",
       "                                          warm_start=False),\n",
       "             iid='deprecated', n_jobs=-1,\n",
       "             param_grid={'C': [0.001, 0.01, 0.1, 1, 10, 10, 100]},\n",
       "             pre_dispatch='2*n_jobs', refit=True, return_train_score=True,\n",
       "             scoring=None, verbose=0)"
      ]
     },
     "execution_count": 48,
     "metadata": {},
     "output_type": "execute_result"
    }
   ],
   "source": [
    "%%time\n",
    "#그리드 서치로 하이퍼파라미터 튜닝, 계층별 10차 교차 검증 수행\n",
    "param_grid = {\"C\" : [0.001,0.01,0.1,1,10,10,100]} #규제의 강도만 조절하고, 방식은 바꾸지 않는다. 조금이라도 승패에 영향이 가는 변수를 모두 반영하기 위해 L2(릿지)norm을 적용.\n",
    "grid_search = GridSearchCV(LogisticRegression(),param_grid,cv=10,return_train_score=True,n_jobs=-1)\n",
    "\n",
    "grid_search.fit(x_train,y_train)"
   ]
  },
  {
   "cell_type": "code",
   "execution_count": 49,
   "metadata": {},
   "outputs": [
    {
     "data": {
      "text/html": [
       "<div>\n",
       "<style scoped>\n",
       "    .dataframe tbody tr th:only-of-type {\n",
       "        vertical-align: middle;\n",
       "    }\n",
       "\n",
       "    .dataframe tbody tr th {\n",
       "        vertical-align: top;\n",
       "    }\n",
       "\n",
       "    .dataframe thead th {\n",
       "        text-align: right;\n",
       "    }\n",
       "</style>\n",
       "<table border=\"1\" class=\"dataframe\">\n",
       "  <thead>\n",
       "    <tr style=\"text-align: right;\">\n",
       "      <th></th>\n",
       "      <th>coef</th>\n",
       "      <th>col</th>\n",
       "    </tr>\n",
       "  </thead>\n",
       "  <tbody>\n",
       "    <tr>\n",
       "      <th>0</th>\n",
       "      <td>0.05089</td>\n",
       "      <td>teamId</td>\n",
       "    </tr>\n",
       "    <tr>\n",
       "      <th>1</th>\n",
       "      <td>-0.22097</td>\n",
       "      <td>firstBlood</td>\n",
       "    </tr>\n",
       "    <tr>\n",
       "      <th>2</th>\n",
       "      <td>-0.29619</td>\n",
       "      <td>firstTower</td>\n",
       "    </tr>\n",
       "    <tr>\n",
       "      <th>3</th>\n",
       "      <td>0.02066</td>\n",
       "      <td>firstInhibitor</td>\n",
       "    </tr>\n",
       "    <tr>\n",
       "      <th>4</th>\n",
       "      <td>-0.18304</td>\n",
       "      <td>firstBaron</td>\n",
       "    </tr>\n",
       "    <tr>\n",
       "      <th>5</th>\n",
       "      <td>-0.06311</td>\n",
       "      <td>firstDragon</td>\n",
       "    </tr>\n",
       "    <tr>\n",
       "      <th>6</th>\n",
       "      <td>0.17474</td>\n",
       "      <td>firstRiftHerald</td>\n",
       "    </tr>\n",
       "    <tr>\n",
       "      <th>7</th>\n",
       "      <td>2.26493</td>\n",
       "      <td>team_kills_per_minute</td>\n",
       "    </tr>\n",
       "    <tr>\n",
       "      <th>8</th>\n",
       "      <td>-3.27822</td>\n",
       "      <td>team_deaths_per_minute</td>\n",
       "    </tr>\n",
       "    <tr>\n",
       "      <th>9</th>\n",
       "      <td>4.72528</td>\n",
       "      <td>team_K/D_per_minute</td>\n",
       "    </tr>\n",
       "    <tr>\n",
       "      <th>10</th>\n",
       "      <td>0.61199</td>\n",
       "      <td>team_totalDamageDealt_per_minute</td>\n",
       "    </tr>\n",
       "    <tr>\n",
       "      <th>11</th>\n",
       "      <td>0.06947</td>\n",
       "      <td>team_totalTimeCrowdControlDealt_per_minute</td>\n",
       "    </tr>\n",
       "    <tr>\n",
       "      <th>12</th>\n",
       "      <td>-0.19383</td>\n",
       "      <td>team_visionScore_per_minute</td>\n",
       "    </tr>\n",
       "    <tr>\n",
       "      <th>13</th>\n",
       "      <td>3.93966</td>\n",
       "      <td>towerKills_per_minute</td>\n",
       "    </tr>\n",
       "    <tr>\n",
       "      <th>14</th>\n",
       "      <td>0.26372</td>\n",
       "      <td>inhibitorKills_per_minute</td>\n",
       "    </tr>\n",
       "    <tr>\n",
       "      <th>15</th>\n",
       "      <td>0.66585</td>\n",
       "      <td>baronKills_per_minute</td>\n",
       "    </tr>\n",
       "    <tr>\n",
       "      <th>16</th>\n",
       "      <td>0.55357</td>\n",
       "      <td>dragonKills_per_minute</td>\n",
       "    </tr>\n",
       "    <tr>\n",
       "      <th>17</th>\n",
       "      <td>-0.47736</td>\n",
       "      <td>riftHeraldKills_per_minute</td>\n",
       "    </tr>\n",
       "    <tr>\n",
       "      <th>18</th>\n",
       "      <td>0.50623</td>\n",
       "      <td>time_bin_1</td>\n",
       "    </tr>\n",
       "    <tr>\n",
       "      <th>19</th>\n",
       "      <td>0.27534</td>\n",
       "      <td>time_bin_2</td>\n",
       "    </tr>\n",
       "    <tr>\n",
       "      <th>20</th>\n",
       "      <td>-0.29331</td>\n",
       "      <td>time_bin_3</td>\n",
       "    </tr>\n",
       "    <tr>\n",
       "      <th>21</th>\n",
       "      <td>-0.50551</td>\n",
       "      <td>time_bin_4</td>\n",
       "    </tr>\n",
       "  </tbody>\n",
       "</table>\n",
       "</div>"
      ],
      "text/plain": [
       "       coef                                         col\n",
       "0   0.05089                                      teamId\n",
       "1  -0.22097                                  firstBlood\n",
       "2  -0.29619                                  firstTower\n",
       "3   0.02066                              firstInhibitor\n",
       "4  -0.18304                                  firstBaron\n",
       "5  -0.06311                                 firstDragon\n",
       "6   0.17474                             firstRiftHerald\n",
       "7   2.26493                       team_kills_per_minute\n",
       "8  -3.27822                      team_deaths_per_minute\n",
       "9   4.72528                         team_K/D_per_minute\n",
       "10  0.61199            team_totalDamageDealt_per_minute\n",
       "11  0.06947  team_totalTimeCrowdControlDealt_per_minute\n",
       "12 -0.19383                 team_visionScore_per_minute\n",
       "13  3.93966                       towerKills_per_minute\n",
       "14  0.26372                   inhibitorKills_per_minute\n",
       "15  0.66585                       baronKills_per_minute\n",
       "16  0.55357                      dragonKills_per_minute\n",
       "17 -0.47736                  riftHeraldKills_per_minute\n",
       "18  0.50623                                  time_bin_1\n",
       "19  0.27534                                  time_bin_2\n",
       "20 -0.29331                                  time_bin_3\n",
       "21 -0.50551                                  time_bin_4"
      ]
     },
     "execution_count": 49,
     "metadata": {},
     "output_type": "execute_result"
    }
   ],
   "source": [
    "coef = pd.DataFrame(data={\"coef\":grid_search.best_estimator_.coef_.tolist()[0],\"col\":use_col})\n",
    "coef"
   ]
  },
  {
   "cell_type": "code",
   "execution_count": 50,
   "metadata": {},
   "outputs": [
    {
     "name": "stdout",
     "output_type": "stream",
     "text": [
      "다른 변수가 변하지 않을 때, teamId 이 1 상승하면 승리할 확률이 1.05220 배 증가한다.\n",
      "\n",
      "다른 변수가 변하지 않을 때, firstBlood 이 1 상승하면 승리할 확률이 0.80174 배 증가한다.\n",
      "\n",
      "다른 변수가 변하지 않을 때, firstTower 이 1 상승하면 승리할 확률이 0.74365 배 증가한다.\n",
      "\n",
      "다른 변수가 변하지 않을 때, firstInhibitor 이 1 상승하면 승리할 확률이 1.02088 배 증가한다.\n",
      "\n",
      "다른 변수가 변하지 않을 때, firstBaron 이 1 상승하면 승리할 확률이 0.83273 배 증가한다.\n",
      "\n",
      "다른 변수가 변하지 않을 때, firstDragon 이 1 상승하면 승리할 확률이 0.93884 배 증가한다.\n",
      "\n",
      "다른 변수가 변하지 않을 때, firstRiftHerald 이 1 상승하면 승리할 확률이 1.19094 배 증가한다.\n",
      "\n",
      "다른 변수가 변하지 않을 때, team_kills_per_minute 이 1 상승하면 승리할 확률이 9.63046 배 증가한다.\n",
      "\n",
      "다른 변수가 변하지 않을 때, team_deaths_per_minute 이 1 상승하면 승리할 확률이 0.03770 배 증가한다.\n",
      "\n",
      "다른 변수가 변하지 않을 때, team_K/D_per_minute 이 1 상승하면 승리할 확률이 112.76167 배 증가한다.\n",
      "\n",
      "다른 변수가 변하지 않을 때, team_totalDamageDealt_per_minute 이 1 상승하면 승리할 확률이 1.84410 배 증가한다.\n",
      "\n",
      "다른 변수가 변하지 않을 때, team_totalTimeCrowdControlDealt_per_minute 이 1 상승하면 승리할 확률이 1.07194 배 증가한다.\n",
      "\n",
      "다른 변수가 변하지 않을 때, team_visionScore_per_minute 이 1 상승하면 승리할 확률이 0.82380 배 증가한다.\n",
      "\n",
      "다른 변수가 변하지 않을 때, towerKills_per_minute 이 1 상승하면 승리할 확률이 51.40136 배 증가한다.\n",
      "\n",
      "다른 변수가 변하지 않을 때, inhibitorKills_per_minute 이 1 상승하면 승리할 확률이 1.30176 배 증가한다.\n",
      "\n",
      "다른 변수가 변하지 않을 때, baronKills_per_minute 이 1 상승하면 승리할 확률이 1.94615 배 증가한다.\n",
      "\n",
      "다른 변수가 변하지 않을 때, dragonKills_per_minute 이 1 상승하면 승리할 확률이 1.73946 배 증가한다.\n",
      "\n",
      "다른 변수가 변하지 않을 때, riftHeraldKills_per_minute 이 1 상승하면 승리할 확률이 0.62042 배 증가한다.\n",
      "\n",
      "다른 변수가 변하지 않을 때, time_bin_1 이 1 상승하면 승리할 확률이 1.65902 배 증가한다.\n",
      "\n",
      "다른 변수가 변하지 않을 때, time_bin_2 이 1 상승하면 승리할 확률이 1.31698 배 증가한다.\n",
      "\n",
      "다른 변수가 변하지 않을 때, time_bin_3 이 1 상승하면 승리할 확률이 0.74579 배 증가한다.\n",
      "\n",
      "다른 변수가 변하지 않을 때, time_bin_4 이 1 상승하면 승리할 확률이 0.60320 배 증가한다.\n",
      "\n"
     ]
    }
   ],
   "source": [
    "for i in range(len(coef)):\n",
    "    print('다른 변수가 변하지 않을 때, {} 이 1 상승하면 승리할 확률이 {:.5f} 배 증가한다.\\n'.format(use_col[i],np.exp(coef.iloc[i,0])))"
   ]
  },
  {
   "cell_type": "markdown",
   "execution_count": null,
   "metadata": {},
   "source": [
    "K/D와 towerKill은 게임 구조상 분당 1개씩 증가할 수 없는 수치이지만, 만약 가능하다면 승리 확률이 어마어마하게 올라간다.\n",
    "time_bin을 보면 예상대로 시간이 갈수록 승리에 미치는 영향이 줄어든다는 것을 알 수 있다.\n",
    "\n",
    "하지만 로지스틱 회귀는 공선성 영향을 크게 받기 때문에(중요한 칼럼만 가중치가 커짐) 해당 회귀 분석결과를 그대로 신뢰할 수는 없다.\n",
    "또한 로지스틱 회귀는 안좋게 될 확률(0이 될 확률)을 모르기 때문에 패배 확률 자체가 낮다면 의미가 없다."
   ]
  },
  {
   "cell_type": "code",
   "execution_count": 51,
   "metadata": {},
   "outputs": [
    {
     "name": "stdout",
     "output_type": "stream",
     "text": [
      "최적 파라미터 : {'C': 1}\n",
      "훈련세트 정확도(교차 검증 정확도 평균) : 0.976720576909613\n",
      "LogisticRegression(C=1, class_weight=None, dual=False, fit_intercept=True,\n",
      "                   intercept_scaling=1, l1_ratio=None, max_iter=100,\n",
      "                   multi_class='auto', n_jobs=None, penalty='l2',\n",
      "                   random_state=None, solver='lbfgs', tol=0.0001, verbose=0,\n",
      "                   warm_start=False)\n"
     ]
    }
   ],
   "source": [
    "print(\"최적 파라미터 : {}\".format(grid_search.best_params_))\n",
    "\n",
    "print(\"훈련세트 정확도(교차 검증 정확도 평균) : {}\".format(grid_search.best_score_))\n",
    "\n",
    "print(grid_search.best_estimator_)"
   ]
  },
  {
   "cell_type": "code",
   "execution_count": 52,
   "metadata": {},
   "outputs": [
    {
     "data": {
      "text/plain": [
       "array([1, 0, 1, ..., 1, 1, 0])"
      ]
     },
     "metadata": {},
     "output_type": "display_data"
    },
    {
     "data": {
      "text/plain": [
       "array([[0.00006166, 0.99993834],\n",
       "       [0.72050702, 0.27949298],\n",
       "       [0.        , 1.        ],\n",
       "       ...,\n",
       "       [0.4527523 , 0.5472477 ],\n",
       "       [0.0003097 , 0.9996903 ],\n",
       "       [0.99997622, 0.00002378]])"
      ]
     },
     "metadata": {},
     "output_type": "display_data"
    }
   ],
   "source": [
    "#결과표시\n",
    "np.set_printoptions(suppress=True)\n",
    "\n",
    "pred_y_test = grid_search.predict(x_test)\n",
    "proba_y_test = grid_search.predict_proba(x_test)\n",
    "display(pred_y_test,proba_y_test)"
   ]
  },
  {
   "cell_type": "code",
   "execution_count": 53,
   "metadata": {},
   "outputs": [
    {
     "name": "stdout",
     "output_type": "stream",
     "text": [
      "테스트세트 정확도 : 0.9767279041111235\n"
     ]
    }
   ],
   "source": [
    "print(\"테스트세트 정확도 : {}\".format(grid_search.score(x_test,y_test)))\n",
    "log_cls_score = grid_search.score(x_test,y_test)"
   ]
  },
  {
   "cell_type": "code",
   "execution_count": 54,
   "metadata": {},
   "outputs": [
    {
     "name": "stdout",
     "output_type": "stream",
     "text": [
      "테스트세트 f1 점수 : 0.9767649937089332\n"
     ]
    }
   ],
   "source": [
    "#f1 스코어\n",
    "from sklearn.metrics import f1_score\n",
    "score = f1_score(y_test,pred_y_test)\n",
    "print(\"테스트세트 f1 점수 : {}\".format(score))"
   ]
  },
  {
   "cell_type": "markdown",
   "execution_count": null,
   "metadata": {},
   "source": [
    "단순한 로지스틱 회귀에 스케일링, 규제, 교차검증을 적용한 모델의 테스트세트 정확도는 97.6%에 달한다."
   ]
  },
  {
   "cell_type": "markdown",
   "execution_count": null,
   "metadata": {},
   "source": [
    "## Model Selection /  모델 선택\n",
    "\n",
    "로지스틱 이외에도 이진 분류에 적합한 많은 모델들이 있는데, 그 중에 몇가지를 선정하여 실험\n",
    "\n",
    "모델의 평가 지표는 Accuracy(정확도) 로 타켓 클래스가 균형을 이루고 있기 때문.\n",
    "\n",
    "> 선정한 모델\n",
    "\n",
    "* Random Forest 랜덤 포레스트\n",
    "\n",
    "단일 결정 트리의 단점을 보완하고, 매개변수 튜닝 없이도 강력한 성능을 보이는 모델이며, 특성 중요도를 제공하여 채택.\n",
    "\n",
    "* Catboost 캣 부스트\n",
    "\n",
    "데이터셋의 절반은 카테고리형으로 구성되어 있고, 그래디언트 부스팅 모델 중 매개변수 튜닝 없이도 강력한 성능을 보이는 모델이므로 채택.\n",
    "\n",
    "* XGBoost Extream Gradient boosting\n",
    "\n",
    "기존 그래디언트 부스팅 모델의 단점을 보완하고 빠른 학습을 한다. 매개변수에 민감하지만 GPU 병렬연산을 이용한 그리드 서치를 지원하여 채택.\n",
    "\n",
    "============================================================================================================================\n",
    "\n",
    "> 고려한 모델\n",
    "\n",
    "* KNN 최근접 이웃 알고리즘\n",
    "\n",
    "해당 데이터셋에서 이웃간 거리를 이용한 분류가 어렵고, 데이터셋이 크고 적절한 이웃 갯수를 찾는 것이 어려우므로 기각.\n",
    "\n",
    "* SVM 서포트 벡터 머신\n",
    "\n",
    "고차원의 해당 데이터셋에서 잘 맞을거라 생각하지만, 분석이 어려워서 기각.\n",
    "\n",
    "* Naive bayes 나이브 베이즈\n",
    "\n",
    "선형 모델보다 빠른 학습이 가능하고 대용량, 고차원 데이터에 적합하지만 모든 특징들이 동등하고 독립적이라 가정하는 모델이라 어느정도 독립변수간 상관관계가 존재하는 경기기록에는 맞지 않을거라 생각.\n",
    "\n",
    "* LightGBM\n",
    "\n",
    "기존 그래디언트 부스팅 모델의 단점을 보완하고 빠른 학습을 하지만, 매개변수 튜닝 시, XGBoost가 상대적으로 좋은 결과를 가져와서 기각.\n",
    "\n",
    "* Neural Network / Deep Learning 신경망 / 딥러닝\n",
    "\n",
    "매우 복잡한 모델을 설계할 수 있고 대용량, 고차원 데이터에 적합하지만 SWM과 마찬가지로 하이퍼 파라미터 튜닝이 복잡함."
   ]
  },
  {
   "cell_type": "code",
   "execution_count": 55,
   "metadata": {},
   "outputs": [
    {
     "data": {
      "text/plain": [
       "0.4996359359247228"
      ]
     },
     "execution_count": 55,
     "metadata": {},
     "output_type": "execute_result"
    }
   ],
   "source": [
    "#실제 모델들과 비교하기 위한 무작위 랜덤모델\n",
    "from sklearn.dummy import DummyClassifier\n",
    "dm = DummyClassifier(strategy=\"stratified\").fit(x_train,y_train)\n",
    "dm.score(x_test,y_test)"
   ]
  },
  {
   "cell_type": "markdown",
   "execution_count": null,
   "metadata": {},
   "source": [
    "랜덤선택모델은 0.49 ~0.5 의 정확도를 보이므로, 데이터에 불균형이 존재하지 않음."
   ]
  },
  {
   "cell_type": "markdown",
   "execution_count": null,
   "metadata": {},
   "source": [
    "### Random Forest Classifier/ 랜덤 포레스트 분류기 (결정 트리 앙상블)"
   ]
  },
  {
   "cell_type": "code",
   "execution_count": 56,
   "metadata": {},
   "outputs": [],
   "source": [
    "# %%time\n",
    "# from sklearn.ensemble import RandomForestClassifier\n",
    "# #그리드 서치로 하이퍼파라미터 튜닝, 계층별 5차 교차 검증 수행\n",
    "# param_grid = {\"n_estimators\" : [10,50,100,500],\n",
    "#              \"criterion\": [\"entropy\",\"gini\"]}\n",
    "\n",
    "# rf = RandomForestClassifier(random_state=7,n_jobs=-1)\n",
    "# grid_search = GridSearchCV(rf,param_grid,cv=5,return_train_score=True)\n",
    "\n",
    "# grid_search.fit(x_train,y_train)\n",
    "\n",
    "# print(\"최적 파라미터 : {}\".format(grid_search.best_params_))\n",
    "\n",
    "# print(\"훈련세트 정확도(교차 검증 정확도 평균) : {}\".format(grid_search.best_score_))\n",
    "\n",
    "# print(grid_search.best_estimator_)\n",
    "\n",
    "# print(\"테스트세트 정확도 : {}\".format(grid_search.score(x_test,y_test)))\n",
    "# rf_cls_score = grid_search.score(x_test,y_test)\n",
    "\n",
    "# result = pd.DataFrame(grid_search.cv_results_)\n",
    "# result\n",
    "\n",
    "#최적 파라미터 : {'criterion': 'entropy', 'n_estimators': 100}\n",
    "#훈련세트 정확도(교차 검증 정확도 평균) : 0.9791780438283274"
   ]
  },
  {
   "cell_type": "code",
   "execution_count": 57,
   "metadata": {},
   "outputs": [
    {
     "data": {
      "text/plain": [
       "RandomForestClassifier(bootstrap=True, ccp_alpha=0.0, class_weight=None,\n",
       "                       criterion='entropy', max_depth=None, max_features='auto',\n",
       "                       max_leaf_nodes=None, max_samples=None,\n",
       "                       min_impurity_decrease=0.0, min_impurity_split=None,\n",
       "                       min_samples_leaf=1, min_samples_split=2,\n",
       "                       min_weight_fraction_leaf=0.0, n_estimators=100,\n",
       "                       n_jobs=-1, oob_score=False, random_state=7, verbose=0,\n",
       "                       warm_start=False)"
      ]
     },
     "execution_count": 57,
     "metadata": {},
     "output_type": "execute_result"
    }
   ],
   "source": [
    "from sklearn.ensemble import RandomForestClassifier\n",
    "rf = RandomForestClassifier(n_estimators=100,criterion=\"entropy\",random_state=7,n_jobs=-1)\n",
    "rf.fit(x_train,y_train)"
   ]
  },
  {
   "cell_type": "code",
   "execution_count": 58,
   "metadata": {},
   "outputs": [
    {
     "name": "stdout",
     "output_type": "stream",
     "text": [
      "훈련세트 정확도 : 0.9999859973394946\n",
      "테스트세트 정확도 : 0.9784642097009073\n"
     ]
    }
   ],
   "source": [
    "print(\"훈련세트 정확도 : {}\".format(rf.score(x_train,y_train)))\n",
    "\n",
    "print(\"테스트세트 정확도 : {}\".format(rf.score(x_test,y_test)))"
   ]
  },
  {
   "cell_type": "markdown",
   "execution_count": null,
   "metadata": {},
   "source": [
    "Random Forest에 파라미터 튜닝을 적용한 모델은 정확도는 97.8에 달함."
   ]
  },
  {
   "cell_type": "code",
   "execution_count": 59,
   "metadata": {},
   "outputs": [
    {
     "data": {
      "text/plain": [
       "<matplotlib.axes._subplots.AxesSubplot at 0x7f2d6b0feb50>"
      ]
     },
     "execution_count": 59,
     "metadata": {},
     "output_type": "execute_result"
    },
    {
     "data": {
      "image/png": "[encoded data removed]",
      "text/plain": [
       "<Figure size 1440x864 with 1 Axes>"
      ]
     },
     "metadata": {
      "needs_background": "light"
     },
     "output_type": "display_data"
    }
   ],
   "source": [
    "#특성 중요도 분석\n",
    "import seaborn as sns\n",
    "\n",
    "plt.figure(figsize=(20,12))\n",
    "feat_imp = {'col' : x_data.columns,\n",
    "            'importances' : rf.feature_importances_}\n",
    "\n",
    "feat_imp = pd.DataFrame(feat_imp).sort_values(by = 'importances', ascending = False)\n",
    "\n",
    "sns.barplot(y = feat_imp['col'] ,\n",
    "            x = feat_imp['importances'])"
   ]
  },
  {
   "cell_type": "markdown",
   "execution_count": null,
   "metadata": {},
   "source": [
    "로지스틱 회귀와 마찬가지로 게임의 승패를 판가름하는 중요한 요소는 분당 팀의 K/D, 분당 팀의 타워 파괴량으로 나타났다.(롤은 타워를 부숴야 이길 수 있는 게임이므로)\n",
    "\n",
    "회귀분석에서 잡아내지 못했던 것은, 분당 킬보다 분당 데스가 더 중요하게 나타났다. 이는 모델이 해석한 결과, 킬을 많이하는 것보다는 데스를 적게하는것이 중요하다는 것이다.\n",
    "\n",
    "또한 EDA에서 분석한대로 대부분의 first(선취) 관련 칼럼들은 중요도가 낮은 반면, first_inhibitor은 킬데스 다음으로 중요하다고 한다. 이는 게임시에 목표 오브젝트는 억제기가 최우선이다, 라는 통찰을 제공한다.\n",
    "\n"
   ]
  },
  {
   "cell_type": "markdown",
   "execution_count": null,
   "metadata": {},
   "source": [
    "### Catboost / 카테고리 부스트 (그라디언트 부스팅)\n",
    "\n",
    "catboost 모델은 xgboost,lgbm 과 달리 트리의 다형성과 오버피팅 문제를 내부 알고리즘이 자체적으로 지원하여 파라미터 튜닝이 크게 필요없음."
   ]
  },
  {
   "cell_type": "code",
   "execution_count": 60,
   "metadata": {},
   "outputs": [
    {
     "name": "stdout",
     "output_type": "stream",
     "text": [
      "Learning rate set to 0.02566\n",
      "0:\tlearn: 0.6198740\ttotal: 20.8ms\tremaining: 20.8s\n",
      "50:\tlearn: 0.0749130\ttotal: 427ms\tremaining: 7.94s\n",
      "100:\tlearn: 0.0611174\ttotal: 854ms\tremaining: 7.6s\n",
      "150:\tlearn: 0.0570223\ttotal: 1.38s\tremaining: 7.77s\n",
      "200:\tlearn: 0.0545833\ttotal: 1.79s\tremaining: 7.12s\n",
      "250:\tlearn: 0.0530746\ttotal: 2.25s\tremaining: 6.73s\n",
      "300:\tlearn: 0.0519323\ttotal: 2.74s\tremaining: 6.37s\n",
      "350:\tlearn: 0.0510225\ttotal: 3.24s\tremaining: 5.98s\n",
      "400:\tlearn: 0.0502327\ttotal: 3.65s\tremaining: 5.45s\n",
      "450:\tlearn: 0.0495356\ttotal: 4.04s\tremaining: 4.92s\n",
      "500:\tlearn: 0.0489017\ttotal: 4.44s\tremaining: 4.42s\n",
      "550:\tlearn: 0.0482941\ttotal: 4.82s\tremaining: 3.93s\n",
      "600:\tlearn: 0.0477394\ttotal: 5.21s\tremaining: 3.46s\n",
      "650:\tlearn: 0.0472663\ttotal: 5.61s\tremaining: 3.01s\n",
      "700:\tlearn: 0.0467756\ttotal: 6s\tremaining: 2.56s\n",
      "750:\tlearn: 0.0462865\ttotal: 6.41s\tremaining: 2.13s\n",
      "800:\tlearn: 0.0458887\ttotal: 6.82s\tremaining: 1.7s\n",
      "850:\tlearn: 0.0454801\ttotal: 7.24s\tremaining: 1.27s\n",
      "900:\tlearn: 0.0450709\ttotal: 7.63s\tremaining: 839ms\n",
      "950:\tlearn: 0.0446898\ttotal: 8.03s\tremaining: 414ms\n",
      "999:\tlearn: 0.0443211\ttotal: 8.43s\tremaining: 0us\n"
     ]
    },
    {
     "data": {
      "text/plain": [
       "<catboost.core.CatBoostClassifier at 0x7f2d523714d0>"
      ]
     },
     "execution_count": 60,
     "metadata": {},
     "output_type": "execute_result"
    }
   ],
   "source": [
    "from catboost import CatBoostClassifier\n",
    "\n",
    "cbr = CatBoostClassifier(verbose=50,task_type=\"GPU\")\n",
    "cbr.fit(x_train,y_train)"
   ]
  },
  {
   "cell_type": "code",
   "execution_count": 61,
   "metadata": {},
   "outputs": [
    {
     "name": "stdout",
     "output_type": "stream",
     "text": [
      "훈련세트 정확도 : 0.9833858433102289\n",
      "테스트세트 정확도 : 0.9800884955752213\n"
     ]
    }
   ],
   "source": [
    "print(\"훈련세트 정확도 : {}\".format(cbr.score(x_train,y_train)))\n",
    "\n",
    "print(\"테스트세트 정확도 : {}\".format(cbr.score(x_test,y_test)))"
   ]
  },
  {
   "cell_type": "markdown",
   "execution_count": null,
   "metadata": {},
   "source": [
    "튜닝을 하지 않았지만, 기본 옵션의 GPU Catboost 정확도는 97.9 - 98.0 %에 달한다."
   ]
  },
  {
   "cell_type": "code",
   "execution_count": 62,
   "metadata": {},
   "outputs": [
    {
     "data": {
      "text/plain": [
       "<matplotlib.axes._subplots.AxesSubplot at 0x7f2d522a8290>"
      ]
     },
     "execution_count": 62,
     "metadata": {},
     "output_type": "execute_result"
    },
    {
     "data": {
      "image/png": "[encoded data removed]",
      "text/plain": [
       "<Figure size 1440x864 with 2 Axes>"
      ]
     },
     "metadata": {
      "needs_background": "light"
     },
     "output_type": "display_data"
    }
   ],
   "source": [
    "#특성 중요도 분석\n",
    "import seaborn as sns\n",
    "\n",
    "f,ax = plt.subplots(1,2,figsize=(20,12))\n",
    "rf_imp = {'col' : x_data.columns,\n",
    "            'rf_importances' : rf.feature_importances_}\n",
    "\n",
    "rf_imp = pd.DataFrame(rf_imp).sort_values(by = 'rf_importances', ascending = False)\n",
    "\n",
    "sns.barplot(y = rf_imp['col'] ,\n",
    "            x = rf_imp['rf_importances'],ax=ax[0])\n",
    "\n",
    "cbr_imp = {'col' : x_data.columns,\n",
    "            'cbr_importances' : cbr.feature_importances_}\n",
    "\n",
    "cbr_imp = pd.DataFrame(cbr_imp).sort_values(by = 'cbr_importances', ascending = False)\n",
    "\n",
    "sns.barplot(y = cbr_imp['col'] ,\n",
    "            x = cbr_imp['cbr_importances'],ax=ax[1])"
   ]
  },
  {
   "cell_type": "markdown",
   "execution_count": null,
   "metadata": {},
   "source": [
    "캣부스트 모델에서는 랜덤포레스트보다, 데스를 더 중요시하고, 팀의 총데미지의 중요도가 훨씬 높아졋다. 또한 오브젝트들의 칼럼 중요도가 팀의 기록보다 더 중요한 형태로 바뀌었다.\n",
    "\n",
    "이는 카테고리 칼럼을 잘 처리하는 캣포레스트 특성이 반영되어, 카테고리적인 느낌을 띄는 오브젝트 킬 칼럼들의 중요도가 높아진 것으로 보인다."
   ]
  },
  {
   "cell_type": "markdown",
   "execution_count": null,
   "metadata": {},
   "source": [
    "### XGBoost / Extreme Gradient Boosting (그라디언트 부스팅)"
   ]
  },
  {
   "cell_type": "code",
   "execution_count": 63,
   "metadata": {},
   "outputs": [],
   "source": [
    "# from xgboost import XGBClassifier\n",
    "\n",
    "# xgb = XGBClassifier()\n",
    "\n",
    "# param_grid = {'objective':['binary:logistic'],\n",
    "#               'learning_rate': [0.025], #catboost에서 측정된 적절 eta\n",
    "#               'max_depth': [2,3,5],\n",
    "#               'min_child_weight': [1,5,10], #최소 가중치 합 : 높게하면 언더피팅\n",
    "#               'colsample_bytree': [0.7],\n",
    "#               'n_estimators': [10,50,100,1000],\n",
    "#               'seed': [7]}\n",
    "\n",
    "# grid_search = GridSearchCV(xgb, param_grid, n_jobs=-1, \n",
    "#                    cv=5, \n",
    "#                    verbose=2, refit=True)\n",
    "\n",
    "# grid_search.fit(x_train, y_train)\n",
    "\n",
    "#최적 파라미터 : {'objective':['binary:logistic'],\n",
    "#               'learning_rate': [0.025], #catboost에서 측정된 적절 eta\n",
    "#               'max_depth': [3],\n",
    "#               'min_child_weight': [10], #최소 가중치 합 : 높게하면 언더피팅\n",
    "#               'colsample_bytree': [0.7],\n",
    "#               'n_estimators': [1000],\n",
    "#               'seed': [7]}\n",
    "#훈련세트 정확도(교차 검증 정확도 평균) : 0.9795003920690042"
   ]
  },
  {
   "cell_type": "code",
   "execution_count": 64,
   "metadata": {},
   "outputs": [
    {
     "data": {
      "text/plain": [
       "XGBClassifier(base_score=0.5, booster=None, colsample_bylevel=1,\n",
       "              colsample_bynode=1, colsample_bytree=0.7, eta=0.025, gamma=0,\n",
       "              gpu_id=-1, importance_type='gain', interaction_constraints=None,\n",
       "              learning_rate=0.0250000004, max_delta_step=0, max_depth=3,\n",
       "              min_child_weight=10, missing=nan, monotone_constraints=None,\n",
       "              n_estimators=1000, n_jobs=-1, nthread=-1, num_parallel_tree=1,\n",
       "              objective='binary:logistic', random_state=7, reg_alpha=0,\n",
       "              reg_lambda=1, scale_pos_weight=1, seed=7, subsample=1,\n",
       "              tree_method=None, validate_parameters=False, verbosity=None)"
      ]
     },
     "execution_count": 64,
     "metadata": {},
     "output_type": "execute_result"
    }
   ],
   "source": [
    "from xgboost import XGBClassifier\n",
    "xgb = XGBClassifier(\n",
    "    objective='binary:logistic',\n",
    "    max_depth=3,\n",
    "    n_estimators=1000,\n",
    "    min_child_weight=10, \n",
    "    colsample_bytree=0.7, \n",
    "    eta=0.025,\n",
    "    nthread=-1,\n",
    "    seed=7)\n",
    "\n",
    "xgb.fit(x_train, y_train, verbose=True)"
   ]
  },
  {
   "cell_type": "code",
   "execution_count": 65,
   "metadata": {},
   "outputs": [
    {
     "name": "stdout",
     "output_type": "stream",
     "text": [
      "훈련세트 정확도 : 0.9815164881327452\n",
      "테스트세트 정확도 : 0.9795003920690042\n"
     ]
    }
   ],
   "source": [
    "print(\"훈련세트 정확도 : {}\".format(xgb.score(x_train,y_train)))\n",
    "\n",
    "print(\"테스트세트 정확도 : {}\".format(xgb.score(x_test,y_test)))"
   ]
  },
  {
   "cell_type": "code",
   "execution_count": 66,
   "metadata": {},
   "outputs": [
    {
     "data": {
      "text/plain": [
       "array([0.00046764, 0.00265302, 0.00475189, 0.04080131, 0.00429735,\n",
       "       0.00113939, 0.00112001, 0.05679017, 0.03778691, 0.34426668,\n",
       "       0.00563955, 0.00090821, 0.00236516, 0.12414122, 0.12997055,\n",
       "       0.01606116, 0.01259789, 0.00495214, 0.09050476, 0.00186963,\n",
       "       0.00173922, 0.11517613], dtype=float32)"
      ]
     },
     "execution_count": 66,
     "metadata": {},
     "output_type": "execute_result"
    }
   ],
   "source": [
    "xgb.feature_importances_"
   ]
  },
  {
   "cell_type": "code",
   "execution_count": 67,
   "metadata": {},
   "outputs": [
    {
     "data": {
      "text/plain": [
       "<matplotlib.axes._subplots.AxesSubplot at 0x7f2d46f751d0>"
      ]
     },
     "execution_count": 67,
     "metadata": {},
     "output_type": "execute_result"
    },
    {
     "data": {
      "image/png": "[encoded data removed]",
      "text/plain": [
       "<Figure size 1440x864 with 3 Axes>"
      ]
     },
     "metadata": {
      "needs_background": "light"
     },
     "output_type": "display_data"
    }
   ],
   "source": [
    "#특성 중요도 분석\n",
    "import seaborn as sns\n",
    "\n",
    "f,ax = plt.subplots(1,3,figsize=(20,12))\n",
    "rf_imp = {'col' : x_data.columns,\n",
    "            'rf_importances' : rf.feature_importances_}\n",
    "\n",
    "rf_imp = pd.DataFrame(rf_imp).sort_values(by = 'rf_importances', ascending = False)\n",
    "\n",
    "sns.barplot(y = rf_imp['col'] ,\n",
    "            x = rf_imp['rf_importances'],ax=ax[0])\n",
    "\n",
    "cbr_imp = {'col' : x_data.columns,\n",
    "            'cbr_importances' : cbr.feature_importances_}\n",
    "\n",
    "cbr_imp = pd.DataFrame(cbr_imp).sort_values(by = 'cbr_importances', ascending = False)\n",
    "\n",
    "sns.barplot(y = cbr_imp['col'] ,\n",
    "            x = cbr_imp['cbr_importances'],ax=ax[1])\n",
    "\n",
    "xgb_imp = {'col' : x_data.columns,\n",
    "            'xgb_importances' : xgb.feature_importances_}\n",
    "\n",
    "xgb_imp = pd.DataFrame(xgb_imp).sort_values(by = 'xgb_importances', ascending = False)\n",
    "\n",
    "sns.barplot(y = xgb_imp['col'] ,\n",
    "            x = xgb_imp['xgb_importances'],ax=ax[2])"
   ]
  },
  {
   "cell_type": "markdown",
   "execution_count": null,
   "metadata": {},
   "source": [
    "흥미로운 결과가 나타났다. XGB 모델은 time_bin의 중요도가 대폭 상승했는데, 그 중에서도 20분이내, 30분이후를 나타내는 지표가 대폭 상승했다. \n",
    "\n",
    "시간대 앞에 inhibitorKills와 tower킬이 있는 것을 봐선, 시계열적인 학습을 한게 아닐까 추측된다.\n",
    "\n",
    "뿐만 아니라, 다른 모델들에서도 time_bin_4가 어느정도의 중요성을 띄는 것이 보이는데 EDA와 회귀분석에서 추측한 결과로는, 게임시간이 길어질수록 승패가 불투명해질거라 생각했는데\n",
    "\n",
    "모델들이 해석한 결과는 게임시간이 길어질수록 승패가 명확해진다는 것을 의미한다.\n",
    "\n",
    "XGB모델은 그 중에서도 k/d 가 높고, 억제기 파괴량이 높고, 포탑 파괴량이 높을때, 시간대가 30분 이후나, 20분 이전이라면 승패가 명확하다는 것을 학습한 것 같다."
   ]
  },
  {
   "cell_type": "markdown",
   "execution_count": null,
   "metadata": {},
   "source": [
    "### Model Save & Load"
   ]
  },
  {
   "cell_type": "markdown",
   "execution_count": null,
   "metadata": {},
   "source": [
    "앞으로 실제 데이터의 예측에 있어선 time_bin_4, time_bin_1일때에 대해서 XGB모델을 적용하고, time_bin_2,time_3 일때 전체적인 예측력이 높은 Catboost 모델을 사용할 것이다."
   ]
  },
  {
   "cell_type": "code",
   "execution_count": 68,
   "metadata": {},
   "outputs": [],
   "source": [
    "cbr.save_model(\"LOL_predict_cbr.cbm\")"
   ]
  },
  {
   "cell_type": "code",
   "execution_count": 69,
   "metadata": {},
   "outputs": [],
   "source": [
    "xgb.save_model(\"LOL_predict_xgb.bst\")"
   ]
  },
  {
   "cell_type": "code",
   "execution_count": 70,
   "metadata": {},
   "outputs": [
    {
     "data": {
      "text/plain": [
       "<catboost.core.CatBoostClassifier at 0x7f2d46db2b50>"
      ]
     },
     "execution_count": 70,
     "metadata": {},
     "output_type": "execute_result"
    }
   ],
   "source": [
    "cbr = CatBoostClassifier()\n",
    "cbr.load_model(\"LOL_predict_cbr.cbm\")"
   ]
  },
  {
   "cell_type": "code",
   "execution_count": 71,
   "metadata": {},
   "outputs": [],
   "source": [
    "xgb = XGBClassifier({'nthread': 4})\n",
    "xgb.load_model('LOL_predict_xgb.bst')"
   ]
  }
 ],
 "metadata": {
  "kernelspec": {
   "display_name": "Python 3",
   "language": "python",
   "name": "python3"
  },
  "language_info": {
   "codemirror_mode": {
    "name": "ipython",
    "version": 3
   },
   "file_extension": ".py",
   "mimetype": "text/x-python",
   "name": "python",
   "nbconvert_exporter": "python",
   "pygments_lexer": "ipython3",
   "version": "3.7.6"
  }
 },
 "nbformat": 4,
 "nbformat_minor": 4
}
