{
 "cells": [
  {
   "cell_type": "markdown",
   "execution_count": null,
   "metadata": {},
   "source": [
    "# League of legend Winner team predict to Using Riot API\n",
    "\n",
    "2019 데이터분석 프로젝트 리메이크\n",
    "\n",
    "리그 오브 레전드 경기 기록을 수집하고, 가공하여 승률에 영향을 주는 요인 분석과 실시간 스코어 변동에 따른 승률 예측 프로젝트\n",
    "\n",
    "A project to collect league-of-legend game records to analyze the factors that affect victory and to predict winning rates based on real-time score fluctuations.\n",
    "\n",
    "This kernel is for Koreans and I apologize to foreign viewers."
   ]
  },
  {
   "cell_type": "code",
   "execution_count": 1,
   "metadata": {
    "_cell_guid": "b1076dfc-b9ad-4769-8c92-a6c4dae69d19",
    "_uuid": "8f2839f25d086af736a60e9eeb907d3b93b6e0e5"
   },
   "outputs": [
    {
     "name": "stdout",
     "output_type": "stream",
     "text": [
      "/kaggle/input/lol-classic-rank-game-datakrtop-3-tier/win_team_stats.csv\n",
      "/kaggle/input/lol-classic-rank-game-datakrtop-3-tier/LOL_predict_cbr.cbm\n",
      "/kaggle/input/lol-classic-rank-game-datakrtop-3-tier/match_lose_data.pkl\n",
      "/kaggle/input/lol-classic-rank-game-datakrtop-3-tier/matchpre.pkl\n",
      "/kaggle/input/lol-classic-rank-game-datakrtop-3-tier/LOL_predict_xgb.bst\n",
      "/kaggle/input/lol-classic-rank-game-datakrtop-3-tier/lol_version_Date.csv\n",
      "/kaggle/input/lol-classic-rank-game-datakrtop-3-tier/match_ver1.pkl\n",
      "/kaggle/input/lol-classic-rank-game-datakrtop-3-tier/match_winner_data.pkl\n",
      "/kaggle/input/lol-classic-rank-game-datakrtop-3-tier/stats.csv\n",
      "/kaggle/input/lol-classic-rank-game-datakrtop-3-tier/lose_team_stats.csv\n"
     ]
    }
   ],
   "source": [
    "# This Python 3 environment comes with many helpful analytics libraries installed\n",
    "# It is defined by the kaggle/python docker image: https://github.com/kaggle/docker-python\n",
    "# For example, here's several helpful packages to load in \n",
    "\n",
    "import numpy as np # linear algebra\n",
    "import pandas as pd # data processing, CSV file I/O (e.g. pd.read_csv)\n",
    "\n",
    "# Input data files are available in the \"../input/\" directory.\n",
    "# For example, running this (by clicking run or pressing Shift+Enter) will list all files under the input directory\n",
    "\n",
    "import os\n",
    "for dirname, _, filenames in os.walk('/kaggle/input'):\n",
    "    for filename in filenames:\n",
    "        print(os.path.join(dirname, filename))\n",
    "\n",
    "# Any results you write to the current directory are saved as output."
   ]
  },
  {
   "cell_type": "markdown",
   "execution_count": null,
   "metadata": {},
   "source": [
    "# 1. ETL(Extract,Transform,Load) 데이터 수집 / 전처리 / 적재"
   ]
  },
  {
   "cell_type": "markdown",
   "execution_count": null,
   "metadata": {},
   "source": [
    "## 라이브러리 로드"
   ]
  },
  {
   "cell_type": "code",
   "execution_count": 2,
   "metadata": {},
   "outputs": [],
   "source": [
    "import pickle #데이터 저장용\n",
    "import json\n",
    "import re \n",
    "import time\n",
    "from pandas.io.json import json_normalize\n",
    "from tqdm import tqdm_notebook # 오래 걸리는 작업 진행확인용\n",
    "import requests"
   ]
  },
  {
   "cell_type": "markdown",
   "execution_count": null,
   "metadata": {},
   "source": [
    "## DATA PIPELINE\n",
    "\n",
    "Riot api에는 바로 최근 이뤄진 경기 목록과 기록을 불러오는 api가 존재하지 않는다. 그래도 게임 기록에 접근하는 방법이 있는데,\n",
    "유저 이름으로 유저 정보를 받아온 후 해당 유저의 게임 목록을 불러오고, 목록의 게임 기록에 접근할 수 있다. \n",
    "\n",
    "라이엇 api는 요청 제한이 있고, api_key에 제한 시간이 있으므로 초과하지 않도록 유의하며 모은 데이터를 파일화하여 관리.\n",
    "\n",
    "제한을 넘기거나, 유효시간이 초과된 api_key로 응답요청을 보내면 블랙리스트에 올라 한동안 데이터 수집이 불가하다."
   ]
  },
  {
   "cell_type": "markdown",
   "execution_count": null,
   "metadata": {},
   "source": [
    "> 데이터 수집 시간이 오래걸리므로 데이터를 파일화하여 저장한 후 코드들은 주석처리"
   ]
  },
  {
   "cell_type": "markdown",
   "execution_count": null,
   "metadata": {},
   "source": [
    "![image](https://i.imgur.com/3Ktnr0V.png)"
   ]
  },
  {
   "cell_type": "markdown",
   "execution_count": null,
   "metadata": {},
   "source": [
    "## 승패 예측에 필요한 경기 기록을 가져오기 위한 API\n",
    "\n",
    "1. 소환사 목록 api\n",
    "\n",
    "모든 티어의 유저 명단이 있다면 좋겠지만 하위 티어는 유저량과 휴면 유저가 많아 Riot은 챌린저, 마스터, 그랜드마스터의 유저명단만을 제공한다.\n",
    "\n",
    "https://kr.api.riotgames.com/lol/league/v4/challengerleagues/by-queue/RANKED_SOLO_5x5?api_key=' + api_key\n",
    "https://kr.api.riotgames.com/lol/league/v4/grandmasterleagues/by-queue/RANKED_SOLO_5x5?api_key=' + api_key\n",
    "https://kr.api.riotgames.com/lol/league/v4/masterleagues/by-queue/RANKED_SOLO_5x5?api_key=' + api_key\n",
    "\n",
    "2. 소환사 정보 api\n",
    "\n",
    "유저 명단의 summoner_id를 이용해 해당 유저의 정보를 알 수 있다.\n",
    "\n",
    "https://kr.api.riotgames.com/lol/summoner/v4/summoners/' + summoner_id + '?api_key=' + api_key\n",
    "\n",
    "3. 소환사 전적 api\n",
    "\n",
    "소환사 정보의 account_id를 이용해 해당 유저의 전적을 불러온다.\n",
    "\n",
    "https://kr.api.riotgames.com/lol/match/v4/matchlists/by-account/' + account_id + '?season=' + season + '&api_key=' + api_key\n",
    "\n",
    "4. 전적별 게임 기록 api\n",
    "\n",
    "전적 목록의 game_id를 이용해 해당 게임의 기록을 불러온다.\n",
    "\n",
    "https://kr.api.riotgames.com/lol/match/v4/matches/' + str(game_id) + '?api_key=' + api_key"
   ]
  },
  {
   "cell_type": "markdown",
   "execution_count": null,
   "metadata": {},
   "source": [
    "## Challenger, grandmaster, master user list\n",
    "챌린저, 그랜드마스터, 마스터 티어의 유저 명단"
   ]
  },
  {
   "cell_type": "code",
   "execution_count": 3,
   "metadata": {},
   "outputs": [
    {
     "data": {
      "text/plain": [
       "'\\nMatch data 를 가져오기 위해선 먼저 각 소환사의 아이디가 필요하다. 따라서 챌린저, 그랜드마스터, 마스터에 소속된 유저명단을 불러온다.\\n'"
      ]
     },
     "execution_count": 3,
     "metadata": {},
     "output_type": "execute_result"
    }
   ],
   "source": [
    "\"\"\"\n",
    "Match data 를 가져오기 위해선 먼저 각 소환사의 아이디가 필요하다. 따라서 챌린저, 그랜드마스터, 마스터에 소속된 유저명단을 불러온다.\n",
    "\"\"\"\n",
    "# api_key = \"Riot developer's api key\"\n",
    "\n",
    "# api_challenger = \"https://kr.api.riotgames.com/lol/league/v4/challengerleagues/by-queue/RANKED_SOLO_5x5?api_key=\" + api_key\n",
    "# api_grandmaster = \"https://kr.api.riotgames.com/lol/league/v4/grandmasterleagues/by-queue/RANKED_SOLO_5x5?api_key=\" + api_key\n",
    "# api_master = \"https://kr.api.riotgames.com/lol/league/v4/masterleagues/by-queue/RANKED_SOLO_5x5?api_key=\" + api_key\n",
    "# r = requests.get(api_challenger)\n",
    "# league = pd.DataFrame(r.json())\n",
    "# r = requests.get(api_grandmaster)\n",
    "# league = pd.concat([league, pd.DataFrame(r.json())], axis=0)\n",
    "# r = requests.get(api_master)\n",
    "# league = pd.concat([league, pd.DataFrame(r.json())], axis=0)\n",
    "\n",
    "# league.reset_index(inplace=True)\n",
    "# league_entries = pd.DataFrame(dict(league[\"entries\"])).T\n",
    "# league = pd.concat([league, league_entries], axis=1)\n",
    "\n",
    "# league = league.drop([\"index\", \"queue\", \"name\", \"leagueId\", \"entries\", \"rank\"], axis=1) #필요없는 칼럼 드랍"
   ]
  },
  {
   "cell_type": "markdown",
   "execution_count": null,
   "metadata": {},
   "source": [
    "## User info"
   ]
  },
  {
   "cell_type": "code",
   "execution_count": 4,
   "metadata": {},
   "outputs": [
    {
     "data": {
      "text/plain": [
       "'\\n불러온 유저정보의 summonerId를 이용해 소환사의 정보api에서 account_id를 불러온다\\nAPI는 초당 20번, 분당 50번으로 요청 제한이 있으므로 블랙리스트에 오르지 않도록 유의해서 데이터를 수집하고 파일로 저장.\\n'"
      ]
     },
     "execution_count": 4,
     "metadata": {},
     "output_type": "execute_result"
    }
   ],
   "source": [
    "\"\"\"\n",
    "불러온 유저정보의 summonerId를 이용해 소환사의 정보api에서 account_id를 불러온다\n",
    "API는 초당 20번, 분당 50번으로 요청 제한이 있으므로 블랙리스트에 오르지 않도록 유의해서 데이터를 수집하고 파일로 저장.\n",
    "\"\"\"\n",
    "# league[\"account_id\"] = np.nan # account_id 초기화\n",
    "# for i, summoner_id in enumerate(league[\"summonerId\"]):\n",
    "#     #Summoner API에서 AccountId를 가져와 채워넣는다.\n",
    "#     api_url = \"https://kr.api.riotgames.com/lol/summoner/v4/summoners/\" + summoner_id + \"?api_key=\" + api_key\n",
    "#     r = requests.get(api_url)\n",
    "#     while r.status_code!=200: # 오류를 리턴할 경우 지연하고 다시 시도\n",
    "#         time.sleep(5)\n",
    "#         r = requests.get(api_url)\n",
    "#     account_id = r.json()[\"accountId\"]\n",
    "#     league.iloc[i, -1] = account_id\n",
    "\n",
    "# league.to_csv(\"LeagueData.csv\")"
   ]
  },
  {
   "cell_type": "markdown",
   "execution_count": null,
   "metadata": {},
   "source": [
    "## Match list"
   ]
  },
  {
   "cell_type": "code",
   "execution_count": 5,
   "metadata": {},
   "outputs": [
    {
     "data": {
      "text/plain": [
       "'\\n소환사의 account_id 로부터 치뤄졌던 경기들의 목록인 Matchlist를 불러온다.\\n'"
      ]
     },
     "execution_count": 5,
     "metadata": {},
     "output_type": "execute_result"
    }
   ],
   "source": [
    "\"\"\"\n",
    "소환사의 account_id 로부터 치뤄졌던 경기들의 목록인 Matchlist를 불러온다.\n",
    "\"\"\"\n",
    "\n",
    "# season = str(13) #13시즌에 치뤄진 경기를 불러온다.\n",
    "\n",
    "# match_info_df = pd.DataFrame()\n",
    "# for account_id in league_df[\"account_id\"]:\n",
    "#     api_url = \"https://kr.api.riotgames.com/lol/match/v4/matchlists/by-account/\" + account_id + \\\n",
    "#                   \"?season=\" + season + \"&api_key=\" + api_key\n",
    "#     r = requests.get(api_url)\n",
    "#     while r.status_code!=200: # 오류를 리턴할 경우 지연하고 다시 시도\n",
    "#         time.sleep(5)\n",
    "#         r = requests.get(api_url)\n",
    "#     match_info_df = pd.concat([match_info_df, pd.DataFrame(r.json()[\"matches\"])])\n",
    "# match_info_df.to_csv(\"MatchInfoData.csv\")"
   ]
  },
  {
   "cell_type": "markdown",
   "execution_count": null,
   "metadata": {},
   "source": [
    "## Match info"
   ]
  },
  {
   "cell_type": "code",
   "execution_count": 6,
   "metadata": {},
   "outputs": [
    {
     "data": {
      "text/plain": [
       "'\\nMatchlist에서 얻은 경기 한 판의 키값인 gameId로 해당 판의 기록을 불러온다.\\n'"
      ]
     },
     "execution_count": 6,
     "metadata": {},
     "output_type": "execute_result"
    }
   ],
   "source": [
    "\"\"\"\n",
    "Matchlist에서 얻은 경기 한 판의 키값인 gameId로 해당 판의 기록을 불러온다.\n",
    "\"\"\"\n",
    "\n",
    "# match_info_df = match_info_df.drop_duplicates(\"gameId\") #중복 경기기록은 삭제\n",
    "\n",
    "# match_df = pd.DataFrame()\n",
    "# for game_id in match_info_df[\"gameId\"]:\n",
    "#     api_url = \"https://kr.api.riotgames.com/lol/match/v4/matches/\" + str(game_id) + \"?api_key=\" + api_key\n",
    "#     r = requests.get(api_url)\n",
    "#     while r.status_code!=200: # 오류를 리턴할 경우 지연하고 다시 시도\n",
    "#         time.sleep(5)\n",
    "#         r = requests.get(api_url)\n",
    "#     r_json = r.json()\n",
    "#     temp_df = pd.DataFrame(list(r_json.values()), index=list(r_json.keys())).T\n",
    "#     match_df = pd.concat([match_df, temp_df])\n",
    "\n",
    "# match_df.to_pickle(\"Match.pkl\") # 파일로 저장"
   ]
  },
  {
   "cell_type": "markdown",
   "execution_count": null,
   "metadata": {},
   "source": [
    "경기목록과 경기내용은 API 제한 때문에 수집이 굉장히 느리다. time모듈로 끊어서 수집하였고 9만개의 데이터를 확보하기까지 18일정도가 걸렸다.\n",
    "\n",
    "(하루 5시간 수집)"
   ]
  },
  {
   "cell_type": "markdown",
   "execution_count": null,
   "metadata": {},
   "source": [
    "## Add Date Column\n",
    "\n",
    "버전 정보만으로 인사이트를 얻어내기에 어려움이 있어 롤 패치버전과 날짜가 기재된 외부 사이트를 크롤링해 날짜 칼럼 추가"
   ]
  },
  {
   "cell_type": "code",
   "execution_count": 7,
   "metadata": {},
   "outputs": [],
   "source": [
    "# from urllib.request import urlopen\n",
    "# from bs4 import BeautifulSoup\n",
    "# import urllib\n",
    "# import csv\n",
    "# import re"
   ]
  },
  {
   "cell_type": "markdown",
   "execution_count": null,
   "metadata": {},
   "source": [
    "Reffered to <https://whatpulse.org/app/league-of-legends>"
   ]
  },
  {
   "cell_type": "code",
   "execution_count": 8,
   "metadata": {},
   "outputs": [
    {
     "data": {
      "text/plain": [
       "'\\n해당 사이트의 html 테이블 구조가 이상해 find 메서드가 제대로 작동 안함에 따라\\nodd,even,date를 find_all 따로 수집후 한번에 병합\\n'"
      ]
     },
     "execution_count": 8,
     "metadata": {},
     "output_type": "execute_result"
    }
   ],
   "source": [
    "\"\"\"\n",
    "해당 사이트의 html 테이블 구조가 이상해 find 메서드가 제대로 작동 안함에 따라\n",
    "odd,even,date를 find_all 따로 수집후 한번에 병합\n",
    "\"\"\"\n",
    "# url = \"https://whatpulse.org/app/league-of-legends\"\n",
    "# html = urlopen(url)\n",
    "# obj = BeautifulSoup(html.read(),\"html.parser\")\n",
    "\n",
    "# temp = list(obj.find_all(\"td\",{\"align\":\"center\"}))\n",
    "\n",
    "# date = []\n",
    "# for i in range(len(temp)):\n",
    "#     if(i%2==1):\n",
    "#         datei = temp[i].text\n",
    "#         date.append(datei)\n",
    "\n",
    "# tempodd = list(obj.find_all(\"tr\",{\"class\":\"odd\"}))\n",
    "# tempeven = list(obj.find_all(\"tr\",{\"class\":\"even\"}))\n",
    "\n",
    "# tempodd2 = []\n",
    "# for i in range(len(tempodd)):\n",
    "#     tempi = tempodd[i].text\n",
    "#     tempodd2.append(tempi)\n",
    "\n",
    "# tempeven2 = []\n",
    "# for i in range(len(tempeven)):\n",
    "#     tempi = tempeven[i].text\n",
    "#     tempeven2.append(tempi)\n",
    "\n",
    "# version = []\n",
    "# for i in range(len(tempodd2)):\n",
    "#     version.append(tempodd2[i])\n",
    "#     version.append(tempeven2[i])\n",
    "\n",
    "\n",
    "# version_date =  pd.DataFrame(data={\"version\":version,\"date\":date})\n",
    "\n",
    "# version_date['gameVersion'] = version_date['version'].str.replace(pat=r'[^0-9]', repl=r'', regex=True)\n",
    "\n",
    "# version_date = version_date[[\"date\",\"gameVersion\"]]\n",
    "\n",
    "# version_date.to_csv(\"lol_version_Date.csv\",index=False)"
   ]
  },
  {
   "cell_type": "markdown",
   "execution_count": null,
   "metadata": {},
   "source": [
    "## Teams / 팀의 경기기록"
   ]
  },
  {
   "cell_type": "markdown",
   "execution_count": null,
   "metadata": {},
   "source": [
    "### DATA FIELD in teams\n",
    "\n",
    "- teamId - 경기내의 파랑팀 (100) / 경기내의 빨강팀 (200)\n",
    "- win - 승 / 패 , target_variable로 사용할 변수입니다. \n",
    "- firstBlood - 최초 킬 여부\n",
    "- firstTower - 최초 포탑 파괴 여부 \n",
    "- firstinhibitor - 최초 억제기 파괴 여부 \n",
    "- firstBaron - 최초 바론 처치 여부\n",
    "- firstDragon - 최초 드래곤 처치 여부 \n",
    "- firstRiftHerald - 최초 전령 처치 여부 \n",
    "- towerKills - 타워 파괴 횟수\n",
    "- inhibitorKills - 억제기 파괴 횟수\n",
    "- baronKills - 바론 처치 횟수\n",
    "- dragonKills - 드래곤 처치 횟수\n",
    "- vilemawKills - (5대5 클래식 게임에 필요없음)\n",
    "- riftHeraldKills - 전령 처치 횟수 \n",
    "- dominionVictoryScore - (5대5 클래식 게임에 필요없음)"
   ]
  },
  {
   "cell_type": "code",
   "execution_count": 9,
   "metadata": {},
   "outputs": [
    {
     "data": {
      "text/plain": [
       "'\\n게임 한 판당 team red, blue의 기록\\n'"
      ]
     },
     "execution_count": 9,
     "metadata": {},
     "output_type": "execute_result"
    }
   ],
   "source": [
    "\"\"\"\n",
    "게임 한 판당 team red, blue의 기록\n",
    "\"\"\"\n",
    "# data = pd.read_pickle(\"/kaggle/input/lol-classic-rank-game-datakrtop-3-tier/match.pkl\")\n",
    "# temp_team = list(data[\"teams\"])\n",
    "# #team red\n",
    "# team1_df = pd.DataFrame()\n",
    "# for i in tqdm_notebook(range(len(temp_team))):\n",
    "#     temp_team[i][0].pop(\"bans\",None)\n",
    "#     team1 = pd.DataFrame(list(temp_team[i][0].values()),index = list(temp_team[i][0].keys())).T\n",
    "#     team1_df = team1_df.append(team1)\n",
    "\n",
    "# team1_df.index = range(len(team1_df))\n",
    "\n",
    "# #team blue\n",
    "# team2_df = pd.DataFrame()\n",
    "# for i in tqdm_notebook(range(len(temp_team))):\n",
    "#     temp_team[i][1].pop(\"bans\",None)\n",
    "#     team2 = pd.DataFrame(list(temp_team[i][1].values()),index = list(temp_team[i][1].keys())).T\n",
    "#     team2_df = team2_df.append(team2)\n",
    "    \n",
    "# team2_df.index = range(len(team2_df))\n",
    "\n",
    "# team red와 team blue, gameId 합치기\n",
    "# data_team_df = pd.concat([team1_df,team2_df,data[[\"gameId\"]]],axis=1)\n",
    "\n",
    "# data_team_df.to_pickle(\"team.pkl\") "
   ]
  },
  {
   "cell_type": "code",
   "execution_count": 10,
   "metadata": {},
   "outputs": [
    {
     "data": {
      "text/plain": [
       "'\\n팀 데이터 불러온 후, 팀 json 중간중간 비어있는 값 제외 \\n'"
      ]
     },
     "execution_count": 10,
     "metadata": {},
     "output_type": "execute_result"
    }
   ],
   "source": [
    "\"\"\"\n",
    "팀 데이터 불러온 후, 팀 json 중간중간 비어있는 값 제외 \n",
    "\"\"\"\n",
    "# team_a_error = [] \n",
    "# team_b_error = []\n",
    "# team_a = pd.DataFrame()\n",
    "# team_b = pd.DataFrame()\n",
    "# for i in range(len(lol_df)):\n",
    "#     try:\n",
    "#         team_a = team_a.append(json_normalize(lol_df[\"teams\"].iloc[i][0]))\n",
    "#         team_b = team_b.append(json_normalize(lol_df[\"teams\"].iloc[i][1]))\n",
    "#     except:\n",
    "#         team_a_error.append(i)\n",
    "#         team_b_error.append(i)\n",
    "#         print(str(i)+\"행에서 오류\")\n",
    "#         pass"
   ]
  },
  {
   "cell_type": "code",
   "execution_count": 11,
   "metadata": {},
   "outputs": [
    {
     "data": {
      "text/plain": [
       "'\\n승리팀, 패배팀으로 나누고 정합성 확인\\n'"
      ]
     },
     "execution_count": 11,
     "metadata": {},
     "output_type": "execute_result"
    }
   ],
   "source": [
    "\"\"\"\n",
    "승리팀, 패배팀으로 나누고 정합성 확인\n",
    "\"\"\"\n",
    "# for i in range(len(team_a)):\n",
    "#     wf_valid = team_a[\"win\"].iloc[i]\n",
    "    \n",
    "#     if team_b[\"win\"].iloc[i] != wf_valid:\n",
    "#         pass\n",
    "#     else:\n",
    "#         print(str(i)+\"행 정합성 문제\")"
   ]
  },
  {
   "cell_type": "markdown",
   "execution_count": null,
   "metadata": {},
   "source": [
    "## Participants / 게임 참가자 정보"
   ]
  },
  {
   "cell_type": "markdown",
   "execution_count": null,
   "metadata": {},
   "source": [
    "### DATA FIELD in participants\n",
    "\n",
    "participantId': 게임 참가자id 1~10,\n",
    "\n",
    "'teamId': 팀 아이디 RED-100, BLUE-200\n",
    "\n",
    "'championId': 챔피언 고유 아이디,\n",
    "\n",
    "'spell1Id': 스펠1 고유 아이디,\n",
    "\n",
    "'spell2Id': 스펠2 고유 아이디,\n",
    "\n",
    "'stats': 참가자의 스탯\n",
    "\n",
    "'timeline': 해당 게임의 타임라인 데이터"
   ]
  },
  {
   "cell_type": "markdown",
   "execution_count": null,
   "metadata": {},
   "source": [
    "### DATA FIELD in participants.stats\n",
    "\n",
    "- stat : statistic\n",
    "    - win : T(win) / F(lose) 승리 정보\n",
    "    - item(0~6) : 고유 아이템1-6 아이디\n",
    "    - kills : 처치 횟수\n",
    "    - deaths : 죽음 횟수\n",
    "    - assists : 어시스트 횟수\n",
    "        - (+ kda)\n",
    "    - largestKillingSpree : 최대 연속처치\n",
    "    - largestMultiKill : 최대 다중킬\n",
    "    - killingSprees : 죽지 않고 처치한 횟수\n",
    "    - longestTimeSpentLiving : 최대 죽지 않고 살아있던 시간\n",
    "    - doubleKills(triple ~ unrealkill) : 멀티킬 횟수\n",
    "    - totalDamageDealt : 총 피해량\n",
    "    - magicDamageDealt : 총 마법피해량\n",
    "    - physicalDamageDealt : 총 물리피해량\n",
    "    - trueDamageDealt :  총 고정피해량\n",
    "    - largestCriticalStrike : 치명타 횟수\n",
    "    - totalDamageDealtToChampions : 챔피언에게 가한 총 피해량\n",
    "    - magicDamageDealtToChampions : 챔피언에게 가한 총 마법 피해량\n",
    "    - physicalDamageDealtToChampions : 챔피언에게 가한 총 물리 피해량\n",
    "    - trueDamageDealtToChampions : 챔피언에게 가한 총 고정 피해량\n",
    "    - totalHeal : 총 회복량\n",
    "    - totalUnitsHealed : 총 챔피언 자체 회복량\n",
    "    - damageSelfMitigated : 총 받은피해 감소량\n",
    "    - damageDealtToObjectives : 오브젝트(ex.용,바위게,바론)에 가한 피해량\n",
    "    - damageDealtToTurrets : 포탑에 가한 피해량\n",
    "    - visionScore : Vision score 시야 점수\n",
    "    - timeCCingOthers : cc기 시간\n",
    "    - totalDamageTaken : 총 받은 피해량\n",
    "    - magicalDamageTaken : 총 받은 마법피해량\n",
    "    - physicalDamageTaken : 총 받은 물리피해량\n",
    "    - trueDamageTaken : 총 받은 고정피해량\n",
    "    - goldEarned : 획득한 골드\n",
    "    - goldSpent : 사용한 골드\n",
    "    - turretKills : 부순 포탑 갯수\n",
    "    - inhibitorKills : 억제기 부순 갯수\n",
    "    - totalMinionsKilled : 총 처치한 미니언\n",
    "    - neutralMinionsKilled : 총 처치한 중립 몬스터 \n",
    "    - neutralMinionsKilledTeamJungle : 총 처치한 아군 중립몬스터\n",
    "    - neutralMinionsKilledEnemyJungle : 총 처치한 적군 중립몬스터\n",
    "    - totalTimeCrowdControlDealt : 총 사용한 군중제어기(cc)사용 시간\n",
    "    - champLevel : 챔피언 레벨\n",
    "    - visionWardsBoughtInGame : 제어와드 구매 횟수\n",
    "    - sightWardsBoughtInGame : 시야석 구매 횟수\n",
    "    - wardsPlaced : 와드 설치 횟수\n",
    "    - wardsKilled : 와드 제거 횟수\n",
    "    - firstBloodKill : 최초 킬 여부\n",
    "    - firstBloodAssist : 최초 킬 어시스트 여부\n",
    "    - firstTowerKill : 최초 포탑 파괴 여부\n",
    "    - firstTowerAssist : 최초 포탑 파괴 어시스트 여부\n",
    "    - firstInhibitorKill : 최초 억제기 파괴 여부\n",
    "    - firstInhibitorAssist : 최초 억제기 파괴 어시스트 여부\n",
    "    - 이하 정보는 값이 대부분 0이므로 사용불가\n",
    "- role : 다인큐 or 솔로큐\n",
    "- lane : 라인(잘못된 값 많음)"
   ]
  },
  {
   "cell_type": "markdown",
   "execution_count": null,
   "metadata": {},
   "source": [
    "원래라면 모든 칼럼을 불러와 EDA 후 유용한 칼럼을 선정하는 게 맞지만 데이터 추출에 오랜시간이 걸려\n",
    "\n",
    "팀 단위에서 승패를 예측하기에 유용한 칼럼을 설문조사 / 도메인 지식으로 선정\n",
    "\n",
    "<https://forms.gle/s8XC4yr5a1381MHh8>\n",
    "\n",
    "![](https://i.imgur.com/gBmorru.png)"
   ]
  },
  {
   "cell_type": "markdown",
   "execution_count": null,
   "metadata": {},
   "source": [
    "9만개의 게임 개인 스탯 데이터(90000x2x10xuse_cols_count)를 추출하는 것은 굉장히 오래 걸린다. 이는 데이터 분석에 있어서 원활한 실험을 못하게 하는데, \n",
    "\n",
    "이를 위한 해결 방안으로 로컬 환경에서는 3분할 후 결합 방식으로, 멀티프로세싱을 진행하였다.\n",
    "\n",
    "https://pypi.org/project/parmap/ , parmap 모듈을 이용하면 쉽게 멀티코어를 이용할 수 있다. 또한 pm_pbar 파라미터를 통해 프로세스의 tqdm같은 작업 진행률 progress bar를 볼 수 있다."
   ]
  },
  {
   "cell_type": "code",
   "execution_count": 12,
   "metadata": {},
   "outputs": [
    {
     "data": {
      "text/plain": [
       "' \\n게임 한판당 팀 구분 없는 모든 참가자(10*90500)명의 스탯 데이터\\n'"
      ]
     },
     "execution_count": 12,
     "metadata": {},
     "output_type": "execute_result"
    }
   ],
   "source": [
    "\"\"\" \n",
    "게임 한판당 팀 구분 없는 모든 참가자(10*90500)명의 스탯 데이터\n",
    "\"\"\"\n",
    "# use_cols = [\"kills\",\"deaths\",\"totalDamageDealtToChampions\",\"goldEarned\", \"visionScore\",\"totalTimeCrowdControlDealt\"] Making columns to Using stat infomation/스탯에서 칼럼으로 추출할 것 기재 \n",
    "# stats_df1 = pd.DataFrame()\n",
    "# for i in tqdm_notebook(range(30000),desc=\"total\"):\n",
    "#     temp = pd.DataFrame()\n",
    "#     for col in use_cols:\n",
    "#         cur_values = {f\"{col}{j+1}\": match[\"participants\"].iat[i][j][\"stats\"][col] for j in range(10)}\n",
    "#         temp = pd.concat([temp, pd.Series(cur_values)], axis=0, sort=False)\n",
    "#     stats_df1 = pd.concat([stats_df1, temp], axis=1, sort=False)\n",
    "# stats_df1 = stats_df1.T.reset_index(drop=True)\n",
    "\n",
    "# stats_df2 = pd.DataFrame()\n",
    "# for i in tqdm_notebook(range(30000,60000),desc=\"total\"):\n",
    "#     temp = pd.DataFrame()\n",
    "#     for col in use_cols:\n",
    "#         cur_values = {f\"{col}{j+1}\": match[\"participants\"].iat[i][j][\"stats\"][col] for j in range(10)}\n",
    "#         temp = pd.concat([temp, pd.Series(cur_values)], axis=0, sort=False)\n",
    "#     stats_df2 = pd.concat([stats_df2, temp], axis=1, sort=False)\n",
    "# stats_df2 = stats_df2.T.reset_index(drop=True)\n",
    "\n",
    "# stats_df2 = pd.concat([stats_df1,stats_df2], ignore_index=True)\n",
    "\n",
    "# stats_df3 = pd.DataFrame()\n",
    "# for i in tqdm_notebook(range(60000,90500),desc=\"total\"):\n",
    "#     temp = pd.DataFrame()\n",
    "#     for col in use_cols:\n",
    "#         cur_values = {f\"{col}{j+1}\": match[\"participants\"].iat[i][j][\"stats\"][col] for j in range(10)}\n",
    "#         temp = pd.concat([temp, pd.Series(cur_values)], axis=0, sort=False)\n",
    "#     stats_df3 = pd.concat([stats_df3, temp], axis=1, sort=False)\n",
    "# stats_df3 = stats_df3.T.reset_index(drop=True)\n",
    "\n",
    "# stats_df = pd.concat([stats_df,stats_df3], ignore_index=True)\n",
    "\n",
    "# stats_df[\"gameId\"] = match[\"gameId\"]\n",
    "\n",
    "# stats_df.info()\n",
    "\n",
    "# stats_df.to_csv(\"stats.csv\",index=False)"
   ]
  },
  {
   "cell_type": "code",
   "execution_count": 13,
   "metadata": {},
   "outputs": [
    {
     "data": {
      "text/plain": [
       "'\\n게임 한 판당 승리한 팀원들의 스탯\\n'"
      ]
     },
     "execution_count": 13,
     "metadata": {},
     "output_type": "execute_result"
    }
   ],
   "source": [
    "\"\"\"\n",
    "게임 한 판당 승리한 팀원들의 스탯\n",
    "\"\"\"\n",
    "# use_cols = [\"kills\",\"deaths\",\"totalDamageDealtToChampions\",\"goldEarned\", \"visionScore\",\"totalTimeCrowdControlDealt\"]\n",
    "# stats_df = pd.DataFrame()\n",
    "# for i in tqdm_notebook(range(30000),desc=\"total\"):\n",
    "#     temp = pd.DataFrame()\n",
    "#     for col in use_cols:\n",
    "#         if (match[\"participants\"].iat[i][0][\"stats\"][\"win\"]):\n",
    "#             cur_values = {f\"win_{col}{j+1}\": match[\"participants\"].iat[i][j][\"stats\"][col] for j in range(5)}\n",
    "#             temp = pd.concat([temp, pd.Series(cur_values)], axis=0, sort=False)\n",
    "#         else:\n",
    "#             cur_values = {f\"win_{col}{j-4}\": match[\"participants\"].iat[i][j][\"stats\"][col] for j in range(5,10)}\n",
    "#             temp = pd.concat([temp, pd.Series(cur_values)], axis=0, sort=False)\n",
    "#     stats_df = pd.concat([stats_df, temp], axis=1, sort=False)\n",
    "# stats_df = stats_df.T.reset_index(drop=True)\n",
    "\n",
    "# stats_df2 = pd.DataFrame()\n",
    "# for i in tqdm_notebook(range(30000,60000),desc=\"total\"):\n",
    "#     temp = pd.DataFrame()\n",
    "#     for col in use_cols:\n",
    "#         if (match[\"participants\"].iat[i][0][\"stats\"][\"win\"]):\n",
    "#             cur_values = {f\"win_{col}{j+1}\": match[\"participants\"].iat[i][j][\"stats\"][col] for j in range(5)}\n",
    "#             temp = pd.concat([temp, pd.Series(cur_values)], axis=0, sort=False)\n",
    "#         else:\n",
    "#             cur_values = {f\"win_{col}{j-4}\": match[\"participants\"].iat[i][j][\"stats\"][col] for j in range(5,10)}\n",
    "#             temp = pd.concat([temp, pd.Series(cur_values)], axis=0, sort=False)\n",
    "#     stats_df2 = pd.concat([stats_df2, temp], axis=1, sort=False)\n",
    "# stats_df2 = stats_df2.T.reset_index(drop=True)\n",
    "\n",
    "# win_stats_df = pd.concat([stats_df,stats_df2], ignore_index=True)\n",
    "\n",
    "# stats_df3 = pd.DataFrame()\n",
    "# for i in tqdm_notebook(range(60000,90500),desc=\"total\"):\n",
    "#     temp = pd.DataFrame()\n",
    "#     for col in use_cols:\n",
    "#         if (match[\"participants\"].iat[i][0][\"stats\"][\"win\"]):\n",
    "#             cur_values = {f\"win_{col}{j+1}\": match[\"participants\"].iat[i][j][\"stats\"][col] for j in range(5)}\n",
    "#             temp = pd.concat([temp, pd.Series(cur_values)], axis=0, sort=False)\n",
    "#         else:\n",
    "#             cur_values = {f\"win_{col}{j-4}\": match[\"participants\"].iat[i][j][\"stats\"][col] for j in range(5,10)}\n",
    "#             temp = pd.concat([temp, pd.Series(cur_values)], axis=0, sort=False)\n",
    "#     stats_df3 = pd.concat([stats_df3, temp], axis=1, sort=False)\n",
    "# stats_df3 = stats_df3.T.reset_index(drop=True)\n",
    "\n",
    "# win_stats_df = pd.concat([win_stats_df,stats_df3], ignore_index=True)\n",
    "\n",
    "# win_stats_df[\"gameId\"] = match[\"gameId\"]\n",
    "\n",
    "# win_stats_df.info()\n",
    "\n",
    "# win_stats_df.to_csv(\"win_team_stats.csv\",index=False)"
   ]
  },
  {
   "cell_type": "code",
   "execution_count": 14,
   "metadata": {
    "collapsed": true
   },
   "outputs": [
    {
     "data": {
      "text/plain": [
       "'\\n게임 한 판당 패배한 팀원들의 스탯\\n'"
      ]
     },
     "execution_count": 14,
     "metadata": {},
     "output_type": "execute_result"
    }
   ],
   "source": [
    "\"\"\"\n",
    "게임 한 판당 패배한 팀원들의 스탯\n",
    "\"\"\"\n",
    "# use_cols = [\"kills\",\"deaths\",\"totalDamageDealtToChampions\",\"goldEarned\", \"visionScore\",\"totalTimeCrowdControlDealt\"]\n",
    "# stats_df1 = pd.DataFrame()\n",
    "# for i in tqdm_notebook(range(30000),desc=\"total\"):\n",
    "#     temp = pd.DataFrame()\n",
    "#     for col in use_cols:\n",
    "#         if not(match[\"participants\"].iat[i][0][\"stats\"][\"win\"]):\n",
    "#             cur_values = {f\"lose_{col}{j+1}\": match[\"participants\"].iat[i][j][\"stats\"][col] for j in range(5)}\n",
    "#             temp = pd.concat([temp, pd.Series(cur_values)], axis=0, sort=False)\n",
    "#         else:\n",
    "#             cur_values = {f\"lose_{col}{j-4}\": match[\"participants\"].iat[i][j][\"stats\"][col] for j in range(5,10)}\n",
    "#             temp = pd.concat([temp, pd.Series(cur_values)], axis=0, sort=False)\n",
    "#     stats_df1 = pd.concat([stats_df1, temp], axis=1, sort=False)\n",
    "# stats_df1 = stats_df1.T.reset_index(drop=True)\n",
    "\n",
    "# stats_df2 = pd.DataFrame()\n",
    "# for i in tqdm_notebook(range(30000,60000),desc=\"total\"):\n",
    "#     temp = pd.DataFrame()\n",
    "#     for col in use_cols:\n",
    "#         if not(match[\"participants\"].iat[i][0][\"stats\"][\"win\"]):\n",
    "#             cur_values = {f\"lose_{col}{j+1}\": match[\"participants\"].iat[i][j][\"stats\"][col] for j in range(5)}\n",
    "#             temp = pd.concat([temp, pd.Series(cur_values)], axis=0, sort=False)\n",
    "#         else:\n",
    "#             cur_values = {f\"lose_{col}{j-4}\": match[\"participants\"].iat[i][j][\"stats\"][col] for j in range(5,10)}\n",
    "#             temp = pd.concat([temp, pd.Series(cur_values)], axis=0, sort=False)\n",
    "#     stats_df2 = pd.concat([stats_df2, temp], axis=1, sort=False)\n",
    "# stats_df2 = stats_df2.T.reset_index(drop=True)\n",
    "\n",
    "# lose_stats_df = pd.concat([stats_df1,stats_df2], ignore_index=True)\n",
    "\n",
    "# stats_df3 = pd.DataFrame()\n",
    "# for i in tqdm_notebook(range(60000,90500),desc=\"total\"):\n",
    "#     temp = pd.DataFrame()\n",
    "#     for col in use_cols:\n",
    "#         if not(match[\"participants\"].iat[i][0][\"stats\"][\"win\"]):\n",
    "#             cur_values = {f\"lose_{col}{j+1}\": match[\"participants\"].iat[i][j][\"stats\"][col] for j in range(5)}\n",
    "#             temp = pd.concat([temp, pd.Series(cur_values)], axis=0, sort=False)\n",
    "#         else:\n",
    "#             cur_values = {f\"lose_{col}{j-4}\": match[\"participants\"].iat[i][j][\"stats\"][col] for j in range(5,10)}\n",
    "#             temp = pd.concat([temp, pd.Series(cur_values)], axis=0, sort=False)\n",
    "#     stats_df3 = pd.concat([stats_df3, temp], axis=1, sort=False)\n",
    "# stats_df3 = stats_df3.T.reset_index(drop=True)\n",
    "\n",
    "# lose_stats_df = pd.concat([lose_stats_df,stats_df3], ignore_index=True)\n",
    "\n",
    "# lose_stats_df[\"gameId\"] = match[\"gameId\"]\n",
    "\n",
    "# lose_stats_df.info()\n",
    "\n",
    "# lose_stats_df.to_csv(\"lose_team_stats.csv\",index=False)"
   ]
  },
  {
   "cell_type": "markdown",
   "execution_count": null,
   "metadata": {},
   "source": [
    "![](https://i.imgur.com/SkvV8nb.png)"
   ]
  },
  {
   "cell_type": "code",
   "execution_count": 15,
   "metadata": {},
   "outputs": [
    {
     "data": {
      "text/plain": [
       "'\\nmatch 데이터가 차지하는 램 용량이 너무 커서 전처리\\n'"
      ]
     },
     "execution_count": 15,
     "metadata": {},
     "output_type": "execute_result"
    }
   ],
   "source": [
    "\"\"\"\n",
    "match 데이터가 차지하는 램 용량이 너무 커서 전처리\n",
    "\"\"\"\n",
    "# match = pd.read_pickle(\"/kaggle/input/lol-classic-rank-game-datakrtop-3-tier/match_ver1.pkl\")\n",
    "# match = match[match[\"gameMode\"] == \"CLASSIC\"]\n",
    "# match.drop([\"gameCreation\",\"gameMode\",\"gameType\",\"mapId\",\"platformId\",\"status.message\",\"status.status_code\"],axis=1,inplace=True)\n",
    "# match['gameVersion'] = match['gameVersion'].str.split(\".\").map(lambda x: \"\".join(x))\n",
    "# match.to_pickle(\"matchpre.pkl\")"
   ]
  },
  {
   "cell_type": "markdown",
   "execution_count": null,
   "metadata": {},
   "source": [
    "매치 데이터에서 소환사의 협곡 게임(5대5)만 분석할 것이므로 클래식 게임에 대한 데이터만 남김\n",
    "\n",
    "승패 예측에 필요없는 칼럼 제거\n",
    "\n",
    "gameVersion 전처리"
   ]
  }
 ],
 "metadata": {
  "kernelspec": {
   "display_name": "Python 3",
   "language": "python",
   "name": "python3"
  },
  "language_info": {
   "codemirror_mode": {
    "name": "ipython",
    "version": 3
   },
   "file_extension": ".py",
   "mimetype": "text/x-python",
   "name": "python",
   "nbconvert_exporter": "python",
   "pygments_lexer": "ipython3",
   "version": "3.6.6"
  }
 },
 "nbformat": 4,
 "nbformat_minor": 4
}
